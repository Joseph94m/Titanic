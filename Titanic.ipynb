{
 "cells": [
  {
   "cell_type": "markdown",
   "metadata": {},
   "source": [
    "# Titanic data set"
   ]
  },
  {
   "cell_type": "code",
   "execution_count": 1,
   "metadata": {},
   "outputs": [],
   "source": [
    "%matplotlib inline\n",
    "\n",
    "import matplotlib\n",
    "import numpy as np\n",
    "import matplotlib.pyplot as plt\n",
    "import pandas as pd"
   ]
  },
  {
   "cell_type": "code",
   "execution_count": 2,
   "metadata": {},
   "outputs": [],
   "source": [
    "train=pd.read_csv('train.csv')\n",
    "test=pd.read_csv('test.csv')\n",
    "test_x=test.drop('PassengerId',1)\n",
    "train_x=train.drop('PassengerId',1)"
   ]
  },
  {
   "cell_type": "code",
   "execution_count": 3,
   "metadata": {},
   "outputs": [
    {
     "data": {
      "text/html": [
       "<div>\n",
       "<style>\n",
       "    .dataframe thead tr:only-child th {\n",
       "        text-align: right;\n",
       "    }\n",
       "\n",
       "    .dataframe thead th {\n",
       "        text-align: left;\n",
       "    }\n",
       "\n",
       "    .dataframe tbody tr th {\n",
       "        vertical-align: top;\n",
       "    }\n",
       "</style>\n",
       "<table border=\"1\" class=\"dataframe\">\n",
       "  <thead>\n",
       "    <tr style=\"text-align: right;\">\n",
       "      <th></th>\n",
       "      <th>Survived</th>\n",
       "      <th>Pclass</th>\n",
       "      <th>Name</th>\n",
       "      <th>Sex</th>\n",
       "      <th>Age</th>\n",
       "      <th>SibSp</th>\n",
       "      <th>Parch</th>\n",
       "      <th>Ticket</th>\n",
       "      <th>Fare</th>\n",
       "      <th>Cabin</th>\n",
       "      <th>Embarked</th>\n",
       "    </tr>\n",
       "  </thead>\n",
       "  <tbody>\n",
       "    <tr>\n",
       "      <th>0</th>\n",
       "      <td>0</td>\n",
       "      <td>3</td>\n",
       "      <td>Braund, Mr. Owen Harris</td>\n",
       "      <td>male</td>\n",
       "      <td>22.0</td>\n",
       "      <td>1</td>\n",
       "      <td>0</td>\n",
       "      <td>A/5 21171</td>\n",
       "      <td>7.2500</td>\n",
       "      <td>NaN</td>\n",
       "      <td>S</td>\n",
       "    </tr>\n",
       "    <tr>\n",
       "      <th>1</th>\n",
       "      <td>1</td>\n",
       "      <td>1</td>\n",
       "      <td>Cumings, Mrs. John Bradley (Florence Briggs Th...</td>\n",
       "      <td>female</td>\n",
       "      <td>38.0</td>\n",
       "      <td>1</td>\n",
       "      <td>0</td>\n",
       "      <td>PC 17599</td>\n",
       "      <td>71.2833</td>\n",
       "      <td>C85</td>\n",
       "      <td>C</td>\n",
       "    </tr>\n",
       "    <tr>\n",
       "      <th>2</th>\n",
       "      <td>1</td>\n",
       "      <td>3</td>\n",
       "      <td>Heikkinen, Miss. Laina</td>\n",
       "      <td>female</td>\n",
       "      <td>26.0</td>\n",
       "      <td>0</td>\n",
       "      <td>0</td>\n",
       "      <td>STON/O2. 3101282</td>\n",
       "      <td>7.9250</td>\n",
       "      <td>NaN</td>\n",
       "      <td>S</td>\n",
       "    </tr>\n",
       "    <tr>\n",
       "      <th>3</th>\n",
       "      <td>1</td>\n",
       "      <td>1</td>\n",
       "      <td>Futrelle, Mrs. Jacques Heath (Lily May Peel)</td>\n",
       "      <td>female</td>\n",
       "      <td>35.0</td>\n",
       "      <td>1</td>\n",
       "      <td>0</td>\n",
       "      <td>113803</td>\n",
       "      <td>53.1000</td>\n",
       "      <td>C123</td>\n",
       "      <td>S</td>\n",
       "    </tr>\n",
       "    <tr>\n",
       "      <th>4</th>\n",
       "      <td>0</td>\n",
       "      <td>3</td>\n",
       "      <td>Allen, Mr. William Henry</td>\n",
       "      <td>male</td>\n",
       "      <td>35.0</td>\n",
       "      <td>0</td>\n",
       "      <td>0</td>\n",
       "      <td>373450</td>\n",
       "      <td>8.0500</td>\n",
       "      <td>NaN</td>\n",
       "      <td>S</td>\n",
       "    </tr>\n",
       "  </tbody>\n",
       "</table>\n",
       "</div>"
      ],
      "text/plain": [
       "   Survived  Pclass                                               Name  \\\n",
       "0         0       3                            Braund, Mr. Owen Harris   \n",
       "1         1       1  Cumings, Mrs. John Bradley (Florence Briggs Th...   \n",
       "2         1       3                             Heikkinen, Miss. Laina   \n",
       "3         1       1       Futrelle, Mrs. Jacques Heath (Lily May Peel)   \n",
       "4         0       3                           Allen, Mr. William Henry   \n",
       "\n",
       "      Sex   Age  SibSp  Parch            Ticket     Fare Cabin Embarked  \n",
       "0    male  22.0      1      0         A/5 21171   7.2500   NaN        S  \n",
       "1  female  38.0      1      0          PC 17599  71.2833   C85        C  \n",
       "2  female  26.0      0      0  STON/O2. 3101282   7.9250   NaN        S  \n",
       "3  female  35.0      1      0            113803  53.1000  C123        S  \n",
       "4    male  35.0      0      0            373450   8.0500   NaN        S  "
      ]
     },
     "execution_count": 3,
     "metadata": {},
     "output_type": "execute_result"
    }
   ],
   "source": [
    "train_x.head(5)"
   ]
  },
  {
   "cell_type": "markdown",
   "metadata": {},
   "source": [
    "## The ticket column is probably not important. There is seemingly no patterns in there. We will drop this column."
   ]
  },
  {
   "cell_type": "code",
   "execution_count": 4,
   "metadata": {},
   "outputs": [],
   "source": [
    "train_x=train_x.drop(['Ticket'],1)\n",
    "test_x=test_x.drop(['Ticket'],1)"
   ]
  },
  {
   "cell_type": "code",
   "execution_count": 5,
   "metadata": {},
   "outputs": [
    {
     "data": {
      "text/html": [
       "<div>\n",
       "<style>\n",
       "    .dataframe thead tr:only-child th {\n",
       "        text-align: right;\n",
       "    }\n",
       "\n",
       "    .dataframe thead th {\n",
       "        text-align: left;\n",
       "    }\n",
       "\n",
       "    .dataframe tbody tr th {\n",
       "        vertical-align: top;\n",
       "    }\n",
       "</style>\n",
       "<table border=\"1\" class=\"dataframe\">\n",
       "  <thead>\n",
       "    <tr style=\"text-align: right;\">\n",
       "      <th></th>\n",
       "      <th>Survived</th>\n",
       "      <th>Pclass</th>\n",
       "      <th>Name</th>\n",
       "      <th>Sex</th>\n",
       "      <th>Age</th>\n",
       "      <th>SibSp</th>\n",
       "      <th>Parch</th>\n",
       "      <th>Fare</th>\n",
       "      <th>Cabin</th>\n",
       "      <th>Embarked</th>\n",
       "    </tr>\n",
       "  </thead>\n",
       "  <tbody>\n",
       "    <tr>\n",
       "      <th>0</th>\n",
       "      <td>0</td>\n",
       "      <td>3</td>\n",
       "      <td>Braund, Mr. Owen Harris</td>\n",
       "      <td>male</td>\n",
       "      <td>22.0</td>\n",
       "      <td>1</td>\n",
       "      <td>0</td>\n",
       "      <td>7.2500</td>\n",
       "      <td>NaN</td>\n",
       "      <td>S</td>\n",
       "    </tr>\n",
       "    <tr>\n",
       "      <th>1</th>\n",
       "      <td>1</td>\n",
       "      <td>1</td>\n",
       "      <td>Cumings, Mrs. John Bradley (Florence Briggs Th...</td>\n",
       "      <td>female</td>\n",
       "      <td>38.0</td>\n",
       "      <td>1</td>\n",
       "      <td>0</td>\n",
       "      <td>71.2833</td>\n",
       "      <td>C85</td>\n",
       "      <td>C</td>\n",
       "    </tr>\n",
       "    <tr>\n",
       "      <th>2</th>\n",
       "      <td>1</td>\n",
       "      <td>3</td>\n",
       "      <td>Heikkinen, Miss. Laina</td>\n",
       "      <td>female</td>\n",
       "      <td>26.0</td>\n",
       "      <td>0</td>\n",
       "      <td>0</td>\n",
       "      <td>7.9250</td>\n",
       "      <td>NaN</td>\n",
       "      <td>S</td>\n",
       "    </tr>\n",
       "    <tr>\n",
       "      <th>3</th>\n",
       "      <td>1</td>\n",
       "      <td>1</td>\n",
       "      <td>Futrelle, Mrs. Jacques Heath (Lily May Peel)</td>\n",
       "      <td>female</td>\n",
       "      <td>35.0</td>\n",
       "      <td>1</td>\n",
       "      <td>0</td>\n",
       "      <td>53.1000</td>\n",
       "      <td>C123</td>\n",
       "      <td>S</td>\n",
       "    </tr>\n",
       "    <tr>\n",
       "      <th>4</th>\n",
       "      <td>0</td>\n",
       "      <td>3</td>\n",
       "      <td>Allen, Mr. William Henry</td>\n",
       "      <td>male</td>\n",
       "      <td>35.0</td>\n",
       "      <td>0</td>\n",
       "      <td>0</td>\n",
       "      <td>8.0500</td>\n",
       "      <td>NaN</td>\n",
       "      <td>S</td>\n",
       "    </tr>\n",
       "  </tbody>\n",
       "</table>\n",
       "</div>"
      ],
      "text/plain": [
       "   Survived  Pclass                                               Name  \\\n",
       "0         0       3                            Braund, Mr. Owen Harris   \n",
       "1         1       1  Cumings, Mrs. John Bradley (Florence Briggs Th...   \n",
       "2         1       3                             Heikkinen, Miss. Laina   \n",
       "3         1       1       Futrelle, Mrs. Jacques Heath (Lily May Peel)   \n",
       "4         0       3                           Allen, Mr. William Henry   \n",
       "\n",
       "      Sex   Age  SibSp  Parch     Fare Cabin Embarked  \n",
       "0    male  22.0      1      0   7.2500   NaN        S  \n",
       "1  female  38.0      1      0  71.2833   C85        C  \n",
       "2  female  26.0      0      0   7.9250   NaN        S  \n",
       "3  female  35.0      1      0  53.1000  C123        S  \n",
       "4    male  35.0      0      0   8.0500   NaN        S  "
      ]
     },
     "execution_count": 5,
     "metadata": {},
     "output_type": "execute_result"
    }
   ],
   "source": [
    "train_x.head(5)"
   ]
  },
  {
   "cell_type": "markdown",
   "metadata": {},
   "source": [
    "## Let's see which columns have missing values."
   ]
  },
  {
   "cell_type": "code",
   "execution_count": 6,
   "metadata": {},
   "outputs": [
    {
     "name": "stdout",
     "output_type": "stream",
     "text": [
      "Survived    0.000000\n",
      "Pclass      0.000000\n",
      "Name        0.000000\n",
      "Sex         0.000000\n",
      "Age         0.198653\n",
      "SibSp       0.000000\n",
      "Parch       0.000000\n",
      "Fare        0.000000\n",
      "Cabin       0.771044\n",
      "Embarked    0.002245\n",
      "dtype: float64\n",
      "Pclass      0.000000\n",
      "Name        0.000000\n",
      "Sex         0.000000\n",
      "Age         0.205742\n",
      "SibSp       0.000000\n",
      "Parch       0.000000\n",
      "Fare        0.002392\n",
      "Cabin       0.782297\n",
      "Embarked    0.000000\n",
      "dtype: float64\n"
     ]
    }
   ],
   "source": [
    "print(train_x.isnull().sum() /train_x.shape[0])\n",
    "print(test_x.isnull().sum() /test_x.shape[0])"
   ]
  },
  {
   "cell_type": "markdown",
   "metadata": {},
   "source": [
    "## Most of the cabin information is unknown. We could either choose to drop this column, or assume that people with Cabin = 'NaN' simply didn't have a cabin. We will go with this second assumption for now. For the age and the fare, we will replace the missing values with the median age."
   ]
  },
  {
   "cell_type": "code",
   "execution_count": 7,
   "metadata": {},
   "outputs": [],
   "source": [
    "median_age=np.median(train_x['Age'].dropna())\n",
    "train_x['Age']=train_x['Age'].fillna(median_age)\n",
    "median_age=np.median(test_x['Age'].dropna())\n",
    "test_x['Age']=test_x['Age'].fillna(median_age)\n",
    "test_x['Fare'] = test_x['Fare'].fillna(test_x['Fare'].dropna().median())"
   ]
  },
  {
   "cell_type": "code",
   "execution_count": 8,
   "metadata": {},
   "outputs": [],
   "source": [
    "train_x.loc[train_x['Cabin'].isnull(), 'Cabin'] = 0\n",
    "train_x.loc[train_x['Cabin'] != 0, 'Cabin'] = 1\n",
    "test_x.loc[test_x['Cabin'].isnull(), 'Cabin'] = 0\n",
    "test_x.loc[test_x['Cabin'] != 0, 'Cabin'] = 1"
   ]
  },
  {
   "cell_type": "markdown",
   "metadata": {},
   "source": [
    "## Let's see what we have so far"
   ]
  },
  {
   "cell_type": "code",
   "execution_count": 9,
   "metadata": {},
   "outputs": [
    {
     "data": {
      "text/html": [
       "<div>\n",
       "<style>\n",
       "    .dataframe thead tr:only-child th {\n",
       "        text-align: right;\n",
       "    }\n",
       "\n",
       "    .dataframe thead th {\n",
       "        text-align: left;\n",
       "    }\n",
       "\n",
       "    .dataframe tbody tr th {\n",
       "        vertical-align: top;\n",
       "    }\n",
       "</style>\n",
       "<table border=\"1\" class=\"dataframe\">\n",
       "  <thead>\n",
       "    <tr style=\"text-align: right;\">\n",
       "      <th></th>\n",
       "      <th>Survived</th>\n",
       "      <th>Pclass</th>\n",
       "      <th>Name</th>\n",
       "      <th>Sex</th>\n",
       "      <th>Age</th>\n",
       "      <th>SibSp</th>\n",
       "      <th>Parch</th>\n",
       "      <th>Fare</th>\n",
       "      <th>Cabin</th>\n",
       "      <th>Embarked</th>\n",
       "    </tr>\n",
       "  </thead>\n",
       "  <tbody>\n",
       "    <tr>\n",
       "      <th>0</th>\n",
       "      <td>0</td>\n",
       "      <td>3</td>\n",
       "      <td>Braund, Mr. Owen Harris</td>\n",
       "      <td>male</td>\n",
       "      <td>22.0</td>\n",
       "      <td>1</td>\n",
       "      <td>0</td>\n",
       "      <td>7.2500</td>\n",
       "      <td>0</td>\n",
       "      <td>S</td>\n",
       "    </tr>\n",
       "    <tr>\n",
       "      <th>1</th>\n",
       "      <td>1</td>\n",
       "      <td>1</td>\n",
       "      <td>Cumings, Mrs. John Bradley (Florence Briggs Th...</td>\n",
       "      <td>female</td>\n",
       "      <td>38.0</td>\n",
       "      <td>1</td>\n",
       "      <td>0</td>\n",
       "      <td>71.2833</td>\n",
       "      <td>1</td>\n",
       "      <td>C</td>\n",
       "    </tr>\n",
       "    <tr>\n",
       "      <th>2</th>\n",
       "      <td>1</td>\n",
       "      <td>3</td>\n",
       "      <td>Heikkinen, Miss. Laina</td>\n",
       "      <td>female</td>\n",
       "      <td>26.0</td>\n",
       "      <td>0</td>\n",
       "      <td>0</td>\n",
       "      <td>7.9250</td>\n",
       "      <td>0</td>\n",
       "      <td>S</td>\n",
       "    </tr>\n",
       "    <tr>\n",
       "      <th>3</th>\n",
       "      <td>1</td>\n",
       "      <td>1</td>\n",
       "      <td>Futrelle, Mrs. Jacques Heath (Lily May Peel)</td>\n",
       "      <td>female</td>\n",
       "      <td>35.0</td>\n",
       "      <td>1</td>\n",
       "      <td>0</td>\n",
       "      <td>53.1000</td>\n",
       "      <td>1</td>\n",
       "      <td>S</td>\n",
       "    </tr>\n",
       "    <tr>\n",
       "      <th>4</th>\n",
       "      <td>0</td>\n",
       "      <td>3</td>\n",
       "      <td>Allen, Mr. William Henry</td>\n",
       "      <td>male</td>\n",
       "      <td>35.0</td>\n",
       "      <td>0</td>\n",
       "      <td>0</td>\n",
       "      <td>8.0500</td>\n",
       "      <td>0</td>\n",
       "      <td>S</td>\n",
       "    </tr>\n",
       "  </tbody>\n",
       "</table>\n",
       "</div>"
      ],
      "text/plain": [
       "   Survived  Pclass                                               Name  \\\n",
       "0         0       3                            Braund, Mr. Owen Harris   \n",
       "1         1       1  Cumings, Mrs. John Bradley (Florence Briggs Th...   \n",
       "2         1       3                             Heikkinen, Miss. Laina   \n",
       "3         1       1       Futrelle, Mrs. Jacques Heath (Lily May Peel)   \n",
       "4         0       3                           Allen, Mr. William Henry   \n",
       "\n",
       "      Sex   Age  SibSp  Parch     Fare Cabin Embarked  \n",
       "0    male  22.0      1      0   7.2500     0        S  \n",
       "1  female  38.0      1      0  71.2833     1        C  \n",
       "2  female  26.0      0      0   7.9250     0        S  \n",
       "3  female  35.0      1      0  53.1000     1        S  \n",
       "4    male  35.0      0      0   8.0500     0        S  "
      ]
     },
     "execution_count": 9,
     "metadata": {},
     "output_type": "execute_result"
    }
   ],
   "source": [
    "train_x.head(5)"
   ]
  },
  {
   "cell_type": "markdown",
   "metadata": {},
   "source": [
    "## Does it matter where a passenger embarks from? Maybe. We will assign a numeric value to each of the Embarked zones."
   ]
  },
  {
   "cell_type": "code",
   "execution_count": 10,
   "metadata": {},
   "outputs": [
    {
     "data": {
      "text/plain": [
       "array(['S', 'C', 'Q', nan], dtype=object)"
      ]
     },
     "execution_count": 10,
     "metadata": {},
     "output_type": "execute_result"
    }
   ],
   "source": [
    "train_x['Embarked'].unique()"
   ]
  },
  {
   "cell_type": "markdown",
   "metadata": {},
   "source": [
    "## First we will replace nan values with the max of (S, C, Q). Then we assign an int to each value."
   ]
  },
  {
   "cell_type": "code",
   "execution_count": 11,
   "metadata": {},
   "outputs": [
    {
     "name": "stdout",
     "output_type": "stream",
     "text": [
      "646\n",
      "168\n",
      "77\n"
     ]
    }
   ],
   "source": [
    "train_x['Embarked']=train_x['Embarked'].fillna('S')\n",
    "test_x['Embarked']=test_x['Embarked'].fillna('S')\n",
    "print(train_x['Embarked'][train_x['Embarked']=='S'].count())\n",
    "print(train_x['Embarked'][train_x['Embarked']=='C'].count())\n",
    "print(train_x['Embarked'][train_x['Embarked']=='Q'].count())\n"
   ]
  },
  {
   "cell_type": "code",
   "execution_count": 12,
   "metadata": {},
   "outputs": [],
   "source": [
    "train_x['Embarked']=train_x['Embarked'].replace({'S': 0, 'C': 1, 'Q':2})\n",
    "test_x['Embarked']=test_x['Embarked'].replace({'S': 0, 'C': 1, 'Q':2})"
   ]
  },
  {
   "cell_type": "code",
   "execution_count": 13,
   "metadata": {},
   "outputs": [
    {
     "name": "stdout",
     "output_type": "stream",
     "text": [
      "Survived    0.0\n",
      "Pclass      0.0\n",
      "Name        0.0\n",
      "Sex         0.0\n",
      "Age         0.0\n",
      "SibSp       0.0\n",
      "Parch       0.0\n",
      "Fare        0.0\n",
      "Cabin       0.0\n",
      "Embarked    0.0\n",
      "dtype: float64\n",
      "Pclass      0.0\n",
      "Name        0.0\n",
      "Sex         0.0\n",
      "Age         0.0\n",
      "SibSp       0.0\n",
      "Parch       0.0\n",
      "Fare        0.0\n",
      "Cabin       0.0\n",
      "Embarked    0.0\n",
      "dtype: float64\n"
     ]
    }
   ],
   "source": [
    "#No more empty values\n",
    "print(train_x.isnull().sum() /train_x.shape[0])\n",
    "print(test_x.isnull().sum() /test_x.shape[0])"
   ]
  },
  {
   "cell_type": "code",
   "execution_count": 14,
   "metadata": {},
   "outputs": [
    {
     "data": {
      "text/html": [
       "<div>\n",
       "<style>\n",
       "    .dataframe thead tr:only-child th {\n",
       "        text-align: right;\n",
       "    }\n",
       "\n",
       "    .dataframe thead th {\n",
       "        text-align: left;\n",
       "    }\n",
       "\n",
       "    .dataframe tbody tr th {\n",
       "        vertical-align: top;\n",
       "    }\n",
       "</style>\n",
       "<table border=\"1\" class=\"dataframe\">\n",
       "  <thead>\n",
       "    <tr style=\"text-align: right;\">\n",
       "      <th></th>\n",
       "      <th>Survived</th>\n",
       "      <th>Pclass</th>\n",
       "      <th>Name</th>\n",
       "      <th>Sex</th>\n",
       "      <th>Age</th>\n",
       "      <th>SibSp</th>\n",
       "      <th>Parch</th>\n",
       "      <th>Fare</th>\n",
       "      <th>Cabin</th>\n",
       "      <th>Embarked</th>\n",
       "    </tr>\n",
       "  </thead>\n",
       "  <tbody>\n",
       "    <tr>\n",
       "      <th>0</th>\n",
       "      <td>0</td>\n",
       "      <td>3</td>\n",
       "      <td>Braund, Mr. Owen Harris</td>\n",
       "      <td>male</td>\n",
       "      <td>22.0</td>\n",
       "      <td>1</td>\n",
       "      <td>0</td>\n",
       "      <td>7.2500</td>\n",
       "      <td>0</td>\n",
       "      <td>0</td>\n",
       "    </tr>\n",
       "    <tr>\n",
       "      <th>1</th>\n",
       "      <td>1</td>\n",
       "      <td>1</td>\n",
       "      <td>Cumings, Mrs. John Bradley (Florence Briggs Th...</td>\n",
       "      <td>female</td>\n",
       "      <td>38.0</td>\n",
       "      <td>1</td>\n",
       "      <td>0</td>\n",
       "      <td>71.2833</td>\n",
       "      <td>1</td>\n",
       "      <td>1</td>\n",
       "    </tr>\n",
       "    <tr>\n",
       "      <th>2</th>\n",
       "      <td>1</td>\n",
       "      <td>3</td>\n",
       "      <td>Heikkinen, Miss. Laina</td>\n",
       "      <td>female</td>\n",
       "      <td>26.0</td>\n",
       "      <td>0</td>\n",
       "      <td>0</td>\n",
       "      <td>7.9250</td>\n",
       "      <td>0</td>\n",
       "      <td>0</td>\n",
       "    </tr>\n",
       "    <tr>\n",
       "      <th>3</th>\n",
       "      <td>1</td>\n",
       "      <td>1</td>\n",
       "      <td>Futrelle, Mrs. Jacques Heath (Lily May Peel)</td>\n",
       "      <td>female</td>\n",
       "      <td>35.0</td>\n",
       "      <td>1</td>\n",
       "      <td>0</td>\n",
       "      <td>53.1000</td>\n",
       "      <td>1</td>\n",
       "      <td>0</td>\n",
       "    </tr>\n",
       "    <tr>\n",
       "      <th>4</th>\n",
       "      <td>0</td>\n",
       "      <td>3</td>\n",
       "      <td>Allen, Mr. William Henry</td>\n",
       "      <td>male</td>\n",
       "      <td>35.0</td>\n",
       "      <td>0</td>\n",
       "      <td>0</td>\n",
       "      <td>8.0500</td>\n",
       "      <td>0</td>\n",
       "      <td>0</td>\n",
       "    </tr>\n",
       "  </tbody>\n",
       "</table>\n",
       "</div>"
      ],
      "text/plain": [
       "   Survived  Pclass                                               Name  \\\n",
       "0         0       3                            Braund, Mr. Owen Harris   \n",
       "1         1       1  Cumings, Mrs. John Bradley (Florence Briggs Th...   \n",
       "2         1       3                             Heikkinen, Miss. Laina   \n",
       "3         1       1       Futrelle, Mrs. Jacques Heath (Lily May Peel)   \n",
       "4         0       3                           Allen, Mr. William Henry   \n",
       "\n",
       "      Sex   Age  SibSp  Parch     Fare Cabin  Embarked  \n",
       "0    male  22.0      1      0   7.2500     0         0  \n",
       "1  female  38.0      1      0  71.2833     1         1  \n",
       "2  female  26.0      0      0   7.9250     0         0  \n",
       "3  female  35.0      1      0  53.1000     1         0  \n",
       "4    male  35.0      0      0   8.0500     0         0  "
      ]
     },
     "execution_count": 14,
     "metadata": {},
     "output_type": "execute_result"
    }
   ],
   "source": [
    "train_x.head(5)"
   ]
  },
  {
   "cell_type": "markdown",
   "metadata": {},
   "source": [
    "## Replace male by 0 and female by 1. Alternatively we could one-hot encode these variables for better param learning."
   ]
  },
  {
   "cell_type": "code",
   "execution_count": 15,
   "metadata": {},
   "outputs": [],
   "source": [
    "train_x['Sex']=train_x['Sex'].replace('male',0)\n",
    "train_x['Sex']=train_x['Sex'].replace('female',1)\n",
    "test_x['Sex']=test_x['Sex'].replace('male',0)\n",
    "test_x['Sex']=test_x['Sex'].replace('female',1)"
   ]
  },
  {
   "cell_type": "code",
   "execution_count": 16,
   "metadata": {},
   "outputs": [
    {
     "data": {
      "text/html": [
       "<div>\n",
       "<style>\n",
       "    .dataframe thead tr:only-child th {\n",
       "        text-align: right;\n",
       "    }\n",
       "\n",
       "    .dataframe thead th {\n",
       "        text-align: left;\n",
       "    }\n",
       "\n",
       "    .dataframe tbody tr th {\n",
       "        vertical-align: top;\n",
       "    }\n",
       "</style>\n",
       "<table border=\"1\" class=\"dataframe\">\n",
       "  <thead>\n",
       "    <tr style=\"text-align: right;\">\n",
       "      <th></th>\n",
       "      <th>Survived</th>\n",
       "      <th>Pclass</th>\n",
       "      <th>Name</th>\n",
       "      <th>Sex</th>\n",
       "      <th>Age</th>\n",
       "      <th>SibSp</th>\n",
       "      <th>Parch</th>\n",
       "      <th>Fare</th>\n",
       "      <th>Cabin</th>\n",
       "      <th>Embarked</th>\n",
       "    </tr>\n",
       "  </thead>\n",
       "  <tbody>\n",
       "    <tr>\n",
       "      <th>0</th>\n",
       "      <td>0</td>\n",
       "      <td>3</td>\n",
       "      <td>Braund, Mr. Owen Harris</td>\n",
       "      <td>0</td>\n",
       "      <td>22.0</td>\n",
       "      <td>1</td>\n",
       "      <td>0</td>\n",
       "      <td>7.2500</td>\n",
       "      <td>0</td>\n",
       "      <td>0</td>\n",
       "    </tr>\n",
       "    <tr>\n",
       "      <th>1</th>\n",
       "      <td>1</td>\n",
       "      <td>1</td>\n",
       "      <td>Cumings, Mrs. John Bradley (Florence Briggs Th...</td>\n",
       "      <td>1</td>\n",
       "      <td>38.0</td>\n",
       "      <td>1</td>\n",
       "      <td>0</td>\n",
       "      <td>71.2833</td>\n",
       "      <td>1</td>\n",
       "      <td>1</td>\n",
       "    </tr>\n",
       "    <tr>\n",
       "      <th>2</th>\n",
       "      <td>1</td>\n",
       "      <td>3</td>\n",
       "      <td>Heikkinen, Miss. Laina</td>\n",
       "      <td>1</td>\n",
       "      <td>26.0</td>\n",
       "      <td>0</td>\n",
       "      <td>0</td>\n",
       "      <td>7.9250</td>\n",
       "      <td>0</td>\n",
       "      <td>0</td>\n",
       "    </tr>\n",
       "    <tr>\n",
       "      <th>3</th>\n",
       "      <td>1</td>\n",
       "      <td>1</td>\n",
       "      <td>Futrelle, Mrs. Jacques Heath (Lily May Peel)</td>\n",
       "      <td>1</td>\n",
       "      <td>35.0</td>\n",
       "      <td>1</td>\n",
       "      <td>0</td>\n",
       "      <td>53.1000</td>\n",
       "      <td>1</td>\n",
       "      <td>0</td>\n",
       "    </tr>\n",
       "    <tr>\n",
       "      <th>4</th>\n",
       "      <td>0</td>\n",
       "      <td>3</td>\n",
       "      <td>Allen, Mr. William Henry</td>\n",
       "      <td>0</td>\n",
       "      <td>35.0</td>\n",
       "      <td>0</td>\n",
       "      <td>0</td>\n",
       "      <td>8.0500</td>\n",
       "      <td>0</td>\n",
       "      <td>0</td>\n",
       "    </tr>\n",
       "  </tbody>\n",
       "</table>\n",
       "</div>"
      ],
      "text/plain": [
       "   Survived  Pclass                                               Name  Sex  \\\n",
       "0         0       3                            Braund, Mr. Owen Harris    0   \n",
       "1         1       1  Cumings, Mrs. John Bradley (Florence Briggs Th...    1   \n",
       "2         1       3                             Heikkinen, Miss. Laina    1   \n",
       "3         1       1       Futrelle, Mrs. Jacques Heath (Lily May Peel)    1   \n",
       "4         0       3                           Allen, Mr. William Henry    0   \n",
       "\n",
       "    Age  SibSp  Parch     Fare Cabin  Embarked  \n",
       "0  22.0      1      0   7.2500     0         0  \n",
       "1  38.0      1      0  71.2833     1         1  \n",
       "2  26.0      0      0   7.9250     0         0  \n",
       "3  35.0      1      0  53.1000     1         0  \n",
       "4  35.0      0      0   8.0500     0         0  "
      ]
     },
     "execution_count": 16,
     "metadata": {},
     "output_type": "execute_result"
    }
   ],
   "source": [
    "train_x.head(5)"
   ]
  },
  {
   "cell_type": "markdown",
   "metadata": {},
   "source": [
    "## Let's check how the indicators are linearly correlated with the survival."
   ]
  },
  {
   "cell_type": "code",
   "execution_count": 17,
   "metadata": {},
   "outputs": [
    {
     "data": {
      "text/plain": [
       "Pclass     -0.338481\n",
       "Age        -0.064910\n",
       "SibSp      -0.035322\n",
       "Parch       0.081629\n",
       "Embarked    0.106811\n",
       "Fare        0.257307\n",
       "Sex         0.543351\n",
       "Survived    1.000000\n",
       "Name: Survived, dtype: float64"
      ]
     },
     "execution_count": 17,
     "metadata": {},
     "output_type": "execute_result"
    }
   ],
   "source": [
    "train_x_copied = train_x.copy()\n",
    "test_x_copied = test_x.copy()\n",
    "train_x.corr()['Survived'].sort_values()"
   ]
  },
  {
   "cell_type": "markdown",
   "metadata": {},
   "source": [
    "## The sex, the fare, the class and the embarkment location seem to have some correlation with the survival rate. The others are not well correlated. Can we engineer better features?"
   ]
  },
  {
   "cell_type": "markdown",
   "metadata": {},
   "source": [
    "## Let's see  how the fare price is distributed in order to bin the values."
   ]
  },
  {
   "cell_type": "code",
   "execution_count": 18,
   "metadata": {},
   "outputs": [
    {
     "name": "stdout",
     "output_type": "stream",
     "text": [
      "512.3292\n",
      "49.693428597180905\n"
     ]
    }
   ],
   "source": [
    "print(train_x['Fare'].max())\n",
    "print(train_x['Fare'].std())\n",
    "\n",
    "train_x = train_x_copied.copy()\n",
    "test_x =   test_x_copied.copy()"
   ]
  },
  {
   "cell_type": "code",
   "execution_count": 19,
   "metadata": {},
   "outputs": [
    {
     "data": {
      "image/png": "[encoded data removed]",
      "text/plain": [
       "<matplotlib.figure.Figure at 0x202ea228358>"
      ]
     },
     "metadata": {
      "needs_background": "light"
     },
     "output_type": "display_data"
    }
   ],
   "source": [
    "fig = plt.figure(figsize=(5,5))\n",
    "ax1=fig.add_subplot(1,1,1)\n",
    "values=ax1.hist(train_x['Fare'], bins=7)"
   ]
  },
  {
   "cell_type": "code",
   "execution_count": 20,
   "metadata": {},
   "outputs": [
    {
     "data": {
      "text/plain": [
       "(array([ 789.,   71.,   15.,   13.,    0.,    0.,    3.]),\n",
       " array([   0.        ,   73.18988571,  146.37977143,  219.56965714,\n",
       "         292.75954286,  365.94942857,  439.13931429,  512.3292    ]),\n",
       " <a list of 7 Patch objects>)"
      ]
     },
     "execution_count": 20,
     "metadata": {},
     "output_type": "execute_result"
    }
   ],
   "source": [
    "values"
   ]
  },
  {
   "cell_type": "markdown",
   "metadata": {},
   "source": [
    "## Run the following cell if you want Fare binning according to the above plot."
   ]
  },
  {
   "cell_type": "code",
   "execution_count": 21,
   "metadata": {},
   "outputs": [
    {
     "data": {
      "text/plain": [
       "Pclass     -0.338481\n",
       "Age        -0.064910\n",
       "SibSp      -0.035322\n",
       "Fare        0.077097\n",
       "Parch       0.081629\n",
       "Embarked    0.106811\n",
       "Sex         0.543351\n",
       "Survived    1.000000\n",
       "Name: Survived, dtype: float64"
      ]
     },
     "execution_count": 21,
     "metadata": {},
     "output_type": "execute_result"
    }
   ],
   "source": [
    "for i in range(1,len(values[1])):\n",
    "    train_x.loc[(train_x['Fare'] < values[1][i]) & (train_x['Fare'] >= values[1][i-1]),'Fare'] = i-1\n",
    "    test_x.loc[(test_x['Fare'] < values[1][i]) & (test_x['Fare'] >= values[1][i-1]),'Fare'] = i-1\n",
    "train_x.corr()['Survived'].sort_values()"
   ]
  },
  {
   "cell_type": "markdown",
   "metadata": {},
   "source": [
    "## The linear correlation dropped from 0.25 to 0.077. We cannot say if this reduces the effectiveness of prediction simply because the linear correlation value dropped. It might actually help fight overfitting. We will test this in the prediction part."
   ]
  },
  {
   "cell_type": "code",
   "execution_count": 22,
   "metadata": {},
   "outputs": [
    {
     "data": {
      "text/html": [
       "<div>\n",
       "<style>\n",
       "    .dataframe thead tr:only-child th {\n",
       "        text-align: right;\n",
       "    }\n",
       "\n",
       "    .dataframe thead th {\n",
       "        text-align: left;\n",
       "    }\n",
       "\n",
       "    .dataframe tbody tr th {\n",
       "        vertical-align: top;\n",
       "    }\n",
       "</style>\n",
       "<table border=\"1\" class=\"dataframe\">\n",
       "  <thead>\n",
       "    <tr style=\"text-align: right;\">\n",
       "      <th></th>\n",
       "      <th>Survived</th>\n",
       "      <th>Pclass</th>\n",
       "      <th>Name</th>\n",
       "      <th>Sex</th>\n",
       "      <th>Age</th>\n",
       "      <th>SibSp</th>\n",
       "      <th>Parch</th>\n",
       "      <th>Fare</th>\n",
       "      <th>Cabin</th>\n",
       "      <th>Embarked</th>\n",
       "    </tr>\n",
       "  </thead>\n",
       "  <tbody>\n",
       "    <tr>\n",
       "      <th>0</th>\n",
       "      <td>0</td>\n",
       "      <td>3</td>\n",
       "      <td>Braund, Mr. Owen Harris</td>\n",
       "      <td>0</td>\n",
       "      <td>22.0</td>\n",
       "      <td>1</td>\n",
       "      <td>0</td>\n",
       "      <td>0.0</td>\n",
       "      <td>0</td>\n",
       "      <td>0</td>\n",
       "    </tr>\n",
       "    <tr>\n",
       "      <th>1</th>\n",
       "      <td>1</td>\n",
       "      <td>1</td>\n",
       "      <td>Cumings, Mrs. John Bradley (Florence Briggs Th...</td>\n",
       "      <td>1</td>\n",
       "      <td>38.0</td>\n",
       "      <td>1</td>\n",
       "      <td>0</td>\n",
       "      <td>0.0</td>\n",
       "      <td>1</td>\n",
       "      <td>1</td>\n",
       "    </tr>\n",
       "    <tr>\n",
       "      <th>2</th>\n",
       "      <td>1</td>\n",
       "      <td>3</td>\n",
       "      <td>Heikkinen, Miss. Laina</td>\n",
       "      <td>1</td>\n",
       "      <td>26.0</td>\n",
       "      <td>0</td>\n",
       "      <td>0</td>\n",
       "      <td>0.0</td>\n",
       "      <td>0</td>\n",
       "      <td>0</td>\n",
       "    </tr>\n",
       "    <tr>\n",
       "      <th>3</th>\n",
       "      <td>1</td>\n",
       "      <td>1</td>\n",
       "      <td>Futrelle, Mrs. Jacques Heath (Lily May Peel)</td>\n",
       "      <td>1</td>\n",
       "      <td>35.0</td>\n",
       "      <td>1</td>\n",
       "      <td>0</td>\n",
       "      <td>0.0</td>\n",
       "      <td>1</td>\n",
       "      <td>0</td>\n",
       "    </tr>\n",
       "    <tr>\n",
       "      <th>4</th>\n",
       "      <td>0</td>\n",
       "      <td>3</td>\n",
       "      <td>Allen, Mr. William Henry</td>\n",
       "      <td>0</td>\n",
       "      <td>35.0</td>\n",
       "      <td>0</td>\n",
       "      <td>0</td>\n",
       "      <td>0.0</td>\n",
       "      <td>0</td>\n",
       "      <td>0</td>\n",
       "    </tr>\n",
       "  </tbody>\n",
       "</table>\n",
       "</div>"
      ],
      "text/plain": [
       "   Survived  Pclass                                               Name  Sex  \\\n",
       "0         0       3                            Braund, Mr. Owen Harris    0   \n",
       "1         1       1  Cumings, Mrs. John Bradley (Florence Briggs Th...    1   \n",
       "2         1       3                             Heikkinen, Miss. Laina    1   \n",
       "3         1       1       Futrelle, Mrs. Jacques Heath (Lily May Peel)    1   \n",
       "4         0       3                           Allen, Mr. William Henry    0   \n",
       "\n",
       "    Age  SibSp  Parch  Fare Cabin  Embarked  \n",
       "0  22.0      1      0   0.0     0         0  \n",
       "1  38.0      1      0   0.0     1         1  \n",
       "2  26.0      0      0   0.0     0         0  \n",
       "3  35.0      1      0   0.0     1         0  \n",
       "4  35.0      0      0   0.0     0         0  "
      ]
     },
     "execution_count": 22,
     "metadata": {},
     "output_type": "execute_result"
    }
   ],
   "source": [
    "train_x.head(5)"
   ]
  },
  {
   "cell_type": "markdown",
   "metadata": {},
   "source": [
    "## Let's see how the age is distributed in order to bin the values."
   ]
  },
  {
   "cell_type": "code",
   "execution_count": 23,
   "metadata": {},
   "outputs": [
    {
     "name": "stdout",
     "output_type": "stream",
     "text": [
      "80.0\n",
      "0.42\n",
      "13.019696550973194\n"
     ]
    }
   ],
   "source": [
    "print(train_x['Age'].max())\n",
    "print(train_x['Age'].min())\n",
    "print(train_x['Age'].std())"
   ]
  },
  {
   "cell_type": "code",
   "execution_count": 24,
   "metadata": {},
   "outputs": [
    {
     "data": {
      "image/png": "[encoded data removed]",
      "text/plain": [
       "<matplotlib.figure.Figure at 0x202e85b74a8>"
      ]
     },
     "metadata": {
      "needs_background": "light"
     },
     "output_type": "display_data"
    }
   ],
   "source": [
    "fig = plt.figure(figsize=(5,5))\n",
    "ax1=fig.add_subplot(1,1,1)\n",
    "values=ax1.hist(train_x['Age'], bins=7)"
   ]
  },
  {
   "cell_type": "code",
   "execution_count": 25,
   "metadata": {},
   "outputs": [
    {
     "data": {
      "text/plain": [
       "(array([  68.,  178.,  410.,  134.,   68.,   26.,    7.]),\n",
       " array([  0.42      ,  11.78857143,  23.15714286,  34.52571429,\n",
       "         45.89428571,  57.26285714,  68.63142857,  80.        ]),\n",
       " <a list of 7 Patch objects>)"
      ]
     },
     "execution_count": 25,
     "metadata": {},
     "output_type": "execute_result"
    }
   ],
   "source": [
    "values"
   ]
  },
  {
   "cell_type": "markdown",
   "metadata": {},
   "source": [
    "## Run the following cell if you want Age binning according to the above plot."
   ]
  },
  {
   "cell_type": "code",
   "execution_count": 26,
   "metadata": {},
   "outputs": [
    {
     "data": {
      "text/plain": [
       "Pclass     -0.338481\n",
       "SibSp      -0.035322\n",
       "Age         0.018445\n",
       "Fare        0.077097\n",
       "Parch       0.081629\n",
       "Embarked    0.106811\n",
       "Sex         0.543351\n",
       "Survived    1.000000\n",
       "Name: Survived, dtype: float64"
      ]
     },
     "execution_count": 26,
     "metadata": {},
     "output_type": "execute_result"
    }
   ],
   "source": [
    "for i in range(1,len(values[1])):\n",
    "    train_x.loc[(train_x['Age'] < values[1][i]) & (train_x['Age'] >= values[1][i-1]),'Age'] = i-1\n",
    "    test_x.loc[(test_x['Age'] < values[1][i]) & (test_x['Age'] >= values[1][i-1]),'Age'] = i-1\n",
    "train_x.corr()['Survived'].sort_values()"
   ]
  },
  {
   "cell_type": "markdown",
   "metadata": {},
   "source": [
    "## The linear correlation changed from -0.06 to 0.018. We cannot say if this reduces the effectiveness of prediction simply because the linear correlation value dropped. It might actually help fight overfitting. We will test this in the prediction part."
   ]
  },
  {
   "cell_type": "code",
   "execution_count": 27,
   "metadata": {},
   "outputs": [
    {
     "data": {
      "text/html": [
       "<div>\n",
       "<style>\n",
       "    .dataframe thead tr:only-child th {\n",
       "        text-align: right;\n",
       "    }\n",
       "\n",
       "    .dataframe thead th {\n",
       "        text-align: left;\n",
       "    }\n",
       "\n",
       "    .dataframe tbody tr th {\n",
       "        vertical-align: top;\n",
       "    }\n",
       "</style>\n",
       "<table border=\"1\" class=\"dataframe\">\n",
       "  <thead>\n",
       "    <tr style=\"text-align: right;\">\n",
       "      <th></th>\n",
       "      <th>Survived</th>\n",
       "      <th>Pclass</th>\n",
       "      <th>Name</th>\n",
       "      <th>Sex</th>\n",
       "      <th>Age</th>\n",
       "      <th>SibSp</th>\n",
       "      <th>Parch</th>\n",
       "      <th>Fare</th>\n",
       "      <th>Cabin</th>\n",
       "      <th>Embarked</th>\n",
       "    </tr>\n",
       "  </thead>\n",
       "  <tbody>\n",
       "    <tr>\n",
       "      <th>0</th>\n",
       "      <td>0</td>\n",
       "      <td>3</td>\n",
       "      <td>Braund, Mr. Owen Harris</td>\n",
       "      <td>0</td>\n",
       "      <td>1.0</td>\n",
       "      <td>1</td>\n",
       "      <td>0</td>\n",
       "      <td>0.0</td>\n",
       "      <td>0</td>\n",
       "      <td>0</td>\n",
       "    </tr>\n",
       "    <tr>\n",
       "      <th>1</th>\n",
       "      <td>1</td>\n",
       "      <td>1</td>\n",
       "      <td>Cumings, Mrs. John Bradley (Florence Briggs Th...</td>\n",
       "      <td>1</td>\n",
       "      <td>3.0</td>\n",
       "      <td>1</td>\n",
       "      <td>0</td>\n",
       "      <td>0.0</td>\n",
       "      <td>1</td>\n",
       "      <td>1</td>\n",
       "    </tr>\n",
       "    <tr>\n",
       "      <th>2</th>\n",
       "      <td>1</td>\n",
       "      <td>3</td>\n",
       "      <td>Heikkinen, Miss. Laina</td>\n",
       "      <td>1</td>\n",
       "      <td>2.0</td>\n",
       "      <td>0</td>\n",
       "      <td>0</td>\n",
       "      <td>0.0</td>\n",
       "      <td>0</td>\n",
       "      <td>0</td>\n",
       "    </tr>\n",
       "    <tr>\n",
       "      <th>3</th>\n",
       "      <td>1</td>\n",
       "      <td>1</td>\n",
       "      <td>Futrelle, Mrs. Jacques Heath (Lily May Peel)</td>\n",
       "      <td>1</td>\n",
       "      <td>3.0</td>\n",
       "      <td>1</td>\n",
       "      <td>0</td>\n",
       "      <td>0.0</td>\n",
       "      <td>1</td>\n",
       "      <td>0</td>\n",
       "    </tr>\n",
       "    <tr>\n",
       "      <th>4</th>\n",
       "      <td>0</td>\n",
       "      <td>3</td>\n",
       "      <td>Allen, Mr. William Henry</td>\n",
       "      <td>0</td>\n",
       "      <td>3.0</td>\n",
       "      <td>0</td>\n",
       "      <td>0</td>\n",
       "      <td>0.0</td>\n",
       "      <td>0</td>\n",
       "      <td>0</td>\n",
       "    </tr>\n",
       "  </tbody>\n",
       "</table>\n",
       "</div>"
      ],
      "text/plain": [
       "   Survived  Pclass                                               Name  Sex  \\\n",
       "0         0       3                            Braund, Mr. Owen Harris    0   \n",
       "1         1       1  Cumings, Mrs. John Bradley (Florence Briggs Th...    1   \n",
       "2         1       3                             Heikkinen, Miss. Laina    1   \n",
       "3         1       1       Futrelle, Mrs. Jacques Heath (Lily May Peel)    1   \n",
       "4         0       3                           Allen, Mr. William Henry    0   \n",
       "\n",
       "   Age  SibSp  Parch  Fare Cabin  Embarked  \n",
       "0  1.0      1      0   0.0     0         0  \n",
       "1  3.0      1      0   0.0     1         1  \n",
       "2  2.0      0      0   0.0     0         0  \n",
       "3  3.0      1      0   0.0     1         0  \n",
       "4  3.0      0      0   0.0     0         0  "
      ]
     },
     "execution_count": 27,
     "metadata": {},
     "output_type": "execute_result"
    }
   ],
   "source": [
    "train_x.head(5)"
   ]
  },
  {
   "cell_type": "markdown",
   "metadata": {},
   "source": [
    "# PREDICTIONS: Random forest classifier, AdaBoost Classifier and SVM"
   ]
  },
  {
   "cell_type": "code",
   "execution_count": 28,
   "metadata": {},
   "outputs": [
    {
     "name": "stderr",
     "output_type": "stream",
     "text": [
      "D:\\Anaconda3\\lib\\site-packages\\sklearn\\cross_validation.py:41: DeprecationWarning: This module was deprecated in version 0.18 in favor of the model_selection module into which all the refactored classes and functions are moved. Also note that the interface of the new CV iterators are different from that of this module. This module will be removed in 0.20.\n",
      "  \"This module will be removed in 0.20.\", DeprecationWarning)\n"
     ]
    },
    {
     "name": "stdout",
     "output_type": "stream",
     "text": [
      "Cross-validated scores: 0.786887129724\n",
      "Cross-validated scores: 0.79350329134\n",
      "Cross-validated scores: 0.826038474634\n"
     ]
    }
   ],
   "source": [
    "from sklearn.ensemble import RandomForestClassifier as RFC\n",
    "from sklearn.ensemble import AdaBoostClassifier as ABC\n",
    "from sklearn.svm import SVC \n",
    "from sklearn.model_selection import GridSearchCV as GS\n",
    "from sklearn.model_selection import train_test_split\n",
    "from sklearn.model_selection import KFold \n",
    "from sklearn.cross_validation import cross_val_score, cross_val_predict\n",
    "from sklearn import metrics\n",
    "\n",
    "rfc = RFC()\n",
    "scores = cross_val_score(rfc, train_x.drop(['Survived','Name'],1), train_x['Survived'], cv=10)\n",
    "print (\"Cross-validated scores:\", scores.mean())\n",
    "abc= ABC()\n",
    "scores = cross_val_score(abc,train_x.drop(['Survived','Name'],1), train_x['Survived'], cv=10)\n",
    "print (\"Cross-validated scores:\", scores.mean())\n",
    "svc= SVC()\n",
    "scores = cross_val_score(svc,train_x.drop(['Survived','Name'],1), train_x['Survived'], cv=10)\n",
    "print (\"Cross-validated scores:\", scores.mean())"
   ]
  },
  {
   "cell_type": "markdown",
   "metadata": {},
   "source": [
    "## RFC with grid search"
   ]
  },
  {
   "cell_type": "code",
   "execution_count": 29,
   "metadata": {},
   "outputs": [
    {
     "name": "stdout",
     "output_type": "stream",
     "text": [
      "Fitting 10 folds for each of 120 candidates, totalling 1200 fits\n"
     ]
    },
    {
     "name": "stderr",
     "output_type": "stream",
     "text": [
      "[Parallel(n_jobs=-1)]: Done  34 tasks      | elapsed:    7.9s\n",
      "[Parallel(n_jobs=-1)]: Done 307 tasks      | elapsed:   10.7s\n",
      "[Parallel(n_jobs=-1)]: Done 807 tasks      | elapsed:   15.7s\n",
      "[Parallel(n_jobs=-1)]: Done 1185 out of 1200 | elapsed:   19.1s remaining:    0.1s\n"
     ]
    },
    {
     "name": "stdout",
     "output_type": "stream",
     "text": [
      "Best score: 0.834\n",
      "Best parameters set:\n",
      "\tcriterion: 'entropy'\n",
      "\tmax_depth: 6\n",
      "\tmin_samples_split: 3\n",
      "\tn_estimators: 40\n"
     ]
    },
    {
     "name": "stderr",
     "output_type": "stream",
     "text": [
      "[Parallel(n_jobs=-1)]: Done 1200 out of 1200 | elapsed:   19.4s finished\n"
     ]
    }
   ],
   "source": [
    "parameters = {'n_estimators':(10,20,40,70),\n",
    "                'criterion':(\"gini\",\"entropy\"),\n",
    "              'max_depth':(None, 1, 2, 4, 6),\n",
    "              'min_samples_split': (2, 3, 4)\n",
    "              \n",
    "             }\n",
    "\n",
    "gs = GS(estimator=RFC(random_state=9999), param_grid=parameters,n_jobs=-1,verbose=True,cv=10)\n",
    "gs.fit(train_x.drop(['Survived','Name'],1), train_x['Survived'])\n",
    "print(\"Best score: %0.3f\" % gs.best_score_)\n",
    "print(\"Best parameters set:\")\n",
    "best_parameters = gs.best_estimator_.get_params()\n",
    "for param_name in sorted(parameters.keys()):\n",
    "  print(\"\\t%s: %r\" % (param_name, best_parameters[param_name]))"
   ]
  },
  {
   "cell_type": "markdown",
   "metadata": {},
   "source": [
    "## Let's do some feature elimination to see which features to remove"
   ]
  },
  {
   "cell_type": "code",
   "execution_count": 30,
   "metadata": {},
   "outputs": [
    {
     "name": "stdout",
     "output_type": "stream",
     "text": [
      "Cross-validated scores: 0.821594313926\n",
      "Cross-validated scores without:  Pclass 0.819347122915\n",
      "Cross-validated scores without:  Sex 0.725200034048\n",
      "Cross-validated scores without:  Age 0.805925831347\n",
      "Cross-validated scores without:  SibSp 0.82274287822\n",
      "Cross-validated scores without:  Parch 0.821632050846\n",
      "Cross-validated scores without:  Fare 0.824977584837\n",
      "Cross-validated scores without:  Cabin 0.820457950289\n",
      "Cross-validated scores without:  Embarked 0.812554761094\n"
     ]
    }
   ],
   "source": [
    "rfc=RFC(n_estimators=40, max_depth=4,min_samples_split=3,criterion='entropy',random_state=9999 )\n",
    "new_c=train_x.drop(['Survived','Name'],1)\n",
    "scores = cross_val_score(rfc, train_x.drop(['Survived','Name'],1), train_x['Survived'], cv=10)\n",
    "print (\"Cross-validated scores:\", scores.mean())\n",
    "for i in range(0, new_c.shape[1]):\n",
    "    scores = cross_val_score(rfc, new_c.drop(new_c.columns[i],1), train_x['Survived'], cv=10)\n",
    "    print (\"Cross-validated scores without: \",new_c.columns[i], scores.mean())"
   ]
  },
  {
   "cell_type": "markdown",
   "metadata": {},
   "source": [
    "## Let's remove fare and redo the elimination"
   ]
  },
  {
   "cell_type": "code",
   "execution_count": 31,
   "metadata": {},
   "outputs": [
    {
     "name": "stdout",
     "output_type": "stream",
     "text": [
      "Cross-validated scores: 0.824977584837\n",
      "Cross-validated scores without:  Pclass 0.820445465895\n",
      "Cross-validated scores without:  Sex 0.715124560209\n",
      "Cross-validated scores without:  Age 0.805901146294\n",
      "Cross-validated scores without:  SibSp 0.81372886165\n",
      "Cross-validated scores without:  Parch 0.821582113268\n",
      "Cross-validated scores without:  Cabin 0.815938032005\n",
      "Cross-validated scores without:  Embarked 0.801443649983\n"
     ]
    }
   ],
   "source": [
    "rfc=RFC(n_estimators=40, max_depth=4,min_samples_split=3,criterion='entropy',random_state=9999 )\n",
    "new_c=train_x.drop(['Survived','Name','Fare'],1)\n",
    "scores = cross_val_score(rfc, train_x.drop(['Survived','Name','Fare'],1), train_x['Survived'], cv=10)\n",
    "print (\"Cross-validated scores:\", scores.mean())\n",
    "for i in range(0, new_c.shape[1]):\n",
    "    scores = cross_val_score(rfc, new_c.drop(new_c.columns[i],1), train_x['Survived'], cv=10)\n",
    "    print (\"Cross-validated scores without: \",new_c.columns[i], scores.mean())"
   ]
  },
  {
   "cell_type": "code",
   "execution_count": 32,
   "metadata": {},
   "outputs": [
    {
     "data": {
      "text/plain": [
       "array([ 0.16340072,  0.48395491,  0.06339524,  0.05528736,  0.05231016,\n",
       "        0.12494959,  0.05670203])"
      ]
     },
     "execution_count": 32,
     "metadata": {},
     "output_type": "execute_result"
    }
   ],
   "source": [
    "rfc=RFC(n_estimators=40, max_depth=4,min_samples_split=3,criterion='entropy',random_state=9999 )\n",
    "rfc.fit(train_x.drop(['Survived','Name','Fare'],1), train_x['Survived'])\n",
    "rfc.feature_importances_"
   ]
  },
  {
   "cell_type": "markdown",
   "metadata": {},
   "source": [
    "## Results of RFC\n",
    "\n",
    "### With age and fare binning, accuracy=  0.78468, and 0.78947 without fare\n",
    "### Without age and fare binning, accuracy =  0.76076\n",
    "\n"
   ]
  },
  {
   "cell_type": "markdown",
   "metadata": {},
   "source": [
    "## ABC with grid search"
   ]
  },
  {
   "cell_type": "code",
   "execution_count": 33,
   "metadata": {},
   "outputs": [
    {
     "name": "stdout",
     "output_type": "stream",
     "text": [
      "Fitting 10 folds for each of 40 candidates, totalling 400 fits\n"
     ]
    },
    {
     "name": "stderr",
     "output_type": "stream",
     "text": [
      "[Parallel(n_jobs=-1)]: Done  34 tasks      | elapsed:    7.6s\n",
      "[Parallel(n_jobs=-1)]: Done 385 out of 400 | elapsed:   12.0s remaining:    0.4s\n"
     ]
    },
    {
     "name": "stdout",
     "output_type": "stream",
     "text": [
      "Best score: 0.820\n",
      "Best parameters set:\n",
      "\tlearning_rate: 1.0\n",
      "\tn_estimators: 10\n"
     ]
    },
    {
     "name": "stderr",
     "output_type": "stream",
     "text": [
      "[Parallel(n_jobs=-1)]: Done 400 out of 400 | elapsed:   12.4s finished\n"
     ]
    }
   ],
   "source": [
    "parameters = {\n",
    "              'n_estimators':(50,10,20,30,100),\n",
    "             'learning_rate':(1.0,0.2,0.5,0.9,0.4,2,4,5)\n",
    "             }\n",
    "\n",
    "gs = GS(estimator=ABC(random_state=9999), param_grid=parameters,n_jobs=-1,verbose=True,cv=10)\n",
    "gs.fit(train_x.drop(['Survived','Name'],1), train_x['Survived'])\n",
    "print(\"Best score: %0.3f\" % gs.best_score_)\n",
    "print(\"Best parameters set:\")\n",
    "best_parameters = gs.best_estimator_.get_params()\n",
    "for param_name in sorted(parameters.keys()):\n",
    "      print(\"\\t%s: %r\" % (param_name, best_parameters[param_name]))"
   ]
  },
  {
   "cell_type": "markdown",
   "metadata": {},
   "source": [
    "## Let's do some feature elimination to see which features to remove"
   ]
  },
  {
   "cell_type": "code",
   "execution_count": 35,
   "metadata": {},
   "outputs": [
    {
     "name": "stdout",
     "output_type": "stream",
     "text": [
      "Cross-validated scores: 0.820458234026\n",
      "Cross-validated scores without:  Pclass 0.800257632505\n",
      "Cross-validated scores without:  Sex 0.709506582681\n",
      "Cross-validated scores without:  Age 0.800257065032\n",
      "Cross-validated scores without:  SibSp 0.801369027352\n",
      "Cross-validated scores without:  Parch 0.81369112473\n",
      "Cross-validated scores without:  Fare 0.817087447509\n",
      "Cross-validated scores without:  Cabin 0.813741346045\n",
      "Cross-validated scores without:  Embarked 0.800194926796\n"
     ]
    }
   ],
   "source": [
    "abc=ABC(n_estimators= 10, learning_rate=1,random_state=9999)\n",
    "new_c=train_x.drop(['Survived','Name'],1)\n",
    "scores = cross_val_score(abc, train_x.drop(['Survived','Name'],1), train_x['Survived'], cv=10)\n",
    "print (\"Cross-validated scores:\", scores.mean())\n",
    "for i in range(0, new_c.shape[1]):\n",
    "    scores = cross_val_score(abc, new_c.drop(new_c.columns[i],1), train_x['Survived'], cv=10)\n",
    "    print (\"Cross-validated scores without: \",new_c.columns[i], scores.mean())"
   ]
  },
  {
   "cell_type": "markdown",
   "metadata": {},
   "source": [
    "## There doesn't seem to be anything worth removing!"
   ]
  },
  {
   "cell_type": "code",
   "execution_count": 34,
   "metadata": {},
   "outputs": [
    {
     "data": {
      "text/plain": [
       "array([ 0.16,  0.08,  0.18,  0.08,  0.2 ,  0.22,  0.02,  0.06])"
      ]
     },
     "execution_count": 34,
     "metadata": {},
     "output_type": "execute_result"
    }
   ],
   "source": [
    "abc=ABC(n_estimators= 50, learning_rate=0.9,random_state=9999)\n",
    "abc.fit(train_x.drop(['Survived','Name'],1), train_x['Survived'])\n",
    "abc.feature_importances_"
   ]
  },
  {
   "cell_type": "markdown",
   "metadata": {},
   "source": [
    "## Results of ABC\n",
    "\n",
    "### With age and fare binning, accuracy=  0.74641\n",
    "### Without age and fare binning, accuracy =  0.75119"
   ]
  },
  {
   "cell_type": "markdown",
   "metadata": {},
   "source": [
    "## SVC with grid search"
   ]
  },
  {
   "cell_type": "code",
   "execution_count": 36,
   "metadata": {},
   "outputs": [
    {
     "name": "stdout",
     "output_type": "stream",
     "text": [
      "Fitting 3 folds for each of 5 candidates, totalling 15 fits\n",
      "Best score: 0.822\n",
      "Best parameters set:\n",
      "\tC: 1\n"
     ]
    },
    {
     "name": "stderr",
     "output_type": "stream",
     "text": [
      "[Parallel(n_jobs=2)]: Done  15 out of  15 | elapsed:    2.1s finished\n"
     ]
    }
   ],
   "source": [
    "parameters = {\n",
    "              'C':(0.1,1,10,20,50),\n",
    "             }\n",
    "\n",
    "gs = GS(estimator=SVC(random_state=9999), param_grid=parameters,n_jobs=2,verbose=True,cv=3)\n",
    "gs.fit(train_x.drop(['Survived','Name'],1), train_x['Survived'])\n",
    "print(\"Best score: %0.3f\" % gs.best_score_)\n",
    "print(\"Best parameters set:\")\n",
    "best_parameters = gs.best_estimator_.get_params()\n",
    "for param_name in sorted(parameters.keys()):\n",
    "      print(\"\\t%s: %r\" % (param_name, best_parameters[param_name]))"
   ]
  },
  {
   "cell_type": "markdown",
   "metadata": {},
   "source": [
    "## Let's do some feature elimination to see which features to remove"
   ]
  },
  {
   "cell_type": "code",
   "execution_count": 37,
   "metadata": {},
   "outputs": [
    {
     "name": "stdout",
     "output_type": "stream",
     "text": [
      "Cross-validated scores: 0.826038474634\n",
      "Cross-validated scores without:  Pclass 0.826076211554\n",
      "Cross-validated scores without:  Sex 0.736373567132\n",
      "Cross-validated scores without:  Age 0.803577630235\n",
      "Cross-validated scores without:  SibSp 0.812554477358\n",
      "Cross-validated scores without:  Parch 0.815887810691\n",
      "Cross-validated scores without:  Fare 0.824940131654\n",
      "Cross-validated scores without:  Cabin 0.826063727159\n",
      "Cross-validated scores without:  Embarked 0.826051242765\n"
     ]
    }
   ],
   "source": [
    "svc=SVC(random_state=9999, C=1)\n",
    "new_c=train_x.drop(['Survived','Name'],1)\n",
    "scores = cross_val_score(svc, train_x.drop(['Survived','Name'],1), train_x['Survived'], cv=10)\n",
    "print (\"Cross-validated scores:\", scores.mean())\n",
    "for i in range(0, new_c.shape[1]):\n",
    "    scores = cross_val_score(svc, new_c.drop(new_c.columns[i],1), train_x['Survived'], cv=10)\n",
    "    print (\"Cross-validated scores without: \",new_c.columns[i], scores.mean())"
   ]
  },
  {
   "cell_type": "markdown",
   "metadata": {},
   "source": [
    "## Nothing to remove here"
   ]
  },
  {
   "cell_type": "code",
   "execution_count": 38,
   "metadata": {},
   "outputs": [
    {
     "data": {
      "text/plain": [
       "SVC(C=1, cache_size=200, class_weight=None, coef0=0.0,\n",
       "  decision_function_shape='ovr', degree=3, gamma='auto', kernel='rbf',\n",
       "  max_iter=-1, probability=False, random_state=9999, shrinking=True,\n",
       "  tol=0.001, verbose=False)"
      ]
     },
     "execution_count": 38,
     "metadata": {},
     "output_type": "execute_result"
    }
   ],
   "source": [
    "svc=SVC(random_state=9999, C=1)\n",
    "svc.fit(train_x.drop(['Survived','Name'],1), train_x['Survived'])"
   ]
  },
  {
   "cell_type": "markdown",
   "metadata": {},
   "source": [
    "## Results of SVC\n",
    "\n",
    "### With age and fare binning, accuracy=  0.78947\n",
    "### Without age and fare binning, accuracy =  0.65071\n",
    "\n"
   ]
  },
  {
   "cell_type": "code",
   "execution_count": 39,
   "metadata": {},
   "outputs": [],
   "source": [
    "res=rfc.predict(test_x.drop(['Name','Fare'],1))"
   ]
  },
  {
   "cell_type": "code",
   "execution_count": 40,
   "metadata": {},
   "outputs": [],
   "source": [
    "n_points = res.shape[0]\n",
    "y_pred_pp = np.ones((n_points, 2))\n",
    "y_pred_pp[:, 0] = test['PassengerId']\n",
    "y_pred_pp[:, 1] = res\n",
    "np.savetxt('rfc.csv', y_pred_pp, fmt='%d', delimiter=',',header=\"PassengerId,Survived\",comments='')"
   ]
  },
  {
   "cell_type": "markdown",
   "metadata": {
    "collapsed": true
   },
   "source": [
    "## Does it matter if you're a Miss or a Countess?\n",
    "## In this section, we extract the \"Title\"of each passenger and add these titles as a feature"
   ]
  },
  {
   "cell_type": "code",
   "execution_count": 42,
   "metadata": {},
   "outputs": [
    {
     "name": "stdout",
     "output_type": "stream",
     "text": [
      "['Mr' 'Mrs' 'Miss' 'Master' 'Don' 'Rev' 'Dr' 'Mme' 'Ms' 'Major' 'Lady'\n",
      " 'Sir' 'Mlle' 'Col' 'Capt' 'the Countess' 'Jonkheer']\n",
      "['Mr' 'Mrs' 'Miss' 'Master' 'Ms' 'Col' 'Rev' 'Dr' 'Dona']\n"
     ]
    }
   ],
   "source": [
    "names = list(train_x['Name'])\n",
    "names_test=list(test_x['Name'])\n",
    "\n",
    "titles=[]\n",
    "for name in names:\n",
    "    tmp=name.split(',')\n",
    "    tmp=tmp[1].split('.')\n",
    "    titles.append(tmp[0].strip())\n",
    "    \n",
    "titles_test=[]\n",
    "for name in names_test:\n",
    "    tmp=name.split(',')\n",
    "    tmp=tmp[1].split('.')\n",
    "    titles_test .append(tmp[0].strip()) \n",
    "    \n",
    "train_x['Titles']=titles\n",
    "test_x['Titles']=titles_test\n",
    "\n",
    "print(train_x['Titles'].unique())\n",
    "print(test_x['Titles'].unique())"
   ]
  },
  {
   "cell_type": "code",
   "execution_count": 43,
   "metadata": {
    "scrolled": false
   },
   "outputs": [
    {
     "name": "stdout",
     "output_type": "stream",
     "text": [
      "517\n",
      "125\n",
      "182\n",
      "40\n",
      "1\n",
      "6\n",
      "7\n",
      "1\n",
      "1\n",
      "2\n",
      "1\n",
      "1\n",
      "2\n",
      "2\n",
      "1\n",
      "1\n",
      "1\n"
     ]
    }
   ],
   "source": [
    "print(train_x['Titles'].loc[train_x['Titles']=='Mr'].count())\n",
    "print(train_x['Titles'].loc[train_x['Titles']=='Mrs'].count())\n",
    "print(train_x['Titles'].loc[train_x['Titles']=='Miss'].count())\n",
    "print(train_x['Titles'].loc[train_x['Titles']=='Master'].count())\n",
    "print(train_x['Titles'].loc[train_x['Titles']=='Don'].count())\n",
    "print(train_x['Titles'].loc[train_x['Titles']=='Rev'].count())\n",
    "print(train_x['Titles'].loc[train_x['Titles']=='Dr'].count())\n",
    "print(train_x['Titles'].loc[train_x['Titles']=='Mme'].count())\n",
    "print(train_x['Titles'].loc[train_x['Titles']=='Ms'].count())\n",
    "print(train_x['Titles'].loc[train_x['Titles']=='Major'].count())\n",
    "print(train_x['Titles'].loc[train_x['Titles']=='Lady'].count())\n",
    "print(train_x['Titles'].loc[train_x['Titles']=='Sir'].count())\n",
    "print(train_x['Titles'].loc[train_x['Titles']=='Mlle'].count())\n",
    "print(train_x['Titles'].loc[train_x['Titles']=='Col'].count())\n",
    "print(train_x['Titles'].loc[train_x['Titles']=='Capt'].count())\n",
    "print(train_x['Titles'].loc[train_x['Titles']=='the Countess'].count())\n",
    "print(train_x['Titles'].loc[train_x['Titles']=='Jonkheer'].count())\n"
   ]
  },
  {
   "cell_type": "markdown",
   "metadata": {},
   "source": [
    "## We will map Mme to Mrs, Ms and Mlle to Miss. Everything under the frequency of 10 will be mapped to a new value called other."
   ]
  },
  {
   "cell_type": "code",
   "execution_count": 44,
   "metadata": {},
   "outputs": [
    {
     "name": "stdout",
     "output_type": "stream",
     "text": [
      "['Mr' 'Mrs' 'Miss' 'Master' 'Other']\n",
      "['Mr' 'Mrs' 'Miss' 'Master' 'Other']\n"
     ]
    }
   ],
   "source": [
    "train_x['Titles']=train_x['Titles'].replace({'Mme': 'Mrs', 'Ms': 'Miss', 'Mlle':'Miss',\n",
    "                                              'Don':'Other'\n",
    "                                            , 'Rev':'Other'\n",
    "                                             , 'Dr':'Other'\n",
    "                                             , 'Major':'Other'\n",
    "                                             , 'Lady':'Other'\n",
    "                                             , 'Sir':'Other'\n",
    "                                             , 'Col':'Other'\n",
    "                                             , 'Capt':'Other'\n",
    "                                             , 'the Countess':'Other'\n",
    "                                             , 'Jonkheer':'Other'\n",
    "                                            \n",
    "                                            })\n",
    "\n",
    "\n",
    "test_x['Titles']=test_x['Titles'].replace({'Mme': 'Mrs', 'Ms': 'Miss', 'Mlle':'Miss',\n",
    "                                              'Dona':'Other'\n",
    "                                            , 'Rev':'Other'\n",
    "                                             , 'Dr':'Other'\n",
    "                                             , 'Major':'Other'\n",
    "                                             , 'Lady':'Other'\n",
    "                                             , 'Sir':'Other'\n",
    "                                             , 'Col':'Other'\n",
    "                                             , 'Capt':'Other'\n",
    "                                             , 'the Countess':'Other'\n",
    "                                             , 'Jonkheer':'Other'\n",
    "                                            \n",
    "                                            })\n",
    "\n",
    "\n",
    "print(train_x['Titles'].unique())\n",
    "print(test_x['Titles'].unique())\n"
   ]
  },
  {
   "cell_type": "markdown",
   "metadata": {},
   "source": [
    "## Now we shall map these new values to ints"
   ]
  },
  {
   "cell_type": "code",
   "execution_count": 45,
   "metadata": {},
   "outputs": [],
   "source": [
    "train_x['Titles']=train_x['Titles'].replace({'Mr':0, 'Mrs':1, 'Miss':2,'Master':3, 'Other':4\n",
    "                                            \n",
    "                                            })\n",
    "\n",
    "test_x['Titles']=test_x['Titles'].replace({'Mr':0, 'Mrs':1, 'Miss':2,'Master':3, 'Other':4\n",
    "                                            \n",
    "                                            })\n",
    "\n"
   ]
  },
  {
   "cell_type": "code",
   "execution_count": 46,
   "metadata": {},
   "outputs": [
    {
     "data": {
      "text/html": [
       "<div>\n",
       "<style>\n",
       "    .dataframe thead tr:only-child th {\n",
       "        text-align: right;\n",
       "    }\n",
       "\n",
       "    .dataframe thead th {\n",
       "        text-align: left;\n",
       "    }\n",
       "\n",
       "    .dataframe tbody tr th {\n",
       "        vertical-align: top;\n",
       "    }\n",
       "</style>\n",
       "<table border=\"1\" class=\"dataframe\">\n",
       "  <thead>\n",
       "    <tr style=\"text-align: right;\">\n",
       "      <th></th>\n",
       "      <th>Survived</th>\n",
       "      <th>Pclass</th>\n",
       "      <th>Name</th>\n",
       "      <th>Sex</th>\n",
       "      <th>Age</th>\n",
       "      <th>SibSp</th>\n",
       "      <th>Parch</th>\n",
       "      <th>Fare</th>\n",
       "      <th>Cabin</th>\n",
       "      <th>Embarked</th>\n",
       "      <th>Titles</th>\n",
       "    </tr>\n",
       "  </thead>\n",
       "  <tbody>\n",
       "    <tr>\n",
       "      <th>0</th>\n",
       "      <td>0</td>\n",
       "      <td>3</td>\n",
       "      <td>Braund, Mr. Owen Harris</td>\n",
       "      <td>0</td>\n",
       "      <td>1.0</td>\n",
       "      <td>1</td>\n",
       "      <td>0</td>\n",
       "      <td>0.0</td>\n",
       "      <td>0</td>\n",
       "      <td>0</td>\n",
       "      <td>0</td>\n",
       "    </tr>\n",
       "    <tr>\n",
       "      <th>1</th>\n",
       "      <td>1</td>\n",
       "      <td>1</td>\n",
       "      <td>Cumings, Mrs. John Bradley (Florence Briggs Th...</td>\n",
       "      <td>1</td>\n",
       "      <td>3.0</td>\n",
       "      <td>1</td>\n",
       "      <td>0</td>\n",
       "      <td>0.0</td>\n",
       "      <td>1</td>\n",
       "      <td>1</td>\n",
       "      <td>1</td>\n",
       "    </tr>\n",
       "  </tbody>\n",
       "</table>\n",
       "</div>"
      ],
      "text/plain": [
       "   Survived  Pclass                                               Name  Sex  \\\n",
       "0         0       3                            Braund, Mr. Owen Harris    0   \n",
       "1         1       1  Cumings, Mrs. John Bradley (Florence Briggs Th...    1   \n",
       "\n",
       "   Age  SibSp  Parch  Fare Cabin  Embarked  Titles  \n",
       "0  1.0      1      0   0.0     0         0       0  \n",
       "1  3.0      1      0   0.0     1         1       1  "
      ]
     },
     "execution_count": 46,
     "metadata": {},
     "output_type": "execute_result"
    }
   ],
   "source": [
    "train_x.head(2)"
   ]
  },
  {
   "cell_type": "code",
   "execution_count": 47,
   "metadata": {},
   "outputs": [
    {
     "data": {
      "text/plain": [
       "Pclass     -0.338481\n",
       "SibSp      -0.035322\n",
       "Age         0.018445\n",
       "Fare        0.077097\n",
       "Parch       0.081629\n",
       "Embarked    0.106811\n",
       "Titles      0.405921\n",
       "Sex         0.543351\n",
       "Survived    1.000000\n",
       "Name: Survived, dtype: float64"
      ]
     },
     "execution_count": 47,
     "metadata": {},
     "output_type": "execute_result"
    }
   ],
   "source": [
    "train_x.corr()['Survived'].sort_values()"
   ]
  },
  {
   "cell_type": "markdown",
   "metadata": {},
   "source": [
    "## The titles seem to be well correlated with survival."
   ]
  },
  {
   "cell_type": "markdown",
   "metadata": {},
   "source": [
    "# Here goes another round of predictions with titles!\n",
    "\n",
    "# In this section we also add the Gradient boosted classifier and the logistic regression classifier"
   ]
  },
  {
   "cell_type": "code",
   "execution_count": 48,
   "metadata": {},
   "outputs": [
    {
     "name": "stdout",
     "output_type": "stream",
     "text": [
      "Cross-validated scores: 0.797959085234\n",
      "Cross-validated scores: 0.823829304279\n",
      "Cross-validated scores: 0.795838440586\n",
      "Cross-validated scores: 0.818236579276\n",
      "Cross-validated scores: 0.828273181251\n"
     ]
    }
   ],
   "source": [
    "from sklearn.ensemble import RandomForestClassifier as RFC\n",
    "from sklearn.ensemble import GradientBoostingClassifier as GBC\n",
    "from sklearn.ensemble import AdaBoostClassifier as ABC\n",
    "from sklearn.svm import SVC \n",
    "from sklearn.linear_model import LogisticRegression as LR\n",
    "from sklearn.model_selection import GridSearchCV as GS\n",
    "from sklearn.model_selection import train_test_split\n",
    "from sklearn.model_selection import KFold \n",
    "from sklearn.cross_validation import cross_val_score, cross_val_predict\n",
    "from sklearn import metrics\n",
    "\n",
    "\n",
    "lr = LR(random_state=9999)\n",
    "scores = cross_val_score(lr, train_x.drop(['Survived','Name'],1), train_x['Survived'], cv=10)\n",
    "print (\"Cross-validated scores:\", scores.mean())\n",
    "gbc = GBC(random_state=9999)\n",
    "scores = cross_val_score(gbc, train_x.drop(['Survived','Name'],1), train_x['Survived'], cv=10)\n",
    "print (\"Cross-validated scores:\", scores.mean())\n",
    "rfc = RFC(random_state=9999)\n",
    "scores = cross_val_score(rfc, train_x.drop(['Survived','Name'],1), train_x['Survived'], cv=10)\n",
    "print (\"Cross-validated scores:\", scores.mean())\n",
    "abc= ABC(random_state=9999)\n",
    "scores = cross_val_score(abc,train_x.drop(['Survived','Name'],1), train_x['Survived'], cv=10)\n",
    "print (\"Cross-validated scores:\", scores.mean())\n",
    "svc= SVC(random_state=9999)\n",
    "scores = cross_val_score(svc,train_x.drop(['Survived','Name'],1), train_x['Survived'], cv=10)\n",
    "print (\"Cross-validated scores:\", scores.mean())"
   ]
  },
  {
   "cell_type": "markdown",
   "metadata": {},
   "source": [
    "## RFC with grid search"
   ]
  },
  {
   "cell_type": "code",
   "execution_count": 49,
   "metadata": {},
   "outputs": [
    {
     "name": "stdout",
     "output_type": "stream",
     "text": [
      "Fitting 10 folds for each of 180 candidates, totalling 1800 fits\n"
     ]
    },
    {
     "name": "stderr",
     "output_type": "stream",
     "text": [
      "[Parallel(n_jobs=4)]: Done  50 tasks      | elapsed:    5.0s\n",
      "[Parallel(n_jobs=4)]: Done 350 tasks      | elapsed:   12.4s\n",
      "[Parallel(n_jobs=4)]: Done 850 tasks      | elapsed:   24.1s\n",
      "[Parallel(n_jobs=4)]: Done 1550 tasks      | elapsed:   44.0s\n"
     ]
    },
    {
     "name": "stdout",
     "output_type": "stream",
     "text": [
      "Best score: 0.834\n",
      "Best parameters set:\n",
      "\tcriterion: 'entropy'\n",
      "\tmax_depth: 6\n",
      "\tmin_samples_split: 2\n",
      "\tn_estimators: 100\n"
     ]
    },
    {
     "name": "stderr",
     "output_type": "stream",
     "text": [
      "[Parallel(n_jobs=4)]: Done 1800 out of 1800 | elapsed:   51.6s finished\n"
     ]
    }
   ],
   "source": [
    "parameters = {'n_estimators':(10,20,40,70,100,150),\n",
    "                'criterion':(\"gini\",\"entropy\"),\n",
    "              'max_depth':(None, 1, 2, 4, 6),\n",
    "              'min_samples_split': (2, 3, 4),\n",
    "             }\n",
    "\n",
    "gs = GS(estimator=RFC(random_state=9999), param_grid=parameters,n_jobs=4,verbose=True,cv=10)\n",
    "gs.fit(train_x.drop(['Survived','Name'],1), train_x['Survived'])\n",
    "print(\"Best score: %0.3f\" % gs.best_score_)\n",
    "print(\"Best parameters set:\")\n",
    "best_parameters = gs.best_estimator_.get_params()\n",
    "for param_name in sorted(parameters.keys()):\n",
    "  print(\"\\t%s: %r\" % (param_name, best_parameters[param_name]))"
   ]
  },
  {
   "cell_type": "markdown",
   "metadata": {},
   "source": [
    "## By comparing the cross validated result of RFC with titles and without titles, we can see that there isn't much of a difference. However, let's carry on with the feature elimination."
   ]
  },
  {
   "cell_type": "markdown",
   "metadata": {},
   "source": [
    "## Let's do some feature elimination to see which features to remove"
   ]
  },
  {
   "cell_type": "code",
   "execution_count": 50,
   "metadata": {},
   "outputs": [
    {
     "name": "stdout",
     "output_type": "stream",
     "text": [
      "Cross-validated scores: 0.82387013629\n",
      "Cross-validated scores without:  Pclass 0.824937025385\n",
      "Cross-validated scores without:  Sex 0.829462863684\n",
      "Cross-validated scores without:  Age 0.817141046469\n",
      "Cross-validated scores without:  SibSp 0.811510372947\n",
      "Cross-validated scores without:  Parch 0.828339268179\n",
      "Cross-validated scores without:  Fare 0.828333062036\n",
      "Cross-validated scores without:  Cabin 0.826073245958\n",
      "Cross-validated scores without:  Embarked 0.822721219723\n",
      "Cross-validated scores without:  Titles 0.825012563006\n"
     ]
    }
   ],
   "source": [
    "rfc=RFC(n_estimators=100, max_depth=6,min_samples_split=2,criterion='entropy',random_state=9999 )\n",
    "new_c=train_x.drop(['Survived','Name'],1)\n",
    "scores = cross_val_score(rfc, train_x.drop(['Survived','Name'],1), train_x['Survived'], cv=5)\n",
    "print (\"Cross-validated scores:\", scores.mean())\n",
    "for i in range(0, new_c.shape[1]):\n",
    "    scores = cross_val_score(rfc, new_c.drop(new_c.columns[i],1), train_x['Survived'], cv=5)\n",
    "    print (\"Cross-validated scores without: \",new_c.columns[i], scores.mean())"
   ]
  },
  {
   "cell_type": "markdown",
   "metadata": {},
   "source": [
    "## Let's remove fare and redo the elimination"
   ]
  },
  {
   "cell_type": "code",
   "execution_count": 51,
   "metadata": {},
   "outputs": [
    {
     "name": "stdout",
     "output_type": "stream",
     "text": [
      "Cross-validated scores: 0.832768130746\n",
      "Cross-validated scores without:  Pclass 0.831644251504\n",
      "Cross-validated scores without:  Sex 0.822717909431\n",
      "Cross-validated scores without:  Age 0.823841504937\n",
      "Cross-validated scores without:  SibSp 0.816026273976\n",
      "Cross-validated scores without:  Parch 0.827225059585\n",
      "Cross-validated scores without:  Cabin 0.823866757462\n",
      "Cross-validated scores without:  Embarked 0.823804051753\n",
      "Cross-validated scores without:  Titles 0.821594313926\n"
     ]
    }
   ],
   "source": [
    "rfc=RFC(n_estimators=100, max_depth=6,min_samples_split=2,criterion='entropy',random_state=9999 )\n",
    "new_c=train_x.drop(['Survived','Name','Fare'],1)\n",
    "scores = cross_val_score(rfc, train_x.drop(['Survived','Name','Fare'],1), train_x['Survived'], cv=10)\n",
    "print (\"Cross-validated scores:\", scores.mean())\n",
    "for i in range(0, new_c.shape[1]):\n",
    "    scores = cross_val_score(rfc, new_c.drop(new_c.columns[i],1), train_x['Survived'], cv=10)\n",
    "    print (\"Cross-validated scores without: \",new_c.columns[i], scores.mean())"
   ]
  },
  {
   "cell_type": "markdown",
   "metadata": {},
   "source": [
    "## Remove Sex"
   ]
  },
  {
   "cell_type": "code",
   "execution_count": 52,
   "metadata": {},
   "outputs": [
    {
     "name": "stdout",
     "output_type": "stream",
     "text": [
      "Cross-validated scores: 0.822717909431\n",
      "Cross-validated scores without:  Pclass 0.827162353876\n",
      "Cross-validated scores without:  Age 0.823841504937\n",
      "Cross-validated scores without:  SibSp 0.817162637612\n",
      "Cross-validated scores without:  Parch 0.830558109182\n",
      "Cross-validated scores without:  Cabin 0.82269237317\n",
      "Cross-validated scores without:  Embarked 0.821543808875\n",
      "Cross-validated scores without:  Titles 0.719606174101\n"
     ]
    }
   ],
   "source": [
    "rfc=RFC(n_estimators=100, max_depth=6,min_samples_split=2,criterion='entropy',random_state=9999 )\n",
    "new_c=train_x.drop(['Survived','Name','Fare','Sex'],1)\n",
    "scores = cross_val_score(rfc, train_x.drop(['Survived','Name','Fare','Sex'],1), train_x['Survived'], cv=10)\n",
    "print (\"Cross-validated scores:\", scores.mean())\n",
    "for i in range(0, new_c.shape[1]):\n",
    "    scores = cross_val_score(rfc, new_c.drop(new_c.columns[i],1), train_x['Survived'], cv=10)\n",
    "    print (\"Cross-validated scores without: \",new_c.columns[i], scores.mean())"
   ]
  },
  {
   "cell_type": "markdown",
   "metadata": {},
   "source": [
    "## Remove Parch"
   ]
  },
  {
   "cell_type": "code",
   "execution_count": 53,
   "metadata": {},
   "outputs": [
    {
     "name": "stdout",
     "output_type": "stream",
     "text": [
      "Cross-validated scores: 0.830558109182\n",
      "Cross-validated scores without:  Pclass 0.817062194984\n",
      "Cross-validated scores without:  Age 0.827225343321\n",
      "Cross-validated scores without:  SibSp 0.814940699126\n",
      "Cross-validated scores without:  Cabin 0.824977584837\n",
      "Cross-validated scores without:  Embarked 0.819321870389\n",
      "Cross-validated scores without:  Titles 0.696023152877\n"
     ]
    }
   ],
   "source": [
    "rfc=RFC(n_estimators=100, max_depth=6,min_samples_split=2,criterion='entropy',random_state=9999 )\n",
    "new_c=train_x.drop(['Survived','Name','Fare','Sex','Parch'],1)\n",
    "scores = cross_val_score(rfc, train_x.drop(['Survived','Name','Fare','Sex','Parch'],1), train_x['Survived'], cv=10)\n",
    "print (\"Cross-validated scores:\", scores.mean())\n",
    "for i in range(0, new_c.shape[1]):\n",
    "    scores = cross_val_score(rfc, new_c.drop(new_c.columns[i],1), train_x['Survived'], cv=10)\n",
    "    print (\"Cross-validated scores without: \",new_c.columns[i], scores.mean())"
   ]
  },
  {
   "cell_type": "code",
   "execution_count": 54,
   "metadata": {},
   "outputs": [
    {
     "data": {
      "text/plain": [
       "array([ 0.11419857,  0.24974461,  0.07643381,  0.08714567,  0.04523087,\n",
       "        0.0843818 ,  0.03312289,  0.30974179])"
      ]
     },
     "execution_count": 54,
     "metadata": {},
     "output_type": "execute_result"
    }
   ],
   "source": [
    "rfc=RFC(n_estimators=100, max_depth=6,min_samples_split=2,criterion='entropy',random_state=9999 )\n",
    "rfc.fit(train_x.drop(['Survived','Name','Parch'],1), train_x['Survived'])\n",
    "rfc.feature_importances_"
   ]
  },
  {
   "cell_type": "markdown",
   "metadata": {},
   "source": [
    "## Results of RFC\n",
    "\n",
    "### With age and fare binning, accuracy=  0.80382\n",
    "\n"
   ]
  },
  {
   "cell_type": "markdown",
   "metadata": {},
   "source": [
    "## SVC with grid search"
   ]
  },
  {
   "cell_type": "code",
   "execution_count": 55,
   "metadata": {},
   "outputs": [
    {
     "name": "stdout",
     "output_type": "stream",
     "text": [
      "Fitting 3 folds for each of 9 candidates, totalling 27 fits\n",
      "Best score: 0.832\n",
      "Best parameters set:\n",
      "\tC: 10\n"
     ]
    },
    {
     "name": "stderr",
     "output_type": "stream",
     "text": [
      "[Parallel(n_jobs=2)]: Done  27 out of  27 | elapsed:    2.5s finished\n"
     ]
    }
   ],
   "source": [
    "parameters = {\n",
    "              'C':(0.001,0.01,0.1,1,10,20,50,100,1000),\n",
    "             }\n",
    "\n",
    "gs = GS(estimator=SVC(random_state=9999), param_grid=parameters,n_jobs=2,verbose=True,cv=3)\n",
    "gs.fit(train_x.drop(['Survived','Name','Parch'],1), train_x['Survived'])\n",
    "print(\"Best score: %0.3f\" % gs.best_score_)\n",
    "print(\"Best parameters set:\")\n",
    "best_parameters = gs.best_estimator_.get_params()\n",
    "for param_name in sorted(parameters.keys()):\n",
    "      print(\"\\t%s: %r\" % (param_name, best_parameters[param_name]))"
   ]
  },
  {
   "cell_type": "markdown",
   "metadata": {},
   "source": [
    "## Feature elimination"
   ]
  },
  {
   "cell_type": "code",
   "execution_count": 56,
   "metadata": {},
   "outputs": [
    {
     "name": "stdout",
     "output_type": "stream",
     "text": [
      "Cross-validated scores: 0.831644251504\n",
      "Cross-validated scores without:  Pclass 0.827124616956\n",
      "Cross-validated scores without:  Sex 0.823804051753\n",
      "Cross-validated scores without:  Age 0.826076211554\n",
      "Cross-validated scores without:  SibSp 0.812655487459\n",
      "Cross-validated scores without:  Parch 0.828298433776\n",
      "Cross-validated scores without:  Fare 0.821569345137\n",
      "Cross-validated scores without:  Cabin 0.829409544887\n",
      "Cross-validated scores without:  Embarked 0.815951367609\n",
      "Cross-validated scores without:  Titles 0.826051242765\n"
     ]
    }
   ],
   "source": [
    "svc=SVC(random_state=9999, C=10)\n",
    "new_c=train_x.drop(['Survived','Name'],1)\n",
    "scores = cross_val_score(svc, train_x.drop(['Survived','Name'],1), train_x['Survived'], cv=10)\n",
    "print (\"Cross-validated scores:\", scores.mean())\n",
    "for i in range(0, new_c.shape[1]):\n",
    "    scores = cross_val_score(svc, new_c.drop(new_c.columns[i],1), train_x['Survived'], cv=10)\n",
    "    print (\"Cross-validated scores without: \",new_c.columns[i], scores.mean())"
   ]
  },
  {
   "cell_type": "code",
   "execution_count": 57,
   "metadata": {},
   "outputs": [
    {
     "data": {
      "text/plain": [
       "SVC(C=10, cache_size=200, class_weight=None, coef0=0.0,\n",
       "  decision_function_shape='ovr', degree=3, gamma='auto', kernel='rbf',\n",
       "  max_iter=-1, probability=False, random_state=9999, shrinking=True,\n",
       "  tol=0.001, verbose=False)"
      ]
     },
     "execution_count": 57,
     "metadata": {},
     "output_type": "execute_result"
    }
   ],
   "source": [
    "svc=SVC(random_state=9999, C=10)\n",
    "svc.fit(train_x.drop(['Survived','Name'],1), train_x['Survived'])"
   ]
  },
  {
   "cell_type": "markdown",
   "metadata": {},
   "source": [
    "## Boosting with gridsearch"
   ]
  },
  {
   "cell_type": "code",
   "execution_count": 58,
   "metadata": {},
   "outputs": [
    {
     "name": "stdout",
     "output_type": "stream",
     "text": [
      "Fitting 10 folds for each of 210 candidates, totalling 2100 fits\n"
     ]
    },
    {
     "name": "stderr",
     "output_type": "stream",
     "text": [
      "[Parallel(n_jobs=4)]: Done  71 tasks      | elapsed:    4.5s\n",
      "[Parallel(n_jobs=4)]: Done 1073 tasks      | elapsed:   30.1s\n"
     ]
    },
    {
     "name": "stdout",
     "output_type": "stream",
     "text": [
      "Best score: 0.835\n",
      "Best parameters set:\n",
      "\tlearning_rate: 0.1\n",
      "\tmax_depth: 2\n",
      "\tmin_samples_split: 2\n",
      "\tn_estimators: 70\n"
     ]
    },
    {
     "name": "stderr",
     "output_type": "stream",
     "text": [
      "[Parallel(n_jobs=4)]: Done 2100 out of 2100 | elapsed:   56.5s finished\n"
     ]
    }
   ],
   "source": [
    "parameters = {'n_estimators':(10,20,40,70,100,150,300),\n",
    "              'max_depth':(1, 2,3, 4, 6),\n",
    "              'min_samples_split': (2, 3, 4),\n",
    "              'learning_rate': (0.1, 0.2)\n",
    "             }\n",
    "\n",
    "gs = GS(estimator=GBC(random_state=9999), param_grid=parameters,n_jobs=4,verbose=True,cv=10)\n",
    "gs.fit(train_x.drop(['Survived','Name'],1), train_x['Survived'])\n",
    "print(\"Best score: %0.3f\" % gs.best_score_)\n",
    "print(\"Best parameters set:\")\n",
    "best_parameters = gs.best_estimator_.get_params()\n",
    "for param_name in sorted(parameters.keys()):\n",
    "  print(\"\\t%s: %r\" % (param_name, best_parameters[param_name]))"
   ]
  },
  {
   "cell_type": "markdown",
   "metadata": {},
   "source": [
    "## Feature elimination"
   ]
  },
  {
   "cell_type": "code",
   "execution_count": 59,
   "metadata": {},
   "outputs": [
    {
     "name": "stdout",
     "output_type": "stream",
     "text": [
      "Cross-validated scores: 0.835015038021\n",
      "Cross-validated scores without:  Pclass 0.827124616956\n",
      "Cross-validated scores without:  Sex 0.823804051753\n",
      "Cross-validated scores without:  Age 0.826076211554\n",
      "Cross-validated scores without:  SibSp 0.812655487459\n",
      "Cross-validated scores without:  Parch 0.828298433776\n",
      "Cross-validated scores without:  Fare 0.821569345137\n",
      "Cross-validated scores without:  Cabin 0.829409544887\n",
      "Cross-validated scores without:  Embarked 0.815951367609\n",
      "Cross-validated scores without:  Titles 0.826051242765\n"
     ]
    }
   ],
   "source": [
    "gbc=GBC(random_state=9999, n_estimators=70,max_depth=2,learning_rate=0.1,min_samples_split=2)\n",
    "new_c=train_x.drop(['Survived','Name'],1)\n",
    "scores = cross_val_score(gbc, train_x.drop(['Survived','Name'],1), train_x['Survived'], cv=10)\n",
    "print (\"Cross-validated scores:\", scores.mean())\n",
    "for i in range(0, new_c.shape[1]):\n",
    "    scores = cross_val_score(svc, new_c.drop(new_c.columns[i],1), train_x['Survived'], cv=10)\n",
    "    print (\"Cross-validated scores without: \",new_c.columns[i], scores.mean())"
   ]
  },
  {
   "cell_type": "code",
   "execution_count": 60,
   "metadata": {},
   "outputs": [
    {
     "data": {
      "text/plain": [
       "GradientBoostingClassifier(criterion='friedman_mse', init=None,\n",
       "              learning_rate=0.1, loss='deviance', max_depth=2,\n",
       "              max_features=None, max_leaf_nodes=None,\n",
       "              min_impurity_decrease=0.0, min_impurity_split=None,\n",
       "              min_samples_leaf=1, min_samples_split=2,\n",
       "              min_weight_fraction_leaf=0.0, n_estimators=70,\n",
       "              presort='auto', random_state=9999, subsample=1.0, verbose=0,\n",
       "              warm_start=False)"
      ]
     },
     "execution_count": 60,
     "metadata": {},
     "output_type": "execute_result"
    }
   ],
   "source": [
    "gbc=GBC(random_state=9999, n_estimators=70,max_depth=2,learning_rate=0.1,min_samples_split=2)\n",
    "gbc.fit(train_x.drop(['Survived','Name'],1), train_x['Survived'])"
   ]
  },
  {
   "cell_type": "markdown",
   "metadata": {},
   "source": [
    "# Logistic regression with gridsearch"
   ]
  },
  {
   "cell_type": "code",
   "execution_count": 61,
   "metadata": {},
   "outputs": [
    {
     "name": "stdout",
     "output_type": "stream",
     "text": [
      "Fitting 8 folds for each of 32 candidates, totalling 256 fits\n"
     ]
    },
    {
     "name": "stderr",
     "output_type": "stream",
     "text": [
      "[Parallel(n_jobs=4)]: Done  49 tasks      | elapsed:    4.2s\n"
     ]
    },
    {
     "name": "stdout",
     "output_type": "stream",
     "text": [
      "Best score: 0.806\n",
      "Best parameters set:\n",
      "\tC: 100\n",
      "\tfit_intercept: True\n",
      "\tpenalty: 'l1'\n"
     ]
    },
    {
     "name": "stderr",
     "output_type": "stream",
     "text": [
      "[Parallel(n_jobs=4)]: Done 256 out of 256 | elapsed:    4.6s finished\n"
     ]
    }
   ],
   "source": [
    "parameters = {'penalty':['l1','l2'],\n",
    "              'fit_intercept':[True,False],\n",
    "              'C':[0.1,1,10,20,50,100,500,1000]}\n",
    "\n",
    "gs = GS(estimator=LR(random_state=9999), param_grid=parameters,n_jobs=4,verbose=True,cv=8)\n",
    "gs.fit(train_x.drop(['Survived','Name'],1), train_x['Survived'])\n",
    "print(\"Best score: %0.3f\" % gs.best_score_)\n",
    "print(\"Best parameters set:\")\n",
    "best_parameters = gs.best_estimator_.get_params()\n",
    "for param_name in sorted(parameters.keys()):\n",
    "  print(\"\\t%s: %r\" % (param_name, best_parameters[param_name]))"
   ]
  },
  {
   "cell_type": "code",
   "execution_count": 63,
   "metadata": {},
   "outputs": [
    {
     "name": "stdout",
     "output_type": "stream",
     "text": [
      "Cross-validated scores: 0.796836426524\n",
      "Cross-validated scores without:  Pclass 0.797983027671\n",
      "Cross-validated scores without:  Sex 0.751047151047\n",
      "Cross-validated scores without:  Age 0.794594228969\n",
      "Cross-validated scores without:  SibSp 0.792361903299\n",
      "Cross-validated scores without:  Parch 0.801290474728\n",
      "Cross-validated scores without:  Fare 0.793447627823\n",
      "Cross-validated scores without:  Cabin 0.796836426524\n",
      "Cross-validated scores without:  Embarked 0.80019487832\n",
      "Cross-validated scores without:  Titles 0.796887431262\n"
     ]
    }
   ],
   "source": [
    "#CROSS VALIDATION WITH FEATURE REMOVAL\n",
    "log_reg = LR(C=1, fit_intercept=True, penalty=\"l2\")\n",
    "new_c=train_x.drop(['Survived','Name'],1)\n",
    "scores = cross_val_score(log_reg, train_x.drop(['Survived','Name'],1), train_x['Survived'], cv=8)\n",
    "print (\"Cross-validated scores:\", scores.mean())\n",
    "for i in range(0, new_c.shape[1]):\n",
    "    scores = cross_val_score(log_reg, new_c.drop(new_c.columns[i],1), train_x['Survived'], cv=8)\n",
    "    print (\"Cross-validated scores without: \",new_c.columns[i], scores.mean())"
   ]
  },
  {
   "cell_type": "code",
   "execution_count": 64,
   "metadata": {},
   "outputs": [
    {
     "data": {
      "text/plain": [
       "LogisticRegression(C=1, class_weight=None, dual=False, fit_intercept=True,\n",
       "          intercept_scaling=1, max_iter=100, multi_class='ovr', n_jobs=1,\n",
       "          penalty='l2', random_state=None, solver='liblinear', tol=0.0001,\n",
       "          verbose=0, warm_start=False)"
      ]
     },
     "execution_count": 64,
     "metadata": {},
     "output_type": "execute_result"
    }
   ],
   "source": [
    "lr= LR(C=1, fit_intercept=True, penalty=\"l2\")\n",
    "lr.fit(train_x.drop(['Survived','Name'],1), train_x['Survived'])"
   ]
  },
  {
   "cell_type": "code",
   "execution_count": 65,
   "metadata": {},
   "outputs": [],
   "source": [
    "res=gbc.predict(test_x.drop(['Name'],1))"
   ]
  },
  {
   "cell_type": "code",
   "execution_count": 66,
   "metadata": {},
   "outputs": [],
   "source": [
    "n_points = res.shape[0]\n",
    "y_pred_pp = np.ones((n_points, 2))\n",
    "y_pred_pp[:, 0] = test['PassengerId']\n",
    "y_pred_pp[:, 1] = res\n",
    "np.savetxt('gbc.csv', y_pred_pp, fmt='%d', delimiter=',',header=\"PassengerId,Survived\",comments='')"
   ]
  },
  {
   "cell_type": "markdown",
   "metadata": {},
   "source": [
    "# In all of the previous predictions, we encoded variables using numeric labels. For example, in the embarked feature, S was mapped to 1, C to 2 and Q to 3. However, usually algorithms assume that a higher value is more important, which is not something we want!\n",
    "# What if we encode the variables using one-hot encoding? This would allow the alogorithm to learn a weight for each value.\n",
    "# In the next section we one-hot encode a few of the features."
   ]
  },
  {
   "cell_type": "code",
   "execution_count": null,
   "metadata": {},
   "outputs": [],
   "source": []
  },
  {
   "cell_type": "markdown",
   "metadata": {},
   "source": [
    "# One-hot encoding of sex, embarked, Pclass and Titles"
   ]
  },
  {
   "cell_type": "code",
   "execution_count": 67,
   "metadata": {},
   "outputs": [],
   "source": [
    "train=pd.read_csv('train.csv')\n",
    "test=pd.read_csv('test.csv')\n",
    "test_x=test.drop('PassengerId',1)\n",
    "train_x=train.drop('PassengerId',1)\n",
    "train_x=train_x.drop(['Ticket'],1)\n",
    "test_x=test_x.drop(['Ticket'],1)"
   ]
  },
  {
   "cell_type": "code",
   "execution_count": 68,
   "metadata": {},
   "outputs": [
    {
     "data": {
      "text/html": [
       "<div>\n",
       "<style>\n",
       "    .dataframe thead tr:only-child th {\n",
       "        text-align: right;\n",
       "    }\n",
       "\n",
       "    .dataframe thead th {\n",
       "        text-align: left;\n",
       "    }\n",
       "\n",
       "    .dataframe tbody tr th {\n",
       "        vertical-align: top;\n",
       "    }\n",
       "</style>\n",
       "<table border=\"1\" class=\"dataframe\">\n",
       "  <thead>\n",
       "    <tr style=\"text-align: right;\">\n",
       "      <th></th>\n",
       "      <th>Survived</th>\n",
       "      <th>Pclass</th>\n",
       "      <th>Name</th>\n",
       "      <th>Sex</th>\n",
       "      <th>Age</th>\n",
       "      <th>SibSp</th>\n",
       "      <th>Parch</th>\n",
       "      <th>Fare</th>\n",
       "      <th>Cabin</th>\n",
       "      <th>Embarked</th>\n",
       "    </tr>\n",
       "  </thead>\n",
       "  <tbody>\n",
       "    <tr>\n",
       "      <th>0</th>\n",
       "      <td>0</td>\n",
       "      <td>3</td>\n",
       "      <td>Braund, Mr. Owen Harris</td>\n",
       "      <td>male</td>\n",
       "      <td>22.0</td>\n",
       "      <td>1</td>\n",
       "      <td>0</td>\n",
       "      <td>7.2500</td>\n",
       "      <td>NaN</td>\n",
       "      <td>S</td>\n",
       "    </tr>\n",
       "    <tr>\n",
       "      <th>1</th>\n",
       "      <td>1</td>\n",
       "      <td>1</td>\n",
       "      <td>Cumings, Mrs. John Bradley (Florence Briggs Th...</td>\n",
       "      <td>female</td>\n",
       "      <td>38.0</td>\n",
       "      <td>1</td>\n",
       "      <td>0</td>\n",
       "      <td>71.2833</td>\n",
       "      <td>C85</td>\n",
       "      <td>C</td>\n",
       "    </tr>\n",
       "    <tr>\n",
       "      <th>2</th>\n",
       "      <td>1</td>\n",
       "      <td>3</td>\n",
       "      <td>Heikkinen, Miss. Laina</td>\n",
       "      <td>female</td>\n",
       "      <td>26.0</td>\n",
       "      <td>0</td>\n",
       "      <td>0</td>\n",
       "      <td>7.9250</td>\n",
       "      <td>NaN</td>\n",
       "      <td>S</td>\n",
       "    </tr>\n",
       "    <tr>\n",
       "      <th>3</th>\n",
       "      <td>1</td>\n",
       "      <td>1</td>\n",
       "      <td>Futrelle, Mrs. Jacques Heath (Lily May Peel)</td>\n",
       "      <td>female</td>\n",
       "      <td>35.0</td>\n",
       "      <td>1</td>\n",
       "      <td>0</td>\n",
       "      <td>53.1000</td>\n",
       "      <td>C123</td>\n",
       "      <td>S</td>\n",
       "    </tr>\n",
       "    <tr>\n",
       "      <th>4</th>\n",
       "      <td>0</td>\n",
       "      <td>3</td>\n",
       "      <td>Allen, Mr. William Henry</td>\n",
       "      <td>male</td>\n",
       "      <td>35.0</td>\n",
       "      <td>0</td>\n",
       "      <td>0</td>\n",
       "      <td>8.0500</td>\n",
       "      <td>NaN</td>\n",
       "      <td>S</td>\n",
       "    </tr>\n",
       "  </tbody>\n",
       "</table>\n",
       "</div>"
      ],
      "text/plain": [
       "   Survived  Pclass                                               Name  \\\n",
       "0         0       3                            Braund, Mr. Owen Harris   \n",
       "1         1       1  Cumings, Mrs. John Bradley (Florence Briggs Th...   \n",
       "2         1       3                             Heikkinen, Miss. Laina   \n",
       "3         1       1       Futrelle, Mrs. Jacques Heath (Lily May Peel)   \n",
       "4         0       3                           Allen, Mr. William Henry   \n",
       "\n",
       "      Sex   Age  SibSp  Parch     Fare Cabin Embarked  \n",
       "0    male  22.0      1      0   7.2500   NaN        S  \n",
       "1  female  38.0      1      0  71.2833   C85        C  \n",
       "2  female  26.0      0      0   7.9250   NaN        S  \n",
       "3  female  35.0      1      0  53.1000  C123        S  \n",
       "4    male  35.0      0      0   8.0500   NaN        S  "
      ]
     },
     "execution_count": 68,
     "metadata": {},
     "output_type": "execute_result"
    }
   ],
   "source": [
    "train_x.head(5)"
   ]
  },
  {
   "cell_type": "code",
   "execution_count": 69,
   "metadata": {},
   "outputs": [],
   "source": [
    "median_age=np.median(train_x['Age'].dropna())\n",
    "train_x['Age']=train_x['Age'].fillna(median_age)\n",
    "median_age=np.median(test_x['Age'].dropna())\n",
    "test_x['Age']=test_x['Age'].fillna(median_age)\n",
    "train_x.loc[train_x['Cabin'].isnull(), 'Cabin'] = 0\n",
    "train_x.loc[train_x['Cabin'] != 0, 'Cabin'] = 1\n",
    "test_x.loc[test_x['Cabin'].isnull(), 'Cabin'] = 0\n",
    "test_x.loc[test_x['Cabin'] != 0, 'Cabin'] = 1\n",
    "train_x['Embarked']=train_x['Embarked'].fillna('S')\n",
    "test_x['Embarked']=test_x['Embarked'].fillna('S')\n",
    "test_x['Fare'] = test_x['Fare'].fillna(test_x['Fare'].dropna().median())"
   ]
  },
  {
   "cell_type": "code",
   "execution_count": 70,
   "metadata": {},
   "outputs": [
    {
     "data": {
      "image/png": "[encoded data removed]",
      "text/plain": [
       "<matplotlib.figure.Figure at 0x202ecc31be0>"
      ]
     },
     "metadata": {
      "needs_background": "light"
     },
     "output_type": "display_data"
    }
   ],
   "source": [
    "fig = plt.figure(figsize=(5,5))\n",
    "ax1=fig.add_subplot(1,1,1)\n",
    "values=ax1.hist(train_x['Fare'], bins=7)"
   ]
  },
  {
   "cell_type": "code",
   "execution_count": 71,
   "metadata": {},
   "outputs": [
    {
     "data": {
      "text/plain": [
       "Pclass     -0.338481\n",
       "Age        -0.064910\n",
       "SibSp      -0.035322\n",
       "Fare        0.077097\n",
       "Parch       0.081629\n",
       "Survived    1.000000\n",
       "Name: Survived, dtype: float64"
      ]
     },
     "execution_count": 71,
     "metadata": {},
     "output_type": "execute_result"
    }
   ],
   "source": [
    "for i in range(1,len(values[1])):\n",
    "    train_x.loc[(train_x['Fare'] < values[1][i]) & (train_x['Fare'] >= values[1][i-1]),'Fare'] = i-1\n",
    "    test_x.loc[(test_x['Fare'] < values[1][i]) & (test_x['Fare'] >= values[1][i-1]),'Fare'] = i-1\n",
    "train_x.corr()['Survived'].sort_values()"
   ]
  },
  {
   "cell_type": "code",
   "execution_count": 72,
   "metadata": {},
   "outputs": [
    {
     "data": {
      "image/png": "[encoded data removed]",
      "text/plain": [
       "<matplotlib.figure.Figure at 0x202ecadcfd0>"
      ]
     },
     "metadata": {
      "needs_background": "light"
     },
     "output_type": "display_data"
    }
   ],
   "source": [
    "fig = plt.figure(figsize=(5,5))\n",
    "ax1=fig.add_subplot(1,1,1)\n",
    "values=ax1.hist(train_x['Age'], bins=7)"
   ]
  },
  {
   "cell_type": "code",
   "execution_count": 73,
   "metadata": {},
   "outputs": [
    {
     "data": {
      "text/plain": [
       "Pclass     -0.338481\n",
       "SibSp      -0.035322\n",
       "Age         0.018445\n",
       "Fare        0.077097\n",
       "Parch       0.081629\n",
       "Survived    1.000000\n",
       "Name: Survived, dtype: float64"
      ]
     },
     "execution_count": 73,
     "metadata": {},
     "output_type": "execute_result"
    }
   ],
   "source": [
    "for i in range(1,len(values[1])):\n",
    "    train_x.loc[(train_x['Age'] < values[1][i]) & (train_x['Age'] >= values[1][i-1]),'Age'] = i-1\n",
    "    test_x.loc[(test_x['Age'] < values[1][i]) & (test_x['Age'] >= values[1][i-1]),'Age'] = i-1\n",
    "train_x.corr()['Survived'].sort_values()"
   ]
  },
  {
   "cell_type": "code",
   "execution_count": 74,
   "metadata": {},
   "outputs": [
    {
     "name": "stdout",
     "output_type": "stream",
     "text": [
      "['Mr' 'Mrs' 'Miss' 'Master' 'Don' 'Rev' 'Dr' 'Mme' 'Ms' 'Major' 'Lady'\n",
      " 'Sir' 'Mlle' 'Col' 'Capt' 'the Countess' 'Jonkheer']\n",
      "['Mr' 'Mrs' 'Miss' 'Master' 'Ms' 'Col' 'Rev' 'Dr' 'Dona']\n"
     ]
    }
   ],
   "source": [
    "names = list(train_x['Name'])\n",
    "names_test=list(test_x['Name'])\n",
    "\n",
    "titles=[]\n",
    "for name in names:\n",
    "    tmp=name.split(',')\n",
    "    tmp=tmp[1].split('.')\n",
    "    titles.append(tmp[0].strip())\n",
    "    \n",
    "titles_test=[]\n",
    "for name in names_test:\n",
    "    tmp=name.split(',')\n",
    "    tmp=tmp[1].split('.')\n",
    "    titles_test .append(tmp[0].strip()) \n",
    "    \n",
    "train_x['Titles']=titles\n",
    "test_x['Titles']=titles_test\n",
    "\n",
    "print(train_x['Titles'].unique())\n",
    "print(test_x['Titles'].unique())"
   ]
  },
  {
   "cell_type": "code",
   "execution_count": 75,
   "metadata": {},
   "outputs": [
    {
     "name": "stdout",
     "output_type": "stream",
     "text": [
      "['Mr' 'Mrs' 'Miss' 'Master' 'Other']\n",
      "['Mr' 'Mrs' 'Miss' 'Master' 'Other']\n"
     ]
    }
   ],
   "source": [
    "train_x['Titles']=train_x['Titles'].replace({'Mme': 'Mrs', 'Ms': 'Miss', 'Mlle':'Miss',\n",
    "                                              'Don':'Other'\n",
    "                                            , 'Rev':'Other'\n",
    "                                             , 'Dr':'Other'\n",
    "                                             , 'Major':'Other'\n",
    "                                             , 'Lady':'Other'\n",
    "                                             , 'Sir':'Other'\n",
    "                                             , 'Col':'Other'\n",
    "                                             , 'Capt':'Other'\n",
    "                                             , 'the Countess':'Other'\n",
    "                                             , 'Jonkheer':'Other'\n",
    "                                            \n",
    "                                            })\n",
    "\n",
    "\n",
    "test_x['Titles']=test_x['Titles'].replace({'Mme': 'Mrs', 'Ms': 'Miss', 'Mlle':'Miss',\n",
    "                                              'Dona':'Other'\n",
    "                                            , 'Rev':'Other'\n",
    "                                             , 'Dr':'Other'\n",
    "                                             , 'Major':'Other'\n",
    "                                             , 'Lady':'Other'\n",
    "                                             , 'Sir':'Other'\n",
    "                                             , 'Col':'Other'\n",
    "                                             , 'Capt':'Other'\n",
    "                                             , 'the Countess':'Other'\n",
    "                                             , 'Jonkheer':'Other'\n",
    "                                            \n",
    "                                            })\n",
    "\n",
    "\n",
    "print(train_x['Titles'].unique())\n",
    "print(test_x['Titles'].unique())\n"
   ]
  },
  {
   "cell_type": "code",
   "execution_count": 76,
   "metadata": {},
   "outputs": [
    {
     "data": {
      "text/html": [
       "<div>\n",
       "<style>\n",
       "    .dataframe thead tr:only-child th {\n",
       "        text-align: right;\n",
       "    }\n",
       "\n",
       "    .dataframe thead th {\n",
       "        text-align: left;\n",
       "    }\n",
       "\n",
       "    .dataframe tbody tr th {\n",
       "        vertical-align: top;\n",
       "    }\n",
       "</style>\n",
       "<table border=\"1\" class=\"dataframe\">\n",
       "  <thead>\n",
       "    <tr style=\"text-align: right;\">\n",
       "      <th></th>\n",
       "      <th>Survived</th>\n",
       "      <th>Pclass</th>\n",
       "      <th>Name</th>\n",
       "      <th>Sex</th>\n",
       "      <th>Age</th>\n",
       "      <th>SibSp</th>\n",
       "      <th>Parch</th>\n",
       "      <th>Fare</th>\n",
       "      <th>Cabin</th>\n",
       "      <th>Embarked</th>\n",
       "      <th>Titles</th>\n",
       "    </tr>\n",
       "  </thead>\n",
       "  <tbody>\n",
       "    <tr>\n",
       "      <th>0</th>\n",
       "      <td>0</td>\n",
       "      <td>3</td>\n",
       "      <td>Braund, Mr. Owen Harris</td>\n",
       "      <td>male</td>\n",
       "      <td>1.0</td>\n",
       "      <td>1</td>\n",
       "      <td>0</td>\n",
       "      <td>0.0</td>\n",
       "      <td>0</td>\n",
       "      <td>S</td>\n",
       "      <td>Mr</td>\n",
       "    </tr>\n",
       "    <tr>\n",
       "      <th>1</th>\n",
       "      <td>1</td>\n",
       "      <td>1</td>\n",
       "      <td>Cumings, Mrs. John Bradley (Florence Briggs Th...</td>\n",
       "      <td>female</td>\n",
       "      <td>3.0</td>\n",
       "      <td>1</td>\n",
       "      <td>0</td>\n",
       "      <td>0.0</td>\n",
       "      <td>1</td>\n",
       "      <td>C</td>\n",
       "      <td>Mrs</td>\n",
       "    </tr>\n",
       "    <tr>\n",
       "      <th>2</th>\n",
       "      <td>1</td>\n",
       "      <td>3</td>\n",
       "      <td>Heikkinen, Miss. Laina</td>\n",
       "      <td>female</td>\n",
       "      <td>2.0</td>\n",
       "      <td>0</td>\n",
       "      <td>0</td>\n",
       "      <td>0.0</td>\n",
       "      <td>0</td>\n",
       "      <td>S</td>\n",
       "      <td>Miss</td>\n",
       "    </tr>\n",
       "    <tr>\n",
       "      <th>3</th>\n",
       "      <td>1</td>\n",
       "      <td>1</td>\n",
       "      <td>Futrelle, Mrs. Jacques Heath (Lily May Peel)</td>\n",
       "      <td>female</td>\n",
       "      <td>3.0</td>\n",
       "      <td>1</td>\n",
       "      <td>0</td>\n",
       "      <td>0.0</td>\n",
       "      <td>1</td>\n",
       "      <td>S</td>\n",
       "      <td>Mrs</td>\n",
       "    </tr>\n",
       "    <tr>\n",
       "      <th>4</th>\n",
       "      <td>0</td>\n",
       "      <td>3</td>\n",
       "      <td>Allen, Mr. William Henry</td>\n",
       "      <td>male</td>\n",
       "      <td>3.0</td>\n",
       "      <td>0</td>\n",
       "      <td>0</td>\n",
       "      <td>0.0</td>\n",
       "      <td>0</td>\n",
       "      <td>S</td>\n",
       "      <td>Mr</td>\n",
       "    </tr>\n",
       "  </tbody>\n",
       "</table>\n",
       "</div>"
      ],
      "text/plain": [
       "   Survived  Pclass                                               Name  \\\n",
       "0         0       3                            Braund, Mr. Owen Harris   \n",
       "1         1       1  Cumings, Mrs. John Bradley (Florence Briggs Th...   \n",
       "2         1       3                             Heikkinen, Miss. Laina   \n",
       "3         1       1       Futrelle, Mrs. Jacques Heath (Lily May Peel)   \n",
       "4         0       3                           Allen, Mr. William Henry   \n",
       "\n",
       "      Sex  Age  SibSp  Parch  Fare Cabin Embarked Titles  \n",
       "0    male  1.0      1      0   0.0     0        S     Mr  \n",
       "1  female  3.0      1      0   0.0     1        C    Mrs  \n",
       "2  female  2.0      0      0   0.0     0        S   Miss  \n",
       "3  female  3.0      1      0   0.0     1        S    Mrs  \n",
       "4    male  3.0      0      0   0.0     0        S     Mr  "
      ]
     },
     "execution_count": 76,
     "metadata": {},
     "output_type": "execute_result"
    }
   ],
   "source": [
    "train_x.head(5)"
   ]
  },
  {
   "cell_type": "code",
   "execution_count": 77,
   "metadata": {},
   "outputs": [],
   "source": [
    "from sklearn.preprocessing import OneHotEncoder as OHE\n",
    "from sklearn.preprocessing import  LabelEncoder as LE"
   ]
  },
  {
   "cell_type": "code",
   "execution_count": 78,
   "metadata": {},
   "outputs": [
    {
     "data": {
      "text/plain": [
       "(418, 2)"
      ]
     },
     "execution_count": 78,
     "metadata": {},
     "output_type": "execute_result"
    }
   ],
   "source": [
    "sex= [['male'], ['female']]\n",
    "enc = LE()\n",
    "enc.fit(train_x['Sex'])\n",
    "new_sex = enc.transform(train_x['Sex'])\n",
    "new_sex = new_sex.reshape(-1, 1) # Needs to be the correct shape\n",
    "ohe = OHE(sparse=False) #Easier to read\n",
    "encoded_sex=ohe.fit_transform(new_sex)\n",
    "\n",
    "enc.fit(test_x['Sex'])\n",
    "new_sex_test = enc.transform(test_x['Sex'])\n",
    "new_sex_test = new_sex_test.reshape(-1, 1) # Needs to be the correct shape\n",
    "ohe = OHE(sparse=False) #Easier to read\n",
    "encoded_sex_test=ohe.fit_transform(new_sex_test)\n",
    "encoded_sex_test.shape"
   ]
  },
  {
   "cell_type": "code",
   "execution_count": 79,
   "metadata": {},
   "outputs": [],
   "source": [
    "embarked= [['S'], ['C'],['Q']]\n",
    "enc = LE()\n",
    "enc.fit(train_x['Embarked'])\n",
    "new_embarked = enc.transform(train_x['Embarked'])\n",
    "new_embarked = new_embarked.reshape(-1, 1) # Needs to be the correct shape\n",
    "ohe = OHE(sparse=False) #Easier to read\n",
    "encoded_embarked=ohe.fit_transform(new_embarked)\n",
    "\n",
    "enc.fit(test_x['Embarked'])\n",
    "new_embarked_test = enc.transform(test_x['Embarked'])\n",
    "new_embarked_test = new_embarked_test.reshape(-1, 1) # Needs to be the correct shape\n",
    "ohe = OHE(sparse=False) #Easier to read\n",
    "encoded_embarked_test=ohe.fit_transform(new_embarked_test)"
   ]
  },
  {
   "cell_type": "code",
   "execution_count": 80,
   "metadata": {},
   "outputs": [],
   "source": [
    "Titles= [['Mrs'], ['Mr'],['Miss'],['Other']]\n",
    "enc = LE()\n",
    "enc.fit(train_x['Titles'])\n",
    "new_Titles = enc.transform(train_x['Titles'])\n",
    "new_Titles = new_Titles.reshape(-1, 1) # Needs to be the correct shape\n",
    "ohe = OHE(sparse=False) #Easier to read\n",
    "encoded_Titles=ohe.fit_transform(new_Titles)\n",
    "\n",
    "enc.fit(test_x['Titles'])\n",
    "new_Titles_test = enc.transform(test_x['Titles'])\n",
    "new_Titles_test = new_Titles_test.reshape(-1, 1) # Needs to be the correct shape\n",
    "ohe = OHE(sparse=False) #Easier to read\n",
    "encoded_Titles_test=ohe.fit_transform(new_Titles_test)"
   ]
  },
  {
   "cell_type": "code",
   "execution_count": 81,
   "metadata": {},
   "outputs": [
    {
     "data": {
      "text/plain": [
       "array([3, 1, 2], dtype=int64)"
      ]
     },
     "execution_count": 81,
     "metadata": {},
     "output_type": "execute_result"
    }
   ],
   "source": [
    "train_x['Pclass'].unique()"
   ]
  },
  {
   "cell_type": "code",
   "execution_count": 82,
   "metadata": {},
   "outputs": [
    {
     "name": "stderr",
     "output_type": "stream",
     "text": [
      "D:\\Anaconda3\\lib\\site-packages\\sklearn\\preprocessing\\label.py:95: DataConversionWarning: A column-vector y was passed when a 1d array was expected. Please change the shape of y to (n_samples, ), for example using ravel().\n",
      "  y = column_or_1d(y, warn=True)\n"
     ]
    }
   ],
   "source": [
    "Pclass= [[3], [1],[2]]\n",
    "enc = LE()\n",
    "enc.fit(Pclass)\n",
    "new_Pclass = enc.transform(train_x['Pclass'])\n",
    "new_Pclass = new_Pclass.reshape(-1, 1) # Needs to be the correct shape\n",
    "ohe = OHE(sparse=False) #Easier to read\n",
    "encoded_Pclass=ohe.fit_transform(new_Pclass)\n",
    "\n",
    "enc.fit(Pclass)\n",
    "new_Pclass_test = enc.transform(test_x['Pclass'])\n",
    "new_Pclass_test = new_Pclass_test.reshape(-1, 1) # Needs to be the correct shape\n",
    "ohe = OHE(sparse=False) #Easier to read\n",
    "encoded_Pclass_test=ohe.fit_transform(new_Pclass_test)"
   ]
  },
  {
   "cell_type": "code",
   "execution_count": 83,
   "metadata": {},
   "outputs": [
    {
     "data": {
      "text/plain": [
       "(418, 6)"
      ]
     },
     "execution_count": 83,
     "metadata": {},
     "output_type": "execute_result"
    }
   ],
   "source": [
    "encoded_data=train_x.drop(['Sex','Titles','Embarked','Pclass'],1)\n",
    "encoded_data_test=test_x.drop(['Sex','Titles','Embarked','Pclass'],1)\n",
    "encoded_data_test.shape"
   ]
  },
  {
   "cell_type": "code",
   "execution_count": 84,
   "metadata": {},
   "outputs": [
    {
     "data": {
      "text/plain": [
       "array([[ 0.,  0.,  1.],\n",
       "       [ 1.,  0.,  0.],\n",
       "       [ 0.,  0.,  1.],\n",
       "       ..., \n",
       "       [ 0.,  0.,  1.],\n",
       "       [ 1.,  0.,  0.],\n",
       "       [ 0.,  0.,  1.]])"
      ]
     },
     "execution_count": 84,
     "metadata": {},
     "output_type": "execute_result"
    }
   ],
   "source": [
    "encoded_Pclass[:,:]"
   ]
  },
  {
   "cell_type": "code",
   "execution_count": 85,
   "metadata": {},
   "outputs": [],
   "source": [
    "encoded_data['Female']=encoded_sex[:,0]\n",
    "encoded_data['Male']=encoded_sex[:,1]\n",
    "encoded_data['Mrs']=encoded_Titles[:,3]\n",
    "encoded_data['Mr']=encoded_Titles[:,2]\n",
    "encoded_data['Miss']=encoded_Titles[:,1]\n",
    "encoded_data['Other']=encoded_Titles[:,0]\n",
    "encoded_data['C']=encoded_embarked[:,0]\n",
    "encoded_data['Q']=encoded_embarked[:,1]\n",
    "encoded_data['S']=encoded_embarked[:,2]\n",
    "encoded_data['1']=encoded_Pclass[:,0]\n",
    "encoded_data['2']=encoded_Pclass[:,1]\n",
    "encoded_data['3']=encoded_Pclass[:,2]\n",
    "\n",
    "encoded_data_test['Female']=encoded_sex_test[:,0]\n",
    "encoded_data_test['Male']=encoded_sex_test[:,1]\n",
    "encoded_data_test['Mrs']=encoded_Titles_test[:,3]\n",
    "encoded_data_test['Mr']=encoded_Titles_test[:,2]\n",
    "encoded_data_test['Miss']=encoded_Titles_test[:,1]\n",
    "encoded_data_test['Other']=encoded_Titles_test[:,0]\n",
    "encoded_data_test['C']=encoded_embarked_test[:,0]\n",
    "encoded_data_test['Q']=encoded_embarked_test[:,1]\n",
    "encoded_data_test['S']=encoded_embarked_test[:,2]\n",
    "encoded_data_test['1']=encoded_Pclass_test[:,0]\n",
    "encoded_data_test['2']=encoded_Pclass_test[:,1]\n",
    "encoded_data_test['3']=encoded_Pclass_test[:,2]"
   ]
  },
  {
   "cell_type": "code",
   "execution_count": 86,
   "metadata": {},
   "outputs": [
    {
     "data": {
      "text/html": [
       "<div>\n",
       "<style>\n",
       "    .dataframe thead tr:only-child th {\n",
       "        text-align: right;\n",
       "    }\n",
       "\n",
       "    .dataframe thead th {\n",
       "        text-align: left;\n",
       "    }\n",
       "\n",
       "    .dataframe tbody tr th {\n",
       "        vertical-align: top;\n",
       "    }\n",
       "</style>\n",
       "<table border=\"1\" class=\"dataframe\">\n",
       "  <thead>\n",
       "    <tr style=\"text-align: right;\">\n",
       "      <th></th>\n",
       "      <th>Survived</th>\n",
       "      <th>Name</th>\n",
       "      <th>Age</th>\n",
       "      <th>SibSp</th>\n",
       "      <th>Parch</th>\n",
       "      <th>Fare</th>\n",
       "      <th>Cabin</th>\n",
       "      <th>Female</th>\n",
       "      <th>Male</th>\n",
       "      <th>Mrs</th>\n",
       "      <th>Mr</th>\n",
       "      <th>Miss</th>\n",
       "      <th>Other</th>\n",
       "      <th>C</th>\n",
       "      <th>Q</th>\n",
       "      <th>S</th>\n",
       "      <th>1</th>\n",
       "      <th>2</th>\n",
       "      <th>3</th>\n",
       "    </tr>\n",
       "  </thead>\n",
       "  <tbody>\n",
       "    <tr>\n",
       "      <th>0</th>\n",
       "      <td>0</td>\n",
       "      <td>Braund, Mr. Owen Harris</td>\n",
       "      <td>1.0</td>\n",
       "      <td>1</td>\n",
       "      <td>0</td>\n",
       "      <td>0.0</td>\n",
       "      <td>0</td>\n",
       "      <td>0.0</td>\n",
       "      <td>1.0</td>\n",
       "      <td>0.0</td>\n",
       "      <td>1.0</td>\n",
       "      <td>0.0</td>\n",
       "      <td>0.0</td>\n",
       "      <td>0.0</td>\n",
       "      <td>0.0</td>\n",
       "      <td>1.0</td>\n",
       "      <td>0.0</td>\n",
       "      <td>0.0</td>\n",
       "      <td>1.0</td>\n",
       "    </tr>\n",
       "    <tr>\n",
       "      <th>1</th>\n",
       "      <td>1</td>\n",
       "      <td>Cumings, Mrs. John Bradley (Florence Briggs Th...</td>\n",
       "      <td>3.0</td>\n",
       "      <td>1</td>\n",
       "      <td>0</td>\n",
       "      <td>0.0</td>\n",
       "      <td>1</td>\n",
       "      <td>1.0</td>\n",
       "      <td>0.0</td>\n",
       "      <td>1.0</td>\n",
       "      <td>0.0</td>\n",
       "      <td>0.0</td>\n",
       "      <td>0.0</td>\n",
       "      <td>1.0</td>\n",
       "      <td>0.0</td>\n",
       "      <td>0.0</td>\n",
       "      <td>1.0</td>\n",
       "      <td>0.0</td>\n",
       "      <td>0.0</td>\n",
       "    </tr>\n",
       "    <tr>\n",
       "      <th>2</th>\n",
       "      <td>1</td>\n",
       "      <td>Heikkinen, Miss. Laina</td>\n",
       "      <td>2.0</td>\n",
       "      <td>0</td>\n",
       "      <td>0</td>\n",
       "      <td>0.0</td>\n",
       "      <td>0</td>\n",
       "      <td>1.0</td>\n",
       "      <td>0.0</td>\n",
       "      <td>0.0</td>\n",
       "      <td>0.0</td>\n",
       "      <td>1.0</td>\n",
       "      <td>0.0</td>\n",
       "      <td>0.0</td>\n",
       "      <td>0.0</td>\n",
       "      <td>1.0</td>\n",
       "      <td>0.0</td>\n",
       "      <td>0.0</td>\n",
       "      <td>1.0</td>\n",
       "    </tr>\n",
       "    <tr>\n",
       "      <th>3</th>\n",
       "      <td>1</td>\n",
       "      <td>Futrelle, Mrs. Jacques Heath (Lily May Peel)</td>\n",
       "      <td>3.0</td>\n",
       "      <td>1</td>\n",
       "      <td>0</td>\n",
       "      <td>0.0</td>\n",
       "      <td>1</td>\n",
       "      <td>1.0</td>\n",
       "      <td>0.0</td>\n",
       "      <td>1.0</td>\n",
       "      <td>0.0</td>\n",
       "      <td>0.0</td>\n",
       "      <td>0.0</td>\n",
       "      <td>0.0</td>\n",
       "      <td>0.0</td>\n",
       "      <td>1.0</td>\n",
       "      <td>1.0</td>\n",
       "      <td>0.0</td>\n",
       "      <td>0.0</td>\n",
       "    </tr>\n",
       "    <tr>\n",
       "      <th>4</th>\n",
       "      <td>0</td>\n",
       "      <td>Allen, Mr. William Henry</td>\n",
       "      <td>3.0</td>\n",
       "      <td>0</td>\n",
       "      <td>0</td>\n",
       "      <td>0.0</td>\n",
       "      <td>0</td>\n",
       "      <td>0.0</td>\n",
       "      <td>1.0</td>\n",
       "      <td>0.0</td>\n",
       "      <td>1.0</td>\n",
       "      <td>0.0</td>\n",
       "      <td>0.0</td>\n",
       "      <td>0.0</td>\n",
       "      <td>0.0</td>\n",
       "      <td>1.0</td>\n",
       "      <td>0.0</td>\n",
       "      <td>0.0</td>\n",
       "      <td>1.0</td>\n",
       "    </tr>\n",
       "    <tr>\n",
       "      <th>5</th>\n",
       "      <td>0</td>\n",
       "      <td>Moran, Mr. James</td>\n",
       "      <td>2.0</td>\n",
       "      <td>0</td>\n",
       "      <td>0</td>\n",
       "      <td>0.0</td>\n",
       "      <td>0</td>\n",
       "      <td>0.0</td>\n",
       "      <td>1.0</td>\n",
       "      <td>0.0</td>\n",
       "      <td>1.0</td>\n",
       "      <td>0.0</td>\n",
       "      <td>0.0</td>\n",
       "      <td>0.0</td>\n",
       "      <td>1.0</td>\n",
       "      <td>0.0</td>\n",
       "      <td>0.0</td>\n",
       "      <td>0.0</td>\n",
       "      <td>1.0</td>\n",
       "    </tr>\n",
       "    <tr>\n",
       "      <th>6</th>\n",
       "      <td>0</td>\n",
       "      <td>McCarthy, Mr. Timothy J</td>\n",
       "      <td>4.0</td>\n",
       "      <td>0</td>\n",
       "      <td>0</td>\n",
       "      <td>0.0</td>\n",
       "      <td>1</td>\n",
       "      <td>0.0</td>\n",
       "      <td>1.0</td>\n",
       "      <td>0.0</td>\n",
       "      <td>1.0</td>\n",
       "      <td>0.0</td>\n",
       "      <td>0.0</td>\n",
       "      <td>0.0</td>\n",
       "      <td>0.0</td>\n",
       "      <td>1.0</td>\n",
       "      <td>1.0</td>\n",
       "      <td>0.0</td>\n",
       "      <td>0.0</td>\n",
       "    </tr>\n",
       "  </tbody>\n",
       "</table>\n",
       "</div>"
      ],
      "text/plain": [
       "   Survived                                               Name  Age  SibSp  \\\n",
       "0         0                            Braund, Mr. Owen Harris  1.0      1   \n",
       "1         1  Cumings, Mrs. John Bradley (Florence Briggs Th...  3.0      1   \n",
       "2         1                             Heikkinen, Miss. Laina  2.0      0   \n",
       "3         1       Futrelle, Mrs. Jacques Heath (Lily May Peel)  3.0      1   \n",
       "4         0                           Allen, Mr. William Henry  3.0      0   \n",
       "5         0                                   Moran, Mr. James  2.0      0   \n",
       "6         0                            McCarthy, Mr. Timothy J  4.0      0   \n",
       "\n",
       "   Parch  Fare Cabin  Female  Male  Mrs   Mr  Miss  Other    C    Q    S    1  \\\n",
       "0      0   0.0     0     0.0   1.0  0.0  1.0   0.0    0.0  0.0  0.0  1.0  0.0   \n",
       "1      0   0.0     1     1.0   0.0  1.0  0.0   0.0    0.0  1.0  0.0  0.0  1.0   \n",
       "2      0   0.0     0     1.0   0.0  0.0  0.0   1.0    0.0  0.0  0.0  1.0  0.0   \n",
       "3      0   0.0     1     1.0   0.0  1.0  0.0   0.0    0.0  0.0  0.0  1.0  1.0   \n",
       "4      0   0.0     0     0.0   1.0  0.0  1.0   0.0    0.0  0.0  0.0  1.0  0.0   \n",
       "5      0   0.0     0     0.0   1.0  0.0  1.0   0.0    0.0  0.0  1.0  0.0  0.0   \n",
       "6      0   0.0     1     0.0   1.0  0.0  1.0   0.0    0.0  0.0  0.0  1.0  1.0   \n",
       "\n",
       "     2    3  \n",
       "0  0.0  1.0  \n",
       "1  0.0  0.0  \n",
       "2  0.0  1.0  \n",
       "3  0.0  0.0  \n",
       "4  0.0  1.0  \n",
       "5  0.0  1.0  \n",
       "6  0.0  0.0  "
      ]
     },
     "execution_count": 86,
     "metadata": {},
     "output_type": "execute_result"
    }
   ],
   "source": [
    "encoded_data.head(7)"
   ]
  },
  {
   "cell_type": "code",
   "execution_count": 87,
   "metadata": {},
   "outputs": [
    {
     "data": {
      "text/plain": [
       "Mr         -0.549199\n",
       "Male       -0.543351\n",
       "3          -0.322308\n",
       "S          -0.149683\n",
       "SibSp      -0.035322\n",
       "Q           0.003650\n",
       "Age         0.018445\n",
       "Fare        0.077097\n",
       "Parch       0.081629\n",
       "Other       0.085221\n",
       "2           0.093349\n",
       "C           0.168240\n",
       "1           0.285904\n",
       "Miss        0.335636\n",
       "Mrs         0.341994\n",
       "Female      0.543351\n",
       "Survived    1.000000\n",
       "Name: Survived, dtype: float64"
      ]
     },
     "execution_count": 87,
     "metadata": {},
     "output_type": "execute_result"
    }
   ],
   "source": [
    "encoded_data.corr()['Survived'].sort_values()"
   ]
  },
  {
   "cell_type": "markdown",
   "metadata": {},
   "source": [
    "# MORE PREDICTIONS"
   ]
  },
  {
   "cell_type": "code",
   "execution_count": 88,
   "metadata": {},
   "outputs": [
    {
     "name": "stdout",
     "output_type": "stream",
     "text": [
      "Cross-validated scores: 0.828323686301\n",
      "Cross-validated scores: 0.791356542958\n",
      "Cross-validated scores: 0.823829304279\n",
      "Cross-validated scores: 0.835015038021\n"
     ]
    }
   ],
   "source": [
    "from sklearn.ensemble import RandomForestClassifier as RFC\n",
    "from sklearn.ensemble import AdaBoostClassifier as ABC\n",
    "from sklearn.svm import SVC \n",
    "from sklearn.model_selection import GridSearchCV as GS\n",
    "from sklearn.model_selection import train_test_split\n",
    "from sklearn.model_selection import KFold \n",
    "from sklearn.cross_validation import cross_val_score, cross_val_predict\n",
    "from sklearn import metrics\n",
    "\n",
    "\n",
    "\n",
    "lr = LR(random_state=9999)\n",
    "scores = cross_val_score(lr, encoded_data.drop(['Survived','Name'],1), encoded_data['Survived'], cv=10)\n",
    "print (\"Cross-validated scores:\", scores.mean())\n",
    "rfc = RFC(random_state=9999)\n",
    "scores = cross_val_score(rfc, encoded_data.drop(['Survived','Name'],1), encoded_data['Survived'], cv=10)\n",
    "print (\"Cross-validated scores:\", scores.mean())\n",
    "abc= ABC(random_state=9999)\n",
    "scores = cross_val_score(abc,encoded_data.drop(['Survived','Name'],1), encoded_data['Survived'], cv=10)\n",
    "print (\"Cross-validated scores:\", scores.mean())\n",
    "svc= SVC(random_state=9999)\n",
    "scores = cross_val_score(svc,encoded_data.drop(['Survived','Name'],1), encoded_data['Survived'], cv=10)\n",
    "print (\"Cross-validated scores:\", scores.mean())\n"
   ]
  },
  {
   "cell_type": "markdown",
   "metadata": {},
   "source": [
    "## RFC with grid search"
   ]
  },
  {
   "cell_type": "code",
   "execution_count": 89,
   "metadata": {},
   "outputs": [
    {
     "name": "stdout",
     "output_type": "stream",
     "text": [
      "Fitting 10 folds for each of 180 candidates, totalling 1800 fits\n"
     ]
    },
    {
     "name": "stderr",
     "output_type": "stream",
     "text": [
      "[Parallel(n_jobs=4)]: Done  49 tasks      | elapsed:    5.4s\n",
      "[Parallel(n_jobs=4)]: Done 349 tasks      | elapsed:   14.7s\n",
      "[Parallel(n_jobs=4)]: Done 849 tasks      | elapsed:   27.8s\n",
      "[Parallel(n_jobs=4)]: Done 1549 tasks      | elapsed:   45.5s\n",
      "[Parallel(n_jobs=4)]: Done 1793 out of 1800 | elapsed:   52.4s remaining:    0.1s\n"
     ]
    },
    {
     "name": "stdout",
     "output_type": "stream",
     "text": [
      "Best score: 0.835\n",
      "Best parameters set:\n",
      "\tcriterion: 'gini'\n",
      "\tmax_depth: 6\n",
      "\tmin_samples_split: 3\n",
      "\tn_estimators: 40\n"
     ]
    },
    {
     "name": "stderr",
     "output_type": "stream",
     "text": [
      "[Parallel(n_jobs=4)]: Done 1800 out of 1800 | elapsed:   52.7s finished\n"
     ]
    }
   ],
   "source": [
    "parameters = {'n_estimators':(10,20,40,70,100,150),\n",
    "                'criterion':(\"gini\",\"entropy\"),\n",
    "              'max_depth':(None, 1, 2, 4, 6),\n",
    "              'min_samples_split': (2, 3, 4),\n",
    "             }\n",
    "\n",
    "gs = GS(estimator=RFC(random_state=9999), param_grid=parameters,n_jobs=4,verbose=True,cv=10)\n",
    "gs.fit(encoded_data.drop(['Survived','Name'],1), encoded_data['Survived'])\n",
    "print(\"Best score: %0.3f\" % gs.best_score_)\n",
    "print(\"Best parameters set:\")\n",
    "best_parameters = gs.best_estimator_.get_params()\n",
    "for param_name in sorted(parameters.keys()):\n",
    "  print(\"\\t%s: %r\" % (param_name, best_parameters[param_name]))"
   ]
  },
  {
   "cell_type": "markdown",
   "metadata": {},
   "source": [
    "## Feature elimination"
   ]
  },
  {
   "cell_type": "code",
   "execution_count": 90,
   "metadata": {},
   "outputs": [
    {
     "name": "stdout",
     "output_type": "stream",
     "text": [
      "Cross-validated scores: 0.826104702235\n",
      "Cross-validated scores without:  Age 0.824993731796\n",
      "Cross-validated scores without:  SibSp 0.809250344086\n",
      "Cross-validated scores without:  Parch 0.828339339106\n",
      "Cross-validated scores without:  Fare 0.821635499419\n",
      "Cross-validated scores without:  Cabin 0.823838538159\n",
      "Cross-validated scores without:  Female 0.827228368668\n",
      "Cross-validated scores without:  Male 0.822727567721\n",
      "Cross-validated scores without:  Mrs 0.831735446684\n",
      "Cross-validated scores without:  Mr 0.829481907676\n",
      "Cross-validated scores without:  Miss 0.824987383799\n",
      "Cross-validated scores without:  Other 0.824974829659\n",
      "Cross-validated scores without:  C 0.830592949042\n",
      "Cross-validated scores without:  Q 0.826098354237\n",
      "Cross-validated scores without:  S 0.823844815229\n",
      "Cross-validated scores without:  1 0.822721290651\n",
      "Cross-validated scores without:  2 0.822733915718\n",
      "Cross-validated scores without:  3 0.829418782341\n"
     ]
    }
   ],
   "source": [
    "rfc=RFC(n_estimators=40, max_depth=6,min_samples_split=3,criterion='gini',random_state=9999 )\n",
    "new_c=encoded_data.drop(['Survived','Name'],1)\n",
    "scores = cross_val_score(rfc, encoded_data.drop(['Survived','Name'],1), encoded_data['Survived'], cv=5)\n",
    "print (\"Cross-validated scores:\", scores.mean())\n",
    "for i in range(0, new_c.shape[1]):\n",
    "    scores = cross_val_score(rfc, new_c.drop(new_c.columns[i],1), encoded_data['Survived'], cv=5)\n",
    "    print (\"Cross-validated scores without: \",new_c.columns[i], scores.mean())"
   ]
  },
  {
   "cell_type": "code",
   "execution_count": 91,
   "metadata": {},
   "outputs": [
    {
     "name": "stdout",
     "output_type": "stream",
     "text": [
      "Cross-validated scores: 0.831735446684\n",
      "Cross-validated scores without:  Age 0.829469211682\n",
      "Cross-validated scores without:  SibSp 0.820492859922\n",
      "Cross-validated scores without:  Parch 0.824962204592\n",
      "Cross-validated scores without:  Fare 0.829456657542\n",
      "Cross-validated scores without:  Cabin 0.817084269131\n",
      "Cross-validated scores without:  Female 0.823832119235\n",
      "Cross-validated scores without:  Male 0.823857440296\n",
      "Cross-validated scores without:  Mr 0.82837086631\n",
      "Cross-validated scores without:  Miss 0.833957458489\n",
      "Cross-validated scores without:  Other 0.829456657542\n",
      "Cross-validated scores without:  C 0.827222091598\n",
      "Cross-validated scores without:  Q 0.8272157436\n",
      "Cross-validated scores without:  S 0.826054272894\n",
      "Cross-validated scores without:  1 0.826104773162\n",
      "Cross-validated scores without:  2 0.823851234154\n",
      "Cross-validated scores without:  3 0.828314159899\n"
     ]
    }
   ],
   "source": [
    "rfc=RFC(n_estimators=40, max_depth=6,min_samples_split=3,criterion='gini',random_state=9999 )\n",
    "new_c=encoded_data.drop(['Survived','Name','Mrs'],1)\n",
    "scores = cross_val_score(rfc, encoded_data.drop(['Survived','Name','Mrs'],1), encoded_data['Survived'], cv=5)\n",
    "print (\"Cross-validated scores:\", scores.mean())\n",
    "for i in range(0, new_c.shape[1]):\n",
    "    scores = cross_val_score(rfc, new_c.drop(new_c.columns[i],1), encoded_data['Survived'], cv=5)\n",
    "    print (\"Cross-validated scores without: \",new_c.columns[i], scores.mean())"
   ]
  },
  {
   "cell_type": "code",
   "execution_count": 92,
   "metadata": {},
   "outputs": [
    {
     "name": "stdout",
     "output_type": "stream",
     "text": [
      "Cross-validated scores: 0.833957458489\n",
      "Cross-validated scores without:  Age 0.826110979304\n",
      "Cross-validated scores without:  SibSp 0.820486582852\n",
      "Cross-validated scores without:  Parch 0.829450309545\n",
      "Cross-validated scores without:  Fare 0.827234645737\n",
      "Cross-validated scores without:  Cabin 0.822727567721\n",
      "Cross-validated scores without:  Female 0.830599155184\n",
      "Cross-validated scores without:  Male 0.829475559679\n",
      "Cross-validated scores without:  Mr 0.829469211682\n",
      "Cross-validated scores without:  Other 0.827240922807\n",
      "Cross-validated scores without:  C 0.830580253047\n",
      "Cross-validated scores without:  Q 0.822721290651\n",
      "Cross-validated scores without:  S 0.830536029849\n",
      "Cross-validated scores without:  1 0.830586601045\n",
      "Cross-validated scores without:  2 0.827222091598\n",
      "Cross-validated scores without:  3 0.831691294413\n"
     ]
    }
   ],
   "source": [
    "rfc=RFC(n_estimators=40, max_depth=6,min_samples_split=3,criterion='gini',random_state=9999 )\n",
    "new_c=encoded_data.drop(['Survived','Name','Mrs','Miss'],1)\n",
    "scores = cross_val_score(rfc, encoded_data.drop(['Survived','Name','Mrs','Miss'],1), encoded_data['Survived'], cv=5)\n",
    "print (\"Cross-validated scores:\", scores.mean())\n",
    "for i in range(0, new_c.shape[1]):\n",
    "    scores = cross_val_score(rfc, new_c.drop(new_c.columns[i],1), encoded_data['Survived'], cv=5)\n",
    "    print (\"Cross-validated scores without: \",new_c.columns[i], scores.mean())"
   ]
  },
  {
   "cell_type": "code",
   "execution_count": 93,
   "metadata": {},
   "outputs": [
    {
     "data": {
      "text/plain": [
       "array([ 0.03845495,  0.0564899 ,  0.02769239,  0.01124888,  0.0488183 ,\n",
       "        0.17808938,  0.19296231,  0.2188528 ,  0.02772135,  0.01318214,\n",
       "        0.00765865,  0.02006127,  0.05177419,  0.01103634,  0.09595715])"
      ]
     },
     "execution_count": 93,
     "metadata": {},
     "output_type": "execute_result"
    }
   ],
   "source": [
    "rfc=RFC(n_estimators=20, max_depth=6,min_samples_split=4,criterion='gini',random_state=9999 )\n",
    "rfc.fit(encoded_data.drop(['Survived','Name','Mrs','Miss'],1), encoded_data['Survived'])\n",
    "rfc.feature_importances_"
   ]
  },
  {
   "cell_type": "code",
   "execution_count": 94,
   "metadata": {},
   "outputs": [
    {
     "data": {
      "text/html": [
       "<div>\n",
       "<style>\n",
       "    .dataframe thead tr:only-child th {\n",
       "        text-align: right;\n",
       "    }\n",
       "\n",
       "    .dataframe thead th {\n",
       "        text-align: left;\n",
       "    }\n",
       "\n",
       "    .dataframe tbody tr th {\n",
       "        vertical-align: top;\n",
       "    }\n",
       "</style>\n",
       "<table border=\"1\" class=\"dataframe\">\n",
       "  <thead>\n",
       "    <tr style=\"text-align: right;\">\n",
       "      <th></th>\n",
       "      <th>Age</th>\n",
       "      <th>SibSp</th>\n",
       "      <th>Parch</th>\n",
       "      <th>Fare</th>\n",
       "      <th>Cabin</th>\n",
       "      <th>Female</th>\n",
       "      <th>Male</th>\n",
       "      <th>Mrs</th>\n",
       "      <th>Mr</th>\n",
       "      <th>Miss</th>\n",
       "      <th>Other</th>\n",
       "      <th>C</th>\n",
       "      <th>Q</th>\n",
       "      <th>S</th>\n",
       "      <th>1</th>\n",
       "      <th>2</th>\n",
       "      <th>3</th>\n",
       "    </tr>\n",
       "  </thead>\n",
       "  <tbody>\n",
       "    <tr>\n",
       "      <th>0</th>\n",
       "      <td>1.0</td>\n",
       "      <td>1</td>\n",
       "      <td>0</td>\n",
       "      <td>0.0</td>\n",
       "      <td>0</td>\n",
       "      <td>0.0</td>\n",
       "      <td>1.0</td>\n",
       "      <td>0.0</td>\n",
       "      <td>1.0</td>\n",
       "      <td>0.0</td>\n",
       "      <td>0.0</td>\n",
       "      <td>0.0</td>\n",
       "      <td>0.0</td>\n",
       "      <td>1.0</td>\n",
       "      <td>0.0</td>\n",
       "      <td>0.0</td>\n",
       "      <td>1.0</td>\n",
       "    </tr>\n",
       "    <tr>\n",
       "      <th>1</th>\n",
       "      <td>3.0</td>\n",
       "      <td>1</td>\n",
       "      <td>0</td>\n",
       "      <td>0.0</td>\n",
       "      <td>1</td>\n",
       "      <td>1.0</td>\n",
       "      <td>0.0</td>\n",
       "      <td>1.0</td>\n",
       "      <td>0.0</td>\n",
       "      <td>0.0</td>\n",
       "      <td>0.0</td>\n",
       "      <td>1.0</td>\n",
       "      <td>0.0</td>\n",
       "      <td>0.0</td>\n",
       "      <td>1.0</td>\n",
       "      <td>0.0</td>\n",
       "      <td>0.0</td>\n",
       "    </tr>\n",
       "  </tbody>\n",
       "</table>\n",
       "</div>"
      ],
      "text/plain": [
       "   Age  SibSp  Parch  Fare Cabin  Female  Male  Mrs   Mr  Miss  Other    C  \\\n",
       "0  1.0      1      0   0.0     0     0.0   1.0  0.0  1.0   0.0    0.0  0.0   \n",
       "1  3.0      1      0   0.0     1     1.0   0.0  1.0  0.0   0.0    0.0  1.0   \n",
       "\n",
       "     Q    S    1    2    3  \n",
       "0  0.0  1.0  0.0  0.0  1.0  \n",
       "1  0.0  0.0  1.0  0.0  0.0  "
      ]
     },
     "execution_count": 94,
     "metadata": {},
     "output_type": "execute_result"
    }
   ],
   "source": [
    "encoded_data.drop(['Survived','Name'],1).head(2)"
   ]
  },
  {
   "cell_type": "code",
   "execution_count": 95,
   "metadata": {},
   "outputs": [
    {
     "data": {
      "text/html": [
       "<div>\n",
       "<style>\n",
       "    .dataframe thead tr:only-child th {\n",
       "        text-align: right;\n",
       "    }\n",
       "\n",
       "    .dataframe thead th {\n",
       "        text-align: left;\n",
       "    }\n",
       "\n",
       "    .dataframe tbody tr th {\n",
       "        vertical-align: top;\n",
       "    }\n",
       "</style>\n",
       "<table border=\"1\" class=\"dataframe\">\n",
       "  <thead>\n",
       "    <tr style=\"text-align: right;\">\n",
       "      <th></th>\n",
       "      <th>Age</th>\n",
       "      <th>SibSp</th>\n",
       "      <th>Parch</th>\n",
       "      <th>Fare</th>\n",
       "      <th>Cabin</th>\n",
       "      <th>Female</th>\n",
       "      <th>Male</th>\n",
       "      <th>Mrs</th>\n",
       "      <th>Mr</th>\n",
       "      <th>Miss</th>\n",
       "      <th>Other</th>\n",
       "      <th>C</th>\n",
       "      <th>Q</th>\n",
       "      <th>S</th>\n",
       "      <th>1</th>\n",
       "      <th>2</th>\n",
       "      <th>3</th>\n",
       "    </tr>\n",
       "  </thead>\n",
       "  <tbody>\n",
       "    <tr>\n",
       "      <th>0</th>\n",
       "      <td>2.0</td>\n",
       "      <td>0</td>\n",
       "      <td>0</td>\n",
       "      <td>0.0</td>\n",
       "      <td>0</td>\n",
       "      <td>0.0</td>\n",
       "      <td>1.0</td>\n",
       "      <td>0.0</td>\n",
       "      <td>1.0</td>\n",
       "      <td>0.0</td>\n",
       "      <td>0.0</td>\n",
       "      <td>0.0</td>\n",
       "      <td>1.0</td>\n",
       "      <td>0.0</td>\n",
       "      <td>0.0</td>\n",
       "      <td>0.0</td>\n",
       "      <td>1.0</td>\n",
       "    </tr>\n",
       "    <tr>\n",
       "      <th>1</th>\n",
       "      <td>4.0</td>\n",
       "      <td>1</td>\n",
       "      <td>0</td>\n",
       "      <td>0.0</td>\n",
       "      <td>0</td>\n",
       "      <td>1.0</td>\n",
       "      <td>0.0</td>\n",
       "      <td>1.0</td>\n",
       "      <td>0.0</td>\n",
       "      <td>0.0</td>\n",
       "      <td>0.0</td>\n",
       "      <td>0.0</td>\n",
       "      <td>0.0</td>\n",
       "      <td>1.0</td>\n",
       "      <td>0.0</td>\n",
       "      <td>0.0</td>\n",
       "      <td>1.0</td>\n",
       "    </tr>\n",
       "  </tbody>\n",
       "</table>\n",
       "</div>"
      ],
      "text/plain": [
       "   Age  SibSp  Parch  Fare Cabin  Female  Male  Mrs   Mr  Miss  Other    C  \\\n",
       "0  2.0      0      0   0.0     0     0.0   1.0  0.0  1.0   0.0    0.0  0.0   \n",
       "1  4.0      1      0   0.0     0     1.0   0.0  1.0  0.0   0.0    0.0  0.0   \n",
       "\n",
       "     Q    S    1    2    3  \n",
       "0  1.0  0.0  0.0  0.0  1.0  \n",
       "1  0.0  1.0  0.0  0.0  1.0  "
      ]
     },
     "execution_count": 95,
     "metadata": {},
     "output_type": "execute_result"
    }
   ],
   "source": [
    "encoded_data_test.drop(['Name'],1).head(2)"
   ]
  },
  {
   "cell_type": "markdown",
   "metadata": {},
   "source": [
    "## SVC with gridsearch"
   ]
  },
  {
   "cell_type": "code",
   "execution_count": 96,
   "metadata": {},
   "outputs": [
    {
     "name": "stdout",
     "output_type": "stream",
     "text": [
      "Fitting 10 folds for each of 6 candidates, totalling 60 fits\n",
      "Best score: 0.837\n",
      "Best parameters set:\n",
      "\tC: 20\n"
     ]
    },
    {
     "name": "stderr",
     "output_type": "stream",
     "text": [
      "[Parallel(n_jobs=2)]: Done  60 out of  60 | elapsed:    3.3s finished\n"
     ]
    }
   ],
   "source": [
    "parameters = {\n",
    "              'C':(0.1,1,10,20,50,100),\n",
    "             }\n",
    "\n",
    "gs = GS(estimator=SVC(random_state=9999,kernel='rbf'), param_grid=parameters,n_jobs=2,verbose=True,cv=10)\n",
    "gs.fit(encoded_data.drop(['Survived','Name'],1), encoded_data['Survived'])\n",
    "print(\"Best score: %0.3f\" % gs.best_score_)\n",
    "print(\"Best parameters set:\")\n",
    "best_parameters = gs.best_estimator_.get_params()\n",
    "for param_name in sorted(parameters.keys()):\n",
    "      print(\"\\t%s: %r\" % (param_name, best_parameters[param_name]))"
   ]
  },
  {
   "cell_type": "markdown",
   "metadata": {},
   "source": [
    "## Elimination"
   ]
  },
  {
   "cell_type": "code",
   "execution_count": 97,
   "metadata": {},
   "outputs": [
    {
     "name": "stdout",
     "output_type": "stream",
     "text": [
      "Cross-validated scores: 0.837312450346\n",
      "Cross-validated scores without:  Age 0.831719441607\n",
      "Cross-validated scores without:  SibSp 0.827262796504\n",
      "Cross-validated scores without:  Parch 0.832780047668\n",
      "Cross-validated scores without:  Fare 0.822755646351\n",
      "Cross-validated scores without:  Cabin 0.827250028374\n",
      "Cross-validated scores without:  Female 0.830595846101\n",
      "Cross-validated scores without:  Male 0.830595846101\n",
      "Cross-validated scores without:  Mrs 0.836188854841\n",
      "Cross-validated scores without:  Mr 0.829472250596\n",
      "Cross-validated scores without:  Miss 0.835077743729\n",
      "Cross-validated scores without:  Other 0.833966632618\n",
      "Cross-validated scores without:  C 0.831694189082\n",
      "Cross-validated scores without:  Q 0.833953864488\n",
      "Cross-validated scores without:  S 0.835077743729\n",
      "Cross-validated scores without:  1 0.836201339235\n",
      "Cross-validated scores without:  2 0.835065259335\n",
      "Cross-validated scores without:  3 0.836201339235\n"
     ]
    }
   ],
   "source": [
    "svc=SVC(random_state=9999, C=20,kernel='rbf')\n",
    "new_c=encoded_data.drop(['Survived','Name'],1)\n",
    "scores = cross_val_score(svc, encoded_data.drop(['Survived','Name'],1), encoded_data['Survived'], cv=10)\n",
    "print (\"Cross-validated scores:\", scores.mean())\n",
    "for i in range(0, new_c.shape[1]):\n",
    "    scores = cross_val_score(svc, new_c.drop(new_c.columns[i],1), encoded_data['Survived'], cv=10)\n",
    "    print (\"Cross-validated scores without: \",new_c.columns[i], scores.mean())"
   ]
  },
  {
   "cell_type": "code",
   "execution_count": 98,
   "metadata": {},
   "outputs": [
    {
     "data": {
      "text/plain": [
       "SVC(C=20, cache_size=200, class_weight=None, coef0=0.0,\n",
       "  decision_function_shape='ovr', degree=3, gamma='auto', kernel='rbf',\n",
       "  max_iter=-1, probability=False, random_state=9999, shrinking=True,\n",
       "  tol=0.001, verbose=False)"
      ]
     },
     "execution_count": 98,
     "metadata": {},
     "output_type": "execute_result"
    }
   ],
   "source": [
    "svc=SVC(random_state=9999, C=20)\n",
    "svc.fit(encoded_data.drop(['Survived','Name'],1), encoded_data['Survived'])"
   ]
  },
  {
   "cell_type": "markdown",
   "metadata": {},
   "source": [
    "## Boosting with gridsearch"
   ]
  },
  {
   "cell_type": "code",
   "execution_count": null,
   "metadata": {},
   "outputs": [
    {
     "name": "stdout",
     "output_type": "stream",
     "text": [
      "Fitting 10 folds for each of 315 candidates, totalling 3150 fits\n"
     ]
    },
    {
     "name": "stderr",
     "output_type": "stream",
     "text": [
      "[Parallel(n_jobs=4)]: Done  71 tasks      | elapsed:    4.3s\n",
      "[Parallel(n_jobs=4)]: Done 1060 tasks      | elapsed:   32.8s\n"
     ]
    }
   ],
   "source": [
    "parameters = {'n_estimators':(10,20,40,70,100,150,300),\n",
    "              'max_depth':(1, 2,3, 4, 6),\n",
    "              'min_samples_split': (2, 3, 4),\n",
    "              'learning_rate': (0.1, 0.2, 0.3)\n",
    "             }\n",
    "\n",
    "gs = GS(estimator=GBC(random_state=9999), param_grid=parameters,n_jobs=4,verbose=True,cv=10)\n",
    "gs.fit(encoded_data.drop(['Survived','Name'],1), encoded_data['Survived'])\n",
    "print(\"Best score: %0.3f\" % gs.best_score_)\n",
    "print(\"Best parameters set:\")\n",
    "best_parameters = gs.best_estimator_.get_params()\n",
    "for param_name in sorted(parameters.keys()):\n",
    "  print(\"\\t%s: %r\" % (param_name, best_parameters[param_name]))"
   ]
  },
  {
   "cell_type": "markdown",
   "metadata": {},
   "source": [
    "## Feature Elimination"
   ]
  },
  {
   "cell_type": "code",
   "execution_count": null,
   "metadata": {},
   "outputs": [],
   "source": [
    "gbc=GBC(random_state=9999, n_estimators=70,max_depth=2,learning_rate=0.1,min_samples_split=2)\n",
    "new_c=encoded_data.drop(['Survived','Name'],1)\n",
    "scores = cross_val_score(gbc, encoded_data.drop(['Survived','Name'],1), encoded_data['Survived'], cv=10)\n",
    "print (\"Cross-validated scores:\", scores.mean())\n",
    "for i in range(0, new_c.shape[1]):\n",
    "    scores = cross_val_score(svc, new_c.drop(new_c.columns[i],1), encoded_data['Survived'], cv=10)\n",
    "    print (\"Cross-validated scores without: \",new_c.columns[i], scores.mean())"
   ]
  },
  {
   "cell_type": "code",
   "execution_count": null,
   "metadata": {},
   "outputs": [],
   "source": [
    "gbc=GBC(random_state=9999, n_estimators=70,max_depth=2,learning_rate=0.1,min_samples_split=2)\n",
    "gbc.fit(encoded_data.drop(['Survived','Name'],1), encoded_data['Survived'])"
   ]
  },
  {
   "cell_type": "markdown",
   "metadata": {},
   "source": [
    "# Logistic regression with Grid search"
   ]
  },
  {
   "cell_type": "code",
   "execution_count": null,
   "metadata": {},
   "outputs": [],
   "source": [
    "parameters = {'penalty':['l1','l2'],\n",
    "              'fit_intercept':[True,False],\n",
    "              'C':[0.1,1,10,20,50,100,500,1000]}\n",
    "\n",
    "gs = GS(estimator=LR(random_state=9999), param_grid=parameters,n_jobs=4,verbose=True,cv=10)\n",
    "gs.fit(encoded_data.drop(['Survived','Name'],1), encoded_data['Survived'])\n",
    "print(\"Best score: %0.3f\" % gs.best_score_)\n",
    "print(\"Best parameters set:\")\n",
    "best_parameters = gs.best_estimator_.get_params()\n",
    "for param_name in sorted(parameters.keys()):\n",
    "      print(\"\\t%s: %r\" % (param_name, best_parameters[param_name]))"
   ]
  },
  {
   "cell_type": "code",
   "execution_count": null,
   "metadata": {},
   "outputs": [],
   "source": [
    "#CROSS VALIDATION WITH FEATURE REMOVAL\n",
    "log_reg = LR(C=1, fit_intercept=True, penalty=\"l2\")\n",
    "new_c=encoded_data.drop(['Survived','Name'],1)\n",
    "scores = cross_val_score(log_reg, encoded_data.drop(['Survived','Name'],1), encoded_data['Survived'], cv=10)\n",
    "print (\"Cross-validated scores:\", scores.mean())\n",
    "for i in range(0, new_c.shape[1]):\n",
    "    scores = cross_val_score(log_reg, new_c.drop(new_c.columns[i],1), encoded_data['Survived'], cv=10)\n",
    "    print (\"Cross-validated scores without: \",new_c.columns[i], scores.mean())"
   ]
  },
  {
   "cell_type": "code",
   "execution_count": null,
   "metadata": {},
   "outputs": [],
   "source": [
    "#CROSS VALIDATION WITH FEATURE REMOVAL\n",
    "log_reg = LR(C=1, fit_intercept=True, penalty=\"l2\")\n",
    "new_c=encoded_data.drop(['Survived','Name','2'],1)\n",
    "scores = cross_val_score(log_reg, encoded_data.drop(['Survived','Name','2'],1), encoded_data['Survived'], cv=10)\n",
    "print (\"Cross-validated scores:\", scores.mean())\n",
    "for i in range(0, new_c.shape[1]):\n",
    "    scores = cross_val_score(log_reg, new_c.drop(new_c.columns[i],1), encoded_data['Survived'], cv=10)\n",
    "    print (\"Cross-validated scores without: \",new_c.columns[i], scores.mean())"
   ]
  },
  {
   "cell_type": "code",
   "execution_count": null,
   "metadata": {},
   "outputs": [],
   "source": [
    "#CROSS VALIDATION WITH FEATURE REMOVAL\n",
    "log_reg = LR(C=1, fit_intercept=True, penalty=\"l2\")\n",
    "new_c=encoded_data.drop(['Survived','Name','2','1'],1)\n",
    "scores = cross_val_score(log_reg, encoded_data.drop(['Survived','Name','2','1'],1), encoded_data['Survived'], cv=10)\n",
    "print (\"Cross-validated scores:\", scores.mean())\n",
    "for i in range(0, new_c.shape[1]):\n",
    "    scores = cross_val_score(log_reg, new_c.drop(new_c.columns[i],1), encoded_data['Survived'], cv=10)\n",
    "    print (\"Cross-validated scores without: \",new_c.columns[i], scores.mean())"
   ]
  },
  {
   "cell_type": "code",
   "execution_count": null,
   "metadata": {},
   "outputs": [],
   "source": [
    "#CROSS VALIDATION WITH FEATURE REMOVAL\n",
    "log_reg = LR(C=1, fit_intercept=True, penalty=\"l2\")\n",
    "new_c=encoded_data.drop(['Survived','Name','2','1','Q'],1)\n",
    "scores = cross_val_score(log_reg, encoded_data.drop(['Survived','Name','2','1','Q'],1), encoded_data['Survived'], cv=10)\n",
    "print (\"Cross-validated scores:\", scores.mean())\n",
    "for i in range(0, new_c.shape[1]):\n",
    "    scores = cross_val_score(log_reg, new_c.drop(new_c.columns[i],1), encoded_data['Survived'], cv=10)\n",
    "    print (\"Cross-validated scores without: \",new_c.columns[i], scores.mean())"
   ]
  },
  {
   "cell_type": "code",
   "execution_count": null,
   "metadata": {},
   "outputs": [],
   "source": [
    "lr=LR(C=1, fit_intercept=True, penalty=\"l2\")\n",
    "lr.fit(encoded_data.drop(['Survived','Name','2','1','Q'],1), encoded_data['Survived'])"
   ]
  },
  {
   "cell_type": "code",
   "execution_count": null,
   "metadata": {},
   "outputs": [],
   "source": [
    "res=lr.predict(encoded_data_test.drop(['Name','2','1','Q'],1))\n",
    "n_points = res.shape[0]\n",
    "y_pred_pp = np.ones((n_points, 2))\n",
    "y_pred_pp[:, 0] = test['PassengerId']\n",
    "y_pred_pp[:, 1] = res\n",
    "np.savetxt('lr.csv', y_pred_pp, fmt='%d', delimiter=',',header=\"PassengerId,Survived\",comments='')"
   ]
  },
  {
   "cell_type": "code",
   "execution_count": null,
   "metadata": {},
   "outputs": [],
   "source": []
  }
 ],
 "metadata": {
  "kernelspec": {
   "display_name": "Python 3",
   "language": "python",
   "name": "python3"
  },
  "language_info": {
   "codemirror_mode": {
    "name": "ipython",
    "version": 3
   },
   "file_extension": ".py",
   "mimetype": "text/x-python",
   "name": "python",
   "nbconvert_exporter": "python",
   "pygments_lexer": "ipython3",
   "version": "3.6.2"
  }
 },
 "nbformat": 4,
 "nbformat_minor": 2
}
