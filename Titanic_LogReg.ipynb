{
 "cells": [
  {
   "cell_type": "code",
   "execution_count": 2,
   "metadata": {
    "collapsed": true
   },
   "outputs": [],
   "source": [
    "#IMPORT ALL DATA\n",
    "%matplotlib inline\n",
    "\n",
    "import matplotlib\n",
    "import numpy as np\n",
    "import matplotlib.pyplot as plt\n",
    "import pandas as pd\n",
    "\n",
    "train=pd.read_csv('train.csv')\n",
    "test=pd.read_csv('test.csv')\n",
    "test_x=test.drop('PassengerId',1) #is this actually working?\n",
    "train_x=train.drop('PassengerId',1)\n",
    "test_x=test.drop('Ticket',1)\n",
    "train_x=train.drop('Ticket',1)"
   ]
  },
  {
   "cell_type": "code",
   "execution_count": 3,
   "metadata": {
    "collapsed": true
   },
   "outputs": [],
   "source": [
    "#FIND THE MEDIAN AGE AND REPLACE BLANK VALUES WITH IT\n",
    "median_age=np.median(train_x['Age'].dropna())\n",
    "train_x['Age']=train_x['Age'].fillna(median_age)\n",
    "median_age=np.median(test_x['Age'].dropna())\n",
    "test_x['Age']=test_x['Age'].fillna(median_age)"
   ]
  },
  {
   "cell_type": "code",
   "execution_count": 4,
   "metadata": {
    "collapsed": true
   },
   "outputs": [],
   "source": [
    "#SET CABIN TO BINARY FEATURE\n",
    "train_x.loc[train_x['Cabin'].isnull(), 'Cabin'] = 0\n",
    "train_x.loc[train_x['Cabin'] != 0, 'Cabin'] = 1\n",
    "test_x.loc[test_x['Cabin'].isnull(), 'Cabin'] = 0\n",
    "test_x.loc[test_x['Cabin'] != 0, 'Cabin'] = 1"
   ]
  },
  {
   "cell_type": "code",
   "execution_count": 5,
   "metadata": {
    "collapsed": true
   },
   "outputs": [],
   "source": [
    "#SET MISSING EMBARKED VALUES TO THE MOST COMMON ONE\n",
    "train_x['Embarked']=train_x['Embarked'].fillna('S')\n",
    "test_x['Embarked']=test_x['Embarked'].fillna('S')"
   ]
  },
  {
   "cell_type": "code",
   "execution_count": 6,
   "metadata": {
    "collapsed": true
   },
   "outputs": [],
   "source": [
    "#USE VALUES INSTEAD OF TEXT IN EMBARKED?\n",
    "train_x['Embarked']=train_x['Embarked'].replace({'S': 0, 'C': 1, 'Q':2})\n",
    "test_x['Embarked']=test_x['Embarked'].replace({'S': 0, 'C': 1, 'Q':2})"
   ]
  },
  {
   "cell_type": "code",
   "execution_count": 7,
   "metadata": {
    "collapsed": true
   },
   "outputs": [],
   "source": [
    "#CHANGE MISSING FARE VALUES TO THE MEDIAN VALUE\n",
    "test_x['Fare'] = test_x['Fare'].fillna(test_x['Fare'].dropna().median())"
   ]
  },
  {
   "cell_type": "code",
   "execution_count": 8,
   "metadata": {
    "collapsed": true
   },
   "outputs": [],
   "source": [
    "#REPLACE MALE AND FEMALES WITH NUMBERS?\n",
    "train_x['Sex']=train_x['Sex'].replace('male',0)\n",
    "train_x['Sex']=train_x['Sex'].replace('female',1)\n",
    "test_x['Sex']=test_x['Sex'].replace('male',0)\n",
    "test_x['Sex']=test_x['Sex'].replace('female',1)"
   ]
  },
  {
   "cell_type": "code",
   "execution_count": 9,
   "metadata": {},
   "outputs": [
    {
     "data": {
      "image/png": "[encoded data removed]",
      "text/plain": [
       "<matplotlib.figure.Figure at 0x13e9181f2e8>"
      ]
     },
     "metadata": {},
     "output_type": "display_data"
    }
   ],
   "source": [
    "#CONVERT FARE VALUES TO DISCRETE CATEGORIES\n",
    "fig = plt.figure(figsize=(5,5))\n",
    "ax1=fig.add_subplot(1,1,1)\n",
    "values=ax1.hist(train_x['Fare'], bins=7)\n",
    "for i in range(1,len(values[1])):\n",
    "    train_x.loc[(train_x['Fare'] < values[1][i]) & (train_x['Fare'] >= values[1][i-1]),'Fare'] = i-1\n",
    "    test_x.loc[(test_x['Fare'] < values[1][i]) & (test_x['Fare'] >= values[1][i-1]),'Fare'] = i-1"
   ]
  },
  {
   "cell_type": "code",
   "execution_count": 10,
   "metadata": {},
   "outputs": [
    {
     "data": {
      "image/png": "[encoded data removed]",
      "text/plain": [
       "<matplotlib.figure.Figure at 0x13e91b07da0>"
      ]
     },
     "metadata": {},
     "output_type": "display_data"
    }
   ],
   "source": [
    "#CONVERT FARE VALUES TO DISCRETE CATEGORIES\n",
    "fig = plt.figure(figsize=(5,5))\n",
    "ax1=fig.add_subplot(1,1,1)\n",
    "values=ax1.hist(train_x['Age'], bins=7)\n",
    "for i in range(1,len(values[1])):\n",
    "    train_x.loc[(train_x['Age'] < values[1][i]) & (train_x['Age'] >= values[1][i-1]),'Age'] = i-1\n",
    "    test_x.loc[(test_x['Age'] < values[1][i]) & (test_x['Age'] >= values[1][i-1]),'Age'] = i-1"
   ]
  },
  {
   "cell_type": "code",
   "execution_count": 11,
   "metadata": {},
   "outputs": [
    {
     "name": "stdout",
     "output_type": "stream",
     "text": [
      "['Mr' 'Mrs' 'Miss' 'Master' 'Don' 'Rev' 'Dr' 'Mme' 'Ms' 'Major' 'Lady'\n",
      " 'Sir' 'Mlle' 'Col' 'Capt' 'the Countess' 'Jonkheer']\n",
      "['Mr' 'Mrs' 'Miss' 'Master' 'Ms' 'Col' 'Rev' 'Dr' 'Dona']\n"
     ]
    }
   ],
   "source": [
    "#REDUCE THE NUMBER OF TITLES IN THE DATASET\n",
    "names = list(train_x['Name'])\n",
    "names_test=list(test_x['Name'])\n",
    "\n",
    "titles=[]\n",
    "for name in names:\n",
    "    tmp=name.split(',')\n",
    "    tmp=tmp[1].split('.')\n",
    "    titles.append(tmp[0].strip())\n",
    "    \n",
    "titles_test=[]\n",
    "for name in names_test:\n",
    "    tmp=name.split(',')\n",
    "    tmp=tmp[1].split('.')\n",
    "    titles_test .append(tmp[0].strip()) \n",
    "    \n",
    "train_x['Titles']=titles\n",
    "test_x['Titles']=titles_test\n",
    "\n",
    "print(train_x['Titles'].unique())\n",
    "print(test_x['Titles'].unique())\n",
    "\n",
    "train_x['Titles']=train_x['Titles'].replace({'Mme': 'Mrs', 'Ms': 'Miss', 'Mlle':'Miss',\n",
    "                                              'Don':'Other'\n",
    "                                            , 'Rev':'Other'\n",
    "                                             , 'Dr':'Other'\n",
    "                                             , 'Major':'Other'\n",
    "                                             , 'Lady':'Other'\n",
    "                                             , 'Sir':'Other'\n",
    "                                             , 'Col':'Other'\n",
    "                                             , 'Capt':'Other'\n",
    "                                             , 'the Countess':'Other'\n",
    "                                             , 'Jonkheer':'Other'\n",
    "                                            \n",
    "                                            })\n",
    "\n",
    "\n",
    "test_x['Titles']=test_x['Titles'].replace({'Mme': 'Mrs', 'Ms': 'Miss', 'Mlle':'Miss',\n",
    "                                              'Dona':'Other'\n",
    "                                            , 'Rev':'Other'\n",
    "                                             , 'Dr':'Other'\n",
    "                                             , 'Major':'Other'\n",
    "                                             , 'Lady':'Other'\n",
    "                                             , 'Sir':'Other'\n",
    "                                             , 'Col':'Other'\n",
    "                                             , 'Capt':'Other'\n",
    "                                             , 'the Countess':'Other'\n",
    "                                             , 'Jonkheer':'Other'\n",
    "                                            \n",
    "                                            })"
   ]
  },
  {
   "cell_type": "code",
   "execution_count": null,
   "metadata": {
    "collapsed": true
   },
   "outputs": [],
   "source": []
  },
  {
   "cell_type": "code",
   "execution_count": 12,
   "metadata": {},
   "outputs": [
    {
     "data": {
      "text/plain": [
       "(418, 2)"
      ]
     },
     "execution_count": 12,
     "metadata": {},
     "output_type": "execute_result"
    }
   ],
   "source": [
    "#ONE HOT ENCODE THE SEX VALUES\n",
    "from sklearn.preprocessing import OneHotEncoder as OHE\n",
    "from sklearn.preprocessing import  LabelEncoder as LE\n",
    "\n",
    "sex= [['male'], ['female']]\n",
    "enc = LE()\n",
    "enc.fit(train_x['Sex'])\n",
    "new_sex = enc.transform(train_x['Sex'])\n",
    "new_sex = new_sex.reshape(-1, 1) # Needs to be the correct shape\n",
    "ohe = OHE(sparse=False) #Easier to read\n",
    "encoded_sex=ohe.fit_transform(new_sex)\n",
    "\n",
    "enc.fit(test_x['Sex'])\n",
    "new_sex_test = enc.transform(test_x['Sex'])\n",
    "new_sex_test = new_sex_test.reshape(-1, 1) # Needs to be the correct shape\n",
    "ohe = OHE(sparse=False) #Easier to read\n",
    "encoded_sex_test=ohe.fit_transform(new_sex_test)\n",
    "encoded_sex_test.shape"
   ]
  },
  {
   "cell_type": "code",
   "execution_count": 13,
   "metadata": {
    "collapsed": true
   },
   "outputs": [],
   "source": [
    "#ONE HOT ENCODE THE EMBARKED VALUES\n",
    "embarked= [['S'], ['C'],['Q']]\n",
    "enc = LE()\n",
    "enc.fit(train_x['Embarked'])\n",
    "new_embarked = enc.transform(train_x['Embarked'])\n",
    "new_embarked = new_embarked.reshape(-1, 1) # Needs to be the correct shape\n",
    "ohe = OHE(sparse=False) #Easier to read\n",
    "encoded_embarked=ohe.fit_transform(new_embarked)\n",
    "\n",
    "enc.fit(test_x['Embarked'])\n",
    "new_embarked_test = enc.transform(test_x['Embarked'])\n",
    "new_embarked_test = new_embarked_test.reshape(-1, 1) # Needs to be the correct shape\n",
    "ohe = OHE(sparse=False) #Easier to read\n",
    "encoded_embarked_test=ohe.fit_transform(new_embarked_test)"
   ]
  },
  {
   "cell_type": "code",
   "execution_count": 14,
   "metadata": {
    "collapsed": true
   },
   "outputs": [],
   "source": [
    "#ONE HOT ENCODE TITLE VALUES\n",
    "Titles= [['Mrs'], ['Mr'],['Miss'],['Other']]\n",
    "enc = LE()\n",
    "enc.fit(train_x['Titles'])\n",
    "new_Titles = enc.transform(train_x['Titles'])\n",
    "new_Titles = new_Titles.reshape(-1, 1) # Needs to be the correct shape\n",
    "ohe = OHE(sparse=False) #Easier to read\n",
    "encoded_Titles=ohe.fit_transform(new_Titles)\n",
    "\n",
    "enc.fit(test_x['Titles'])\n",
    "new_Titles_test = enc.transform(test_x['Titles'])\n",
    "new_Titles_test = new_Titles_test.reshape(-1, 1) # Needs to be the correct shape\n",
    "ohe = OHE(sparse=False) #Easier to read\n",
    "encoded_Titles_test=ohe.fit_transform(new_Titles_test)"
   ]
  },
  {
   "cell_type": "code",
   "execution_count": 15,
   "metadata": {},
   "outputs": [
    {
     "name": "stderr",
     "output_type": "stream",
     "text": [
      "C:\\Users\\Mark\\Anaconda3\\lib\\site-packages\\sklearn\\preprocessing\\label.py:95: DataConversionWarning: A column-vector y was passed when a 1d array was expected. Please change the shape of y to (n_samples, ), for example using ravel().\n",
      "  y = column_or_1d(y, warn=True)\n"
     ]
    }
   ],
   "source": [
    "#ONE HOT ENCODE CLASS VALUES\n",
    "Pclass= [[3], [1],[2]]\n",
    "enc = LE()\n",
    "enc.fit(Pclass)\n",
    "new_Pclass = enc.transform(train_x['Pclass'])\n",
    "new_Pclass = new_Pclass.reshape(-1, 1) # Needs to be the correct shape\n",
    "ohe = OHE(sparse=False) #Easier to read\n",
    "encoded_Pclass=ohe.fit_transform(new_Pclass)\n",
    "\n",
    "enc.fit(Pclass)\n",
    "new_Pclass_test = enc.transform(test_x['Pclass'])\n",
    "new_Pclass_test = new_Pclass_test.reshape(-1, 1) # Needs to be the correct shape\n",
    "ohe = OHE(sparse=False) #Easier to read\n",
    "encoded_Pclass_test=ohe.fit_transform(new_Pclass_test)"
   ]
  },
  {
   "cell_type": "code",
   "execution_count": 16,
   "metadata": {
    "collapsed": true
   },
   "outputs": [],
   "source": [
    "#CREATE A NEW DATAFRAME WITH THE BINNED AND ONE HOT ENCODED VALUES\n",
    "encoded_data=train_x.drop(['Sex','Titles','Embarked','Pclass'],1)\n",
    "encoded_data_test=test_x.drop(['Sex','Titles','Embarked','Pclass'],1)\n",
    "\n",
    "encoded_data['Female']=encoded_sex[:,0]\n",
    "encoded_data['Male']=encoded_sex[:,1]\n",
    "encoded_data['Mrs']=encoded_Titles[:,3]\n",
    "encoded_data['Mr']=encoded_Titles[:,2]\n",
    "encoded_data['Miss']=encoded_Titles[:,1]\n",
    "encoded_data['Other']=encoded_Titles[:,0]\n",
    "encoded_data['C']=encoded_embarked[:,0]\n",
    "encoded_data['Q']=encoded_embarked[:,1]\n",
    "encoded_data['S']=encoded_embarked[:,2]\n",
    "encoded_data['1']=encoded_Pclass[:,0]\n",
    "encoded_data['2']=encoded_Pclass[:,1]\n",
    "encoded_data['3']=encoded_Pclass[:,2]\n",
    "\n",
    "encoded_data_test['Female']=encoded_sex_test[:,0]\n",
    "encoded_data_test['Male']=encoded_sex_test[:,1]\n",
    "encoded_data_test['Mrs']=encoded_Titles_test[:,3]\n",
    "encoded_data_test['Mr']=encoded_Titles_test[:,2]\n",
    "encoded_data_test['Miss']=encoded_Titles_test[:,1]\n",
    "encoded_data_test['Other']=encoded_Titles_test[:,0]\n",
    "encoded_data_test['C']=encoded_embarked_test[:,0]\n",
    "encoded_data_test['Q']=encoded_embarked_test[:,1]\n",
    "encoded_data_test['S']=encoded_embarked_test[:,2]\n",
    "encoded_data_test['1']=encoded_Pclass_test[:,0]\n",
    "encoded_data_test['2']=encoded_Pclass_test[:,1]\n",
    "encoded_data_test['3']=encoded_Pclass_test[:,2]"
   ]
  },
  {
   "cell_type": "code",
   "execution_count": null,
   "metadata": {
    "collapsed": true
   },
   "outputs": [],
   "source": []
  },
  {
   "cell_type": "code",
   "execution_count": 17,
   "metadata": {
    "collapsed": true
   },
   "outputs": [],
   "source": [
    "#REMOVE THE PASSENGERID COLUMN\n",
    "encoded_data_test = encoded_data_test.drop('PassengerId',1)\n",
    "encoded_data = encoded_data.drop('PassengerId',1)"
   ]
  },
  {
   "cell_type": "code",
   "execution_count": 19,
   "metadata": {},
   "outputs": [
    {
     "name": "stdout",
     "output_type": "stream",
     "text": [
      "Fitting 8 folds for each of 32 candidates, totalling 256 fits\n"
     ]
    },
    {
     "name": "stderr",
     "output_type": "stream",
     "text": [
      "[Parallel(n_jobs=4)]: Done  50 tasks      | elapsed:    6.7s\n"
     ]
    },
    {
     "name": "stdout",
     "output_type": "stream",
     "text": [
      "Best score: 0.828\n",
      "Best parameters set:\n",
      "\tC: 1\n",
      "\tfit_intercept: True\n",
      "\tpenalty: 'l2'\n"
     ]
    },
    {
     "name": "stderr",
     "output_type": "stream",
     "text": [
      "[Parallel(n_jobs=4)]: Done 256 out of 256 | elapsed:    8.4s finished\n"
     ]
    }
   ],
   "source": [
    "#LOGISTIC REGRESSION WITH GRIDSEARCH\n",
    "from sklearn.linear_model import LogisticRegression\n",
    "from sklearn.model_selection import train_test_split\n",
    "from sklearn.model_selection import KFold \n",
    "from sklearn.cross_validation import cross_val_score, cross_val_predict\n",
    "from sklearn.model_selection import GridSearchCV as GS\n",
    "from sklearn import metrics\n",
    "from sklearn.linear_model import LogisticRegression\n",
    "\n",
    "parameters = {'penalty':['l1','l2'],\n",
    "              'fit_intercept':[True,False],\n",
    "              'C':[0.1,1,10,20,50,100,500,1000]}\n",
    "\n",
    "gs = GS(estimator=LogisticRegression(random_state=9999), param_grid=parameters,n_jobs=4,verbose=True,cv=8)\n",
    "gs.fit(encoded_data.drop(['Survived','Name'],1), encoded_data['Survived'])\n",
    "print(\"Best score: %0.3f\" % gs.best_score_)\n",
    "print(\"Best parameters set:\")\n",
    "best_parameters = gs.best_estimator_.get_params()\n",
    "for param_name in sorted(parameters.keys()):\n",
    "  print(\"\\t%s: %r\" % (param_name, best_parameters[param_name]))"
   ]
  },
  {
   "cell_type": "code",
   "execution_count": 26,
   "metadata": {},
   "outputs": [
    {
     "data": {
      "text/html": [
       "<div>\n",
       "<style>\n",
       "    .dataframe thead tr:only-child th {\n",
       "        text-align: right;\n",
       "    }\n",
       "\n",
       "    .dataframe thead th {\n",
       "        text-align: left;\n",
       "    }\n",
       "\n",
       "    .dataframe tbody tr th {\n",
       "        vertical-align: top;\n",
       "    }\n",
       "</style>\n",
       "<table border=\"1\" class=\"dataframe\">\n",
       "  <thead>\n",
       "    <tr style=\"text-align: right;\">\n",
       "      <th></th>\n",
       "      <th>Survived</th>\n",
       "      <th>Age</th>\n",
       "      <th>SibSp</th>\n",
       "      <th>Parch</th>\n",
       "      <th>Fare</th>\n",
       "      <th>Female</th>\n",
       "      <th>Male</th>\n",
       "      <th>Mrs</th>\n",
       "      <th>Mr</th>\n",
       "      <th>Miss</th>\n",
       "      <th>Other</th>\n",
       "      <th>C</th>\n",
       "      <th>Q</th>\n",
       "      <th>S</th>\n",
       "      <th>1</th>\n",
       "      <th>2</th>\n",
       "      <th>3</th>\n",
       "    </tr>\n",
       "  </thead>\n",
       "  <tbody>\n",
       "    <tr>\n",
       "      <th>Survived</th>\n",
       "      <td>1.000000</td>\n",
       "      <td>0.018445</td>\n",
       "      <td>-0.035322</td>\n",
       "      <td>0.081629</td>\n",
       "      <td>0.077097</td>\n",
       "      <td>-0.543351</td>\n",
       "      <td>0.543351</td>\n",
       "      <td>0.341994</td>\n",
       "      <td>-0.549199</td>\n",
       "      <td>0.335636</td>\n",
       "      <td>0.085221</td>\n",
       "      <td>-0.149683</td>\n",
       "      <td>0.168240</td>\n",
       "      <td>0.003650</td>\n",
       "      <td>0.285904</td>\n",
       "      <td>0.093349</td>\n",
       "      <td>-0.322308</td>\n",
       "    </tr>\n",
       "    <tr>\n",
       "      <th>Age</th>\n",
       "      <td>0.018445</td>\n",
       "      <td>1.000000</td>\n",
       "      <td>-0.101438</td>\n",
       "      <td>-0.077120</td>\n",
       "      <td>0.017716</td>\n",
       "      <td>0.051830</td>\n",
       "      <td>-0.051830</td>\n",
       "      <td>0.055069</td>\n",
       "      <td>0.092554</td>\n",
       "      <td>-0.111789</td>\n",
       "      <td>-0.146515</td>\n",
       "      <td>0.009162</td>\n",
       "      <td>0.005389</td>\n",
       "      <td>-0.022060</td>\n",
       "      <td>0.188249</td>\n",
       "      <td>-0.010775</td>\n",
       "      <td>-0.153427</td>\n",
       "    </tr>\n",
       "    <tr>\n",
       "      <th>SibSp</th>\n",
       "      <td>-0.035322</td>\n",
       "      <td>-0.101438</td>\n",
       "      <td>1.000000</td>\n",
       "      <td>0.414838</td>\n",
       "      <td>-0.026599</td>\n",
       "      <td>-0.114631</td>\n",
       "      <td>0.114631</td>\n",
       "      <td>0.061668</td>\n",
       "      <td>-0.250489</td>\n",
       "      <td>0.083462</td>\n",
       "      <td>0.349559</td>\n",
       "      <td>0.068734</td>\n",
       "      <td>-0.059528</td>\n",
       "      <td>-0.026354</td>\n",
       "      <td>-0.054582</td>\n",
       "      <td>-0.055932</td>\n",
       "      <td>0.092548</td>\n",
       "    </tr>\n",
       "    <tr>\n",
       "      <th>Parch</th>\n",
       "      <td>0.081629</td>\n",
       "      <td>-0.077120</td>\n",
       "      <td>0.414838</td>\n",
       "      <td>1.000000</td>\n",
       "      <td>-0.001061</td>\n",
       "      <td>-0.245489</td>\n",
       "      <td>0.245489</td>\n",
       "      <td>0.223575</td>\n",
       "      <td>-0.333905</td>\n",
       "      <td>0.100998</td>\n",
       "      <td>0.267344</td>\n",
       "      <td>0.060814</td>\n",
       "      <td>-0.011069</td>\n",
       "      <td>-0.081228</td>\n",
       "      <td>-0.017633</td>\n",
       "      <td>-0.000734</td>\n",
       "      <td>0.015790</td>\n",
       "    </tr>\n",
       "    <tr>\n",
       "      <th>Fare</th>\n",
       "      <td>0.077097</td>\n",
       "      <td>0.017716</td>\n",
       "      <td>-0.026599</td>\n",
       "      <td>-0.001061</td>\n",
       "      <td>1.000000</td>\n",
       "      <td>-0.000818</td>\n",
       "      <td>0.000818</td>\n",
       "      <td>-0.021943</td>\n",
       "      <td>0.007403</td>\n",
       "      <td>0.020247</td>\n",
       "      <td>-0.013021</td>\n",
       "      <td>-0.096812</td>\n",
       "      <td>0.124331</td>\n",
       "      <td>-0.019239</td>\n",
       "      <td>0.111686</td>\n",
       "      <td>-0.031891</td>\n",
       "      <td>-0.070274</td>\n",
       "    </tr>\n",
       "    <tr>\n",
       "      <th>Female</th>\n",
       "      <td>-0.543351</td>\n",
       "      <td>0.051830</td>\n",
       "      <td>-0.114631</td>\n",
       "      <td>-0.245489</td>\n",
       "      <td>-0.000818</td>\n",
       "      <td>1.000000</td>\n",
       "      <td>-1.000000</td>\n",
       "      <td>-0.550146</td>\n",
       "      <td>0.867334</td>\n",
       "      <td>-0.693916</td>\n",
       "      <td>0.159934</td>\n",
       "      <td>0.119224</td>\n",
       "      <td>-0.082853</td>\n",
       "      <td>-0.074115</td>\n",
       "      <td>-0.098013</td>\n",
       "      <td>-0.064746</td>\n",
       "      <td>0.137143</td>\n",
       "    </tr>\n",
       "    <tr>\n",
       "      <th>Male</th>\n",
       "      <td>0.543351</td>\n",
       "      <td>-0.051830</td>\n",
       "      <td>0.114631</td>\n",
       "      <td>0.245489</td>\n",
       "      <td>0.000818</td>\n",
       "      <td>-1.000000</td>\n",
       "      <td>1.000000</td>\n",
       "      <td>0.550146</td>\n",
       "      <td>-0.867334</td>\n",
       "      <td>0.693916</td>\n",
       "      <td>-0.159934</td>\n",
       "      <td>-0.119224</td>\n",
       "      <td>0.082853</td>\n",
       "      <td>0.074115</td>\n",
       "      <td>0.098013</td>\n",
       "      <td>0.064746</td>\n",
       "      <td>-0.137143</td>\n",
       "    </tr>\n",
       "    <tr>\n",
       "      <th>Mrs</th>\n",
       "      <td>0.341994</td>\n",
       "      <td>0.055069</td>\n",
       "      <td>0.061668</td>\n",
       "      <td>0.223575</td>\n",
       "      <td>-0.021943</td>\n",
       "      <td>-0.550146</td>\n",
       "      <td>0.550146</td>\n",
       "      <td>1.000000</td>\n",
       "      <td>-0.477160</td>\n",
       "      <td>-0.207749</td>\n",
       "      <td>-0.087987</td>\n",
       "      <td>-0.002550</td>\n",
       "      <td>0.067872</td>\n",
       "      <td>-0.090432</td>\n",
       "      <td>0.093608</td>\n",
       "      <td>0.119193</td>\n",
       "      <td>-0.177658</td>\n",
       "    </tr>\n",
       "    <tr>\n",
       "      <th>Mr</th>\n",
       "      <td>-0.549199</td>\n",
       "      <td>0.092554</td>\n",
       "      <td>-0.250489</td>\n",
       "      <td>-0.333905</td>\n",
       "      <td>0.007403</td>\n",
       "      <td>0.867334</td>\n",
       "      <td>-0.867334</td>\n",
       "      <td>-0.477160</td>\n",
       "      <td>1.000000</td>\n",
       "      <td>-0.601857</td>\n",
       "      <td>-0.254903</td>\n",
       "      <td>0.112870</td>\n",
       "      <td>-0.072567</td>\n",
       "      <td>-0.078338</td>\n",
       "      <td>-0.097288</td>\n",
       "      <td>-0.088569</td>\n",
       "      <td>0.155907</td>\n",
       "    </tr>\n",
       "    <tr>\n",
       "      <th>Miss</th>\n",
       "      <td>0.335636</td>\n",
       "      <td>-0.111789</td>\n",
       "      <td>0.083462</td>\n",
       "      <td>0.100998</td>\n",
       "      <td>0.020247</td>\n",
       "      <td>-0.693916</td>\n",
       "      <td>0.693916</td>\n",
       "      <td>-0.207749</td>\n",
       "      <td>-0.601857</td>\n",
       "      <td>1.000000</td>\n",
       "      <td>-0.110981</td>\n",
       "      <td>-0.137144</td>\n",
       "      <td>0.036204</td>\n",
       "      <td>0.167531</td>\n",
       "      <td>0.020348</td>\n",
       "      <td>-0.021903</td>\n",
       "      <td>0.000293</td>\n",
       "    </tr>\n",
       "    <tr>\n",
       "      <th>Other</th>\n",
       "      <td>0.085221</td>\n",
       "      <td>-0.146515</td>\n",
       "      <td>0.349559</td>\n",
       "      <td>0.267344</td>\n",
       "      <td>-0.013021</td>\n",
       "      <td>0.159934</td>\n",
       "      <td>-0.159934</td>\n",
       "      <td>-0.087987</td>\n",
       "      <td>-0.254903</td>\n",
       "      <td>-0.110981</td>\n",
       "      <td>1.000000</td>\n",
       "      <td>0.024264</td>\n",
       "      <td>-0.035225</td>\n",
       "      <td>0.010478</td>\n",
       "      <td>-0.084700</td>\n",
       "      <td>0.009903</td>\n",
       "      <td>0.064918</td>\n",
       "    </tr>\n",
       "    <tr>\n",
       "      <th>C</th>\n",
       "      <td>-0.149683</td>\n",
       "      <td>0.009162</td>\n",
       "      <td>0.068734</td>\n",
       "      <td>0.060814</td>\n",
       "      <td>-0.096812</td>\n",
       "      <td>0.119224</td>\n",
       "      <td>-0.119224</td>\n",
       "      <td>-0.002550</td>\n",
       "      <td>0.112870</td>\n",
       "      <td>-0.137144</td>\n",
       "      <td>0.024264</td>\n",
       "      <td>1.000000</td>\n",
       "      <td>-0.782742</td>\n",
       "      <td>-0.499421</td>\n",
       "      <td>-0.161921</td>\n",
       "      <td>0.189980</td>\n",
       "      <td>-0.015104</td>\n",
       "    </tr>\n",
       "    <tr>\n",
       "      <th>Q</th>\n",
       "      <td>0.168240</td>\n",
       "      <td>0.005389</td>\n",
       "      <td>-0.059528</td>\n",
       "      <td>-0.011069</td>\n",
       "      <td>0.124331</td>\n",
       "      <td>-0.082853</td>\n",
       "      <td>0.082853</td>\n",
       "      <td>0.067872</td>\n",
       "      <td>-0.072567</td>\n",
       "      <td>0.036204</td>\n",
       "      <td>-0.035225</td>\n",
       "      <td>-0.782742</td>\n",
       "      <td>1.000000</td>\n",
       "      <td>-0.148258</td>\n",
       "      <td>0.296423</td>\n",
       "      <td>-0.125416</td>\n",
       "      <td>-0.153329</td>\n",
       "    </tr>\n",
       "    <tr>\n",
       "      <th>S</th>\n",
       "      <td>0.003650</td>\n",
       "      <td>-0.022060</td>\n",
       "      <td>-0.026354</td>\n",
       "      <td>-0.081228</td>\n",
       "      <td>-0.019239</td>\n",
       "      <td>-0.074115</td>\n",
       "      <td>0.074115</td>\n",
       "      <td>-0.090432</td>\n",
       "      <td>-0.078338</td>\n",
       "      <td>0.167531</td>\n",
       "      <td>0.010478</td>\n",
       "      <td>-0.499421</td>\n",
       "      <td>-0.148258</td>\n",
       "      <td>1.000000</td>\n",
       "      <td>-0.155342</td>\n",
       "      <td>-0.127301</td>\n",
       "      <td>0.237449</td>\n",
       "    </tr>\n",
       "    <tr>\n",
       "      <th>1</th>\n",
       "      <td>0.285904</td>\n",
       "      <td>0.188249</td>\n",
       "      <td>-0.054582</td>\n",
       "      <td>-0.017633</td>\n",
       "      <td>0.111686</td>\n",
       "      <td>-0.098013</td>\n",
       "      <td>0.098013</td>\n",
       "      <td>0.093608</td>\n",
       "      <td>-0.097288</td>\n",
       "      <td>0.020348</td>\n",
       "      <td>-0.084700</td>\n",
       "      <td>-0.161921</td>\n",
       "      <td>0.296423</td>\n",
       "      <td>-0.155342</td>\n",
       "      <td>1.000000</td>\n",
       "      <td>-0.288585</td>\n",
       "      <td>-0.626738</td>\n",
       "    </tr>\n",
       "    <tr>\n",
       "      <th>2</th>\n",
       "      <td>0.093349</td>\n",
       "      <td>-0.010775</td>\n",
       "      <td>-0.055932</td>\n",
       "      <td>-0.000734</td>\n",
       "      <td>-0.031891</td>\n",
       "      <td>-0.064746</td>\n",
       "      <td>0.064746</td>\n",
       "      <td>0.119193</td>\n",
       "      <td>-0.088569</td>\n",
       "      <td>-0.021903</td>\n",
       "      <td>0.009903</td>\n",
       "      <td>0.189980</td>\n",
       "      <td>-0.125416</td>\n",
       "      <td>-0.127301</td>\n",
       "      <td>-0.288585</td>\n",
       "      <td>1.000000</td>\n",
       "      <td>-0.565210</td>\n",
       "    </tr>\n",
       "    <tr>\n",
       "      <th>3</th>\n",
       "      <td>-0.322308</td>\n",
       "      <td>-0.153427</td>\n",
       "      <td>0.092548</td>\n",
       "      <td>0.015790</td>\n",
       "      <td>-0.070274</td>\n",
       "      <td>0.137143</td>\n",
       "      <td>-0.137143</td>\n",
       "      <td>-0.177658</td>\n",
       "      <td>0.155907</td>\n",
       "      <td>0.000293</td>\n",
       "      <td>0.064918</td>\n",
       "      <td>-0.015104</td>\n",
       "      <td>-0.153329</td>\n",
       "      <td>0.237449</td>\n",
       "      <td>-0.626738</td>\n",
       "      <td>-0.565210</td>\n",
       "      <td>1.000000</td>\n",
       "    </tr>\n",
       "  </tbody>\n",
       "</table>\n",
       "</div>"
      ],
      "text/plain": [
       "          Survived       Age     SibSp     Parch      Fare    Female  \\\n",
       "Survived  1.000000  0.018445 -0.035322  0.081629  0.077097 -0.543351   \n",
       "Age       0.018445  1.000000 -0.101438 -0.077120  0.017716  0.051830   \n",
       "SibSp    -0.035322 -0.101438  1.000000  0.414838 -0.026599 -0.114631   \n",
       "Parch     0.081629 -0.077120  0.414838  1.000000 -0.001061 -0.245489   \n",
       "Fare      0.077097  0.017716 -0.026599 -0.001061  1.000000 -0.000818   \n",
       "Female   -0.543351  0.051830 -0.114631 -0.245489 -0.000818  1.000000   \n",
       "Male      0.543351 -0.051830  0.114631  0.245489  0.000818 -1.000000   \n",
       "Mrs       0.341994  0.055069  0.061668  0.223575 -0.021943 -0.550146   \n",
       "Mr       -0.549199  0.092554 -0.250489 -0.333905  0.007403  0.867334   \n",
       "Miss      0.335636 -0.111789  0.083462  0.100998  0.020247 -0.693916   \n",
       "Other     0.085221 -0.146515  0.349559  0.267344 -0.013021  0.159934   \n",
       "C        -0.149683  0.009162  0.068734  0.060814 -0.096812  0.119224   \n",
       "Q         0.168240  0.005389 -0.059528 -0.011069  0.124331 -0.082853   \n",
       "S         0.003650 -0.022060 -0.026354 -0.081228 -0.019239 -0.074115   \n",
       "1         0.285904  0.188249 -0.054582 -0.017633  0.111686 -0.098013   \n",
       "2         0.093349 -0.010775 -0.055932 -0.000734 -0.031891 -0.064746   \n",
       "3        -0.322308 -0.153427  0.092548  0.015790 -0.070274  0.137143   \n",
       "\n",
       "              Male       Mrs        Mr      Miss     Other         C  \\\n",
       "Survived  0.543351  0.341994 -0.549199  0.335636  0.085221 -0.149683   \n",
       "Age      -0.051830  0.055069  0.092554 -0.111789 -0.146515  0.009162   \n",
       "SibSp     0.114631  0.061668 -0.250489  0.083462  0.349559  0.068734   \n",
       "Parch     0.245489  0.223575 -0.333905  0.100998  0.267344  0.060814   \n",
       "Fare      0.000818 -0.021943  0.007403  0.020247 -0.013021 -0.096812   \n",
       "Female   -1.000000 -0.550146  0.867334 -0.693916  0.159934  0.119224   \n",
       "Male      1.000000  0.550146 -0.867334  0.693916 -0.159934 -0.119224   \n",
       "Mrs       0.550146  1.000000 -0.477160 -0.207749 -0.087987 -0.002550   \n",
       "Mr       -0.867334 -0.477160  1.000000 -0.601857 -0.254903  0.112870   \n",
       "Miss      0.693916 -0.207749 -0.601857  1.000000 -0.110981 -0.137144   \n",
       "Other    -0.159934 -0.087987 -0.254903 -0.110981  1.000000  0.024264   \n",
       "C        -0.119224 -0.002550  0.112870 -0.137144  0.024264  1.000000   \n",
       "Q         0.082853  0.067872 -0.072567  0.036204 -0.035225 -0.782742   \n",
       "S         0.074115 -0.090432 -0.078338  0.167531  0.010478 -0.499421   \n",
       "1         0.098013  0.093608 -0.097288  0.020348 -0.084700 -0.161921   \n",
       "2         0.064746  0.119193 -0.088569 -0.021903  0.009903  0.189980   \n",
       "3        -0.137143 -0.177658  0.155907  0.000293  0.064918 -0.015104   \n",
       "\n",
       "                 Q         S         1         2         3  \n",
       "Survived  0.168240  0.003650  0.285904  0.093349 -0.322308  \n",
       "Age       0.005389 -0.022060  0.188249 -0.010775 -0.153427  \n",
       "SibSp    -0.059528 -0.026354 -0.054582 -0.055932  0.092548  \n",
       "Parch    -0.011069 -0.081228 -0.017633 -0.000734  0.015790  \n",
       "Fare      0.124331 -0.019239  0.111686 -0.031891 -0.070274  \n",
       "Female   -0.082853 -0.074115 -0.098013 -0.064746  0.137143  \n",
       "Male      0.082853  0.074115  0.098013  0.064746 -0.137143  \n",
       "Mrs       0.067872 -0.090432  0.093608  0.119193 -0.177658  \n",
       "Mr       -0.072567 -0.078338 -0.097288 -0.088569  0.155907  \n",
       "Miss      0.036204  0.167531  0.020348 -0.021903  0.000293  \n",
       "Other    -0.035225  0.010478 -0.084700  0.009903  0.064918  \n",
       "C        -0.782742 -0.499421 -0.161921  0.189980 -0.015104  \n",
       "Q         1.000000 -0.148258  0.296423 -0.125416 -0.153329  \n",
       "S        -0.148258  1.000000 -0.155342 -0.127301  0.237449  \n",
       "1         0.296423 -0.155342  1.000000 -0.288585 -0.626738  \n",
       "2        -0.125416 -0.127301 -0.288585  1.000000 -0.565210  \n",
       "3        -0.153329  0.237449 -0.626738 -0.565210  1.000000  "
      ]
     },
     "execution_count": 26,
     "metadata": {},
     "output_type": "execute_result"
    }
   ],
   "source": [
    "encoded_data.corr()"
   ]
  },
  {
   "cell_type": "code",
   "execution_count": 20,
   "metadata": {},
   "outputs": [
    {
     "name": "stdout",
     "output_type": "stream",
     "text": [
      "Cross-validated scores: 0.828410919036\n",
      "Cross-validated scores without:  Age 0.825032540658\n",
      "Cross-validated scores without:  SibSp 0.823906048906\n",
      "Cross-validated scores without:  Parch 0.817077995203\n",
      "Cross-validated scores without:  Fare 0.828390626828\n",
      "Cross-validated scores without:  Cabin 0.824961426524\n",
      "Cross-validated scores without:  Female 0.828410919036\n",
      "Cross-validated scores without:  Male 0.828410919036\n",
      "Cross-validated scores without:  Mrs 0.828410919036\n",
      "Cross-validated scores without:  Mr 0.82728479291\n",
      "Cross-validated scores without:  Miss 0.828410919036\n",
      "Cross-validated scores without:  Other 0.802467239967\n",
      "Cross-validated scores without:  C 0.828410919036\n",
      "Cross-validated scores without:  Q 0.825012065637\n",
      "Cross-validated scores without:  S 0.828410919036\n",
      "Cross-validated scores without:  1 0.82728479291\n",
      "Cross-validated scores without:  2 0.82728479291\n",
      "Cross-validated scores without:  3 0.829526990464\n"
     ]
    }
   ],
   "source": [
    "#CROSS VALIDATION WITH FEATURE REMOVAL\n",
    "log_reg = LogisticRegression(C=1, fit_intercept=True, penalty=\"l2\")\n",
    "new_c=encoded_data.drop(['Survived','Name'],1)\n",
    "scores = cross_val_score(log_reg, encoded_data.drop(['Survived','Name'],1), encoded_data['Survived'], cv=8)\n",
    "print (\"Cross-validated scores:\", scores.mean())\n",
    "for i in range(0, new_c.shape[1]):\n",
    "    scores = cross_val_score(log_reg, new_c.drop(new_c.columns[i],1), encoded_data['Survived'], cv=8)\n",
    "    print (\"Cross-validated scores without: \",new_c.columns[i], scores.mean())"
   ]
  },
  {
   "cell_type": "code",
   "execution_count": 21,
   "metadata": {},
   "outputs": [
    {
     "name": "stdout",
     "output_type": "stream",
     "text": [
      "Cross-validated scores: 0.828410919036\n",
      "Cross-validated scores without:  Age 0.826158666784\n",
      "Cross-validated scores without:  SibSp 0.82504222973\n",
      "Cross-validated scores without:  Parch 0.820476848602\n",
      "Cross-validated scores without:  Fare 0.827254263192\n",
      "Cross-validated scores without:  Cabin 0.824961426524\n",
      "Cross-validated scores without:  Male 0.823916103604\n",
      "Cross-validated scores without:  Mrs 0.826138191763\n",
      "Cross-validated scores without:  Mr 0.825052650053\n",
      "Cross-validated scores without:  Miss 0.828410919036\n",
      "Cross-validated scores without:  Other 0.802467239967\n",
      "Cross-validated scores without:  C 0.827254263192\n",
      "Cross-validated scores without:  Q 0.828410919036\n",
      "Cross-validated scores without:  S 0.8272745554\n",
      "Cross-validated scores without:  1 0.828410919036\n",
      "Cross-validated scores without:  2 0.828410919036\n",
      "Cross-validated scores without:  3 0.828410919036\n"
     ]
    }
   ],
   "source": [
    "log_reg = LogisticRegression(C=1, fit_intercept=True, penalty=\"l2\")\n",
    "new_c=encoded_data.drop(['Survived','Name', \"Female\"],1)\n",
    "scores = cross_val_score(log_reg, encoded_data.drop(['Survived','Name', \"Female\"],1), encoded_data['Survived'], cv=8)\n",
    "print (\"Cross-validated scores:\", scores.mean())\n",
    "for i in range(0, new_c.shape[1]):\n",
    "    scores = cross_val_score(log_reg, new_c.drop(new_c.columns[i],1), encoded_data['Survived'], cv=8)\n",
    "    print (\"Cross-validated scores without: \",new_c.columns[i], scores.mean())"
   ]
  },
  {
   "cell_type": "code",
   "execution_count": 22,
   "metadata": {},
   "outputs": [
    {
     "name": "stdout",
     "output_type": "stream",
     "text": [
      "Cross-validated scores: 0.8272745554\n",
      "Cross-validated scores without:  Age 0.826158666784\n",
      "Cross-validated scores without:  SibSp 0.82504222973\n",
      "Cross-validated scores without:  Parch 0.82159292003\n",
      "Cross-validated scores without:  Fare 0.827254263192\n",
      "Cross-validated scores without:  Cabin 0.824961426524\n",
      "Cross-validated scores without:  Male 0.821643376331\n",
      "Cross-validated scores without:  Mrs 0.826138191763\n",
      "Cross-validated scores without:  Mr 0.82728479291\n",
      "Cross-validated scores without:  Miss 0.826138191763\n",
      "Cross-validated scores without:  Other 0.802467239967\n",
      "Cross-validated scores without:  C 0.830592605593\n",
      "Cross-validated scores without:  S 0.827233970984\n",
      "Cross-validated scores without:  1 0.823895994208\n",
      "Cross-validated scores without:  2 0.826138191763\n",
      "Cross-validated scores without:  3 0.828410919036\n"
     ]
    }
   ],
   "source": [
    "log_reg = LogisticRegression(C=1, fit_intercept=True, penalty=\"l2\")\n",
    "new_c=encoded_data.drop(['Survived','Name', \"Female\", \"Q\"],1)\n",
    "scores = cross_val_score(log_reg, encoded_data.drop(['Survived','Name', \"Female\", \"S\"],1), encoded_data['Survived'], cv=8)\n",
    "print (\"Cross-validated scores:\", scores.mean())\n",
    "for i in range(0, new_c.shape[1]):\n",
    "    scores = cross_val_score(log_reg, new_c.drop(new_c.columns[i],1), encoded_data['Survived'], cv=8)\n",
    "    print (\"Cross-validated scores without: \",new_c.columns[i], scores.mean())"
   ]
  },
  {
   "cell_type": "code",
   "execution_count": 23,
   "metadata": {},
   "outputs": [
    {
     "name": "stdout",
     "output_type": "stream",
     "text": [
      "Cross-validated scores: 0.828410919036\n",
      "Cross-validated scores without:  Age 0.826158666784\n",
      "Cross-validated scores without:  SibSp 0.823926158301\n",
      "Cross-validated scores without:  Parch 0.820476848602\n",
      "Cross-validated scores without:  Fare 0.829506698257\n",
      "Cross-validated scores without:  Cabin 0.827193569381\n",
      "Cross-validated scores without:  Male 0.821643376331\n",
      "Cross-validated scores without:  Mrs 0.82837033462\n",
      "Cross-validated scores without:  Mr 0.828400864338\n",
      "Cross-validated scores without:  Miss 0.825022120335\n",
      "Cross-validated scores without:  Other 0.802467239967\n",
      "Cross-validated scores without:  C 0.829446004446\n",
      "Cross-validated scores without:  S 0.826117899555\n",
      "Cross-validated scores without:  1 0.831728786416\n",
      "Cross-validated scores without:  2 0.822709174272\n"
     ]
    }
   ],
   "source": [
    "log_reg = LogisticRegression(C=1, fit_intercept=True, penalty=\"l2\")\n",
    "new_c=encoded_data.drop(['Survived','Name', \"Female\", \"Q\", \"3\"],1)\n",
    "scores = cross_val_score(log_reg, encoded_data.drop(['Survived','Name', \"Female\", \"S\",\"2\"],1), encoded_data['Survived'], cv=8)\n",
    "print (\"Cross-validated scores:\", scores.mean())\n",
    "for i in range(0, new_c.shape[1]):\n",
    "    scores = cross_val_score(log_reg, new_c.drop(new_c.columns[i],1), encoded_data['Survived'], cv=8)\n",
    "    print (\"Cross-validated scores without: \",new_c.columns[i], scores.mean())"
   ]
  },
  {
   "cell_type": "code",
   "execution_count": 24,
   "metadata": {},
   "outputs": [
    {
     "name": "stdout",
     "output_type": "stream",
     "text": [
      "Cross-validated scores: 0.826168904294\n",
      "Cross-validated scores without:  SibSp 0.819411416286\n",
      "Cross-validated scores without:  Parch 0.818265363578\n",
      "Cross-validated scores without:  Fare 0.8228003978\n",
      "Cross-validated scores without:  Cabin 0.822759996197\n",
      "Cross-validated scores without:  Male 0.821653796654\n",
      "Cross-validated scores without:  Mrs 0.827284975722\n",
      "Cross-validated scores without:  Mr 0.822800580613\n",
      "Cross-validated scores without:  Miss 0.826168904294\n",
      "Cross-validated scores without:  Other 0.799078806891\n",
      "Cross-validated scores without:  C 0.826148794899\n",
      "Cross-validated scores without:  Q 0.827264683515\n",
      "Cross-validated scores without:  1 0.82501224845\n",
      "Cross-validated scores without:  3 0.820487268925\n"
     ]
    }
   ],
   "source": [
    "log_reg = LogisticRegression(C=1, fit_intercept=True, penalty=\"l1\")\n",
    "new_c=encoded_data.drop(['Survived','Name', \"Female\", \"S\", \"2\", \"Age\"],1)\n",
    "scores = cross_val_score(log_reg, encoded_data.drop(['Survived','Name', \"Female\",  \"S\", \"2\", \"Age\"],1), encoded_data['Survived'], cv=8)\n",
    "print (\"Cross-validated scores:\", scores.mean())\n",
    "for i in range(0, new_c.shape[1]):\n",
    "    scores = cross_val_score(log_reg, new_c.drop(new_c.columns[i],1), encoded_data['Survived'], cv=8)\n",
    "    print (\"Cross-validated scores without: \",new_c.columns[i], scores.mean())"
   ]
  },
  {
   "cell_type": "code",
   "execution_count": null,
   "metadata": {
    "collapsed": true
   },
   "outputs": [],
   "source": []
  },
  {
   "cell_type": "code",
   "execution_count": 53,
   "metadata": {
    "collapsed": true
   },
   "outputs": [],
   "source": [
    "#OUTPUT DATA TO FILE\n",
    "import csv\n",
    "import numpy\n",
    "log_reg = LogisticRegression(C=1, fit_intercept=True, penalty=\"l2\")\n",
    "log_reg.fit(encoded_data.drop(['Survived','Name',\"Female\",  \"S\", \"2\", \"Age\", \"Mr\"],1), encoded_data['Survived'])\n",
    "res=log_reg.predict(encoded_data_test.drop(['Name', \"Female\",  \"S\", \"2\", \"Age\", \"Mr\"],1))\n",
    "id = test['PassengerId'].values\n",
    "joined = list(map(list, zip(id,res)))\n",
    "with open(r\"C:\\Users\\Mark\\Documents\\GitHub\\Titanic\\output.csv\", 'w') as myfile:\n",
    "    wr = csv.writer(myfile, quoting=csv.QUOTE_ALL, lineterminator = '\\n')\n",
    "    wr.writerow([\"PassengerId\",\"Survived\"])\n",
    "    for a in joined:\n",
    "        wr.writerow(a)"
   ]
  },
  {
   "cell_type": "code",
   "execution_count": null,
   "metadata": {
    "collapsed": true
   },
   "outputs": [],
   "source": []
  },
  {
   "cell_type": "code",
   "execution_count": null,
   "metadata": {
    "collapsed": true
   },
   "outputs": [],
   "source": []
  },
  {
   "cell_type": "code",
   "execution_count": null,
   "metadata": {
    "collapsed": true
   },
   "outputs": [],
   "source": []
  }
 ],
 "metadata": {
  "kernelspec": {
   "display_name": "Python 3",
   "language": "python",
   "name": "python3"
  },
  "language_info": {
   "codemirror_mode": {
    "name": "ipython",
    "version": 3
   },
   "file_extension": ".py",
   "mimetype": "text/x-python",
   "name": "python",
   "nbconvert_exporter": "python",
   "pygments_lexer": "ipython3",
   "version": "3.6.2"
  }
 },
 "nbformat": 4,
 "nbformat_minor": 2
}
